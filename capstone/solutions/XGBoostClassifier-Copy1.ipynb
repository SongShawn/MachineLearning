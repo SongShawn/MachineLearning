{
 "cells": [
  {
   "cell_type": "code",
   "execution_count": null,
   "metadata": {
    "scrolled": false
   },
   "outputs": [],
   "source": [
    "import xgboost as xgb\n",
    "import pandas as pd\n",
    "import numpy as np\n",
    "import preprocess as datapre\n",
    "\n",
    "from sklearn.model_selection import GridSearchCV, StratifiedKFold\n",
    "from sklearn.metrics import log_loss, make_scorer\n",
    "from sklearn.preprocessing import LabelEncoder"
   ]
  },
  {
   "cell_type": "code",
   "execution_count": null,
   "metadata": {
    "scrolled": false
   },
   "outputs": [],
   "source": [
    "origin_data = pd.read_csv(\"../datasets/train_preprocess.csv\")"
   ]
  },
  {
   "cell_type": "code",
   "execution_count": null,
   "metadata": {
    "scrolled": false
   },
   "outputs": [],
   "source": [
    "train_data = datapre.dataset_sample(origin_data, frac=0.001)"
   ]
  },
  {
   "cell_type": "code",
   "execution_count": null,
   "metadata": {
    "scrolled": false
   },
   "outputs": [],
   "source": [
    "feature_names = ['Year', 'Month', 'Hour', 'DayOfWeekID', 'PdDistrictID', \\\n",
    "                 'HasBlock', 'RoadTypeID', 'RoadBlockID', 'RoadName1ID', 'RoadName2ID', 'X', 'Y']"
   ]
  },
  {
   "cell_type": "code",
   "execution_count": null,
   "metadata": {
    "scrolled": false
   },
   "outputs": [],
   "source": [
    "X = train_data[feature_names]"
   ]
  },
  {
   "cell_type": "code",
   "execution_count": null,
   "metadata": {
    "scrolled": false
   },
   "outputs": [],
   "source": [
    "y_true = train_data[\"Category\"]"
   ]
  },
  {
   "cell_type": "code",
   "execution_count": null,
   "metadata": {
    "scrolled": false
   },
   "outputs": [],
   "source": [
    "def neg_log_loss(y_true, y_pred, eps=1e-15, normalize=True, sample_weight=None, labels=None):\n",
    "    return -log_loss(y_true, y_pred, eps, normalize, sample_weight, labels)\n",
    "\n",
    "call_neg_log_loss = make_scorer(neg_log_loss, needs_proba=True)"
   ]
  },
  {
   "cell_type": "code",
   "execution_count": null,
   "metadata": {
    "scrolled": false
   },
   "outputs": [],
   "source": [
    "base_params = dict(max_depth=6, learning_rate=0.1, n_estimators=100, objective=\"multi:softprob\",\n",
    "                   n_job=-1, gamma=0.3, min_child_weight=5, subsample=0.5, colsample_bytree=0.5, random_state=10)"
   ]
  },
  {
   "cell_type": "code",
   "execution_count": null,
   "metadata": {
    "scrolled": false
   },
   "outputs": [],
   "source": [
    "# param_grid = {\"n_estimators\": list(range(400, 2001, 400))}\n",
    "param_grid = {\"n_estimators\": list(range(10, 20, 10))}\n",
    "\n",
    "xgbclf = xgb.XGBClassifier(**base_params)\n",
    "cv_clf_n_estimators = GridSearchCV(estimator=xgbclf, \n",
    "                                  param_grid = param_grid,\n",
    "                                  scoring = call_neg_log_loss, n_jobs=-1,\n",
    "                                  cv=5, verbose=4, return_train_score=True, refit=False)\n",
    "\n",
    "from time import time\n",
    "start = time()\n",
    "cv_clf_n_estimators.fit(X, y_true)\n",
    "print(\"Training elapse %d sencond.\" % (time()-start))"
   ]
  },
  {
   "cell_type": "code",
   "execution_count": null,
   "metadata": {
    "scrolled": false
   },
   "outputs": [],
   "source": [
    "cv_clf_n_estimators.best_params_"
   ]
  },
  {
   "cell_type": "code",
   "execution_count": null,
   "metadata": {
    "scrolled": false
   },
   "outputs": [],
   "source": [
    "cv_clf_n_estimators.cv_results_"
   ]
  },
  {
   "cell_type": "code",
   "execution_count": null,
   "metadata": {
    "scrolled": false
   },
   "outputs": [],
   "source": [
    "param_grid = {\"max_depth\": list(range(2,3))}\n",
    "\n",
    "base_params[\"n_estimators\"] = cv_clf_n_estimators.best_params_[\"n_estimators\"]\n",
    "xgbclf = xgb.XGBClassifier(**base_params)\n",
    "cv_clf_max_depth = GridSearchCV(estimator=xgbclf, \n",
    "                                  param_grid = param_grid,\n",
    "                                  scoring = call_neg_log_loss, n_jobs=-1,\n",
    "                                  cv=5, verbose=4, return_train_score=True, refit=False)\n",
    "\n",
    "from time import time\n",
    "start = time()\n",
    "cv_clf_max_depth.fit(X, y_true)\n",
    "print(\"Training elapse %d sencond.\" % (time()-start))"
   ]
  },
  {
   "cell_type": "code",
   "execution_count": null,
   "metadata": {
    "scrolled": false
   },
   "outputs": [],
   "source": [
    "cv_clf_max_depth.best_params_"
   ]
  },
  {
   "cell_type": "code",
   "execution_count": null,
   "metadata": {
    "scrolled": false
   },
   "outputs": [],
   "source": [
    "cv_clf_max_depth.cv_results_"
   ]
  },
  {
   "cell_type": "code",
   "execution_count": null,
   "metadata": {
    "scrolled": false
   },
   "outputs": [],
   "source": [
    "param_grid = {\"subsample\": [i/10.0 for i in range(2,3)]}\n",
    "\n",
    "base_params[\"max_depth\"] = cv_clf_max_depth.best_params_[\"max_depth\"]\n",
    "xgbclf = xgb.XGBClassifier(**base_params)\n",
    "cv_clf_subsample = GridSearchCV(estimator=xgbclf, \n",
    "                                  param_grid = param_grid,\n",
    "                                  scoring = call_neg_log_loss, n_jobs=-1,\n",
    "                                  cv=5, verbose=4, return_train_score=True, refit=False)\n",
    "\n",
    "from time import time\n",
    "start = time()\n",
    "cv_clf_subsample.fit(X, y_true)\n",
    "print(\"Training elapse %d sencond.\" % (time()-start))"
   ]
  },
  {
   "cell_type": "code",
   "execution_count": null,
   "metadata": {
    "scrolled": false
   },
   "outputs": [],
   "source": [
    "cv_clf_subsample.best_params_"
   ]
  },
  {
   "cell_type": "code",
   "execution_count": null,
   "metadata": {
    "scrolled": false
   },
   "outputs": [],
   "source": [
    "cv_clf_subsample.cv_results_"
   ]
  },
  {
   "cell_type": "code",
   "execution_count": null,
   "metadata": {
    "scrolled": false
   },
   "outputs": [],
   "source": [
    "param_grid = {\"colsample_bytree\": [i/10.0 for i in range(2,3)]}\n",
    "\n",
    "base_params[\"subsample\"] = cv_clf_subsample.best_params_[\"subsample\"]\n",
    "xgbclf = xgb.XGBClassifier(**base_params)\n",
    "cv_clf_colsample_bytree = GridSearchCV(estimator=xgbclf, \n",
    "                                  param_grid = param_grid,\n",
    "                                  scoring = call_neg_log_loss, n_jobs=-1,\n",
    "                                  cv=5, verbose=4, return_train_score=True, refit=False)\n",
    "\n",
    "from time import time\n",
    "start = time()\n",
    "cv_clf_colsample_bytree.fit(X, y_true)\n",
    "print(\"Training elapse %d sencond.\" % (time()-start))"
   ]
  },
  {
   "cell_type": "code",
   "execution_count": null,
   "metadata": {
    "scrolled": false
   },
   "outputs": [],
   "source": [
    "cv_clf_colsample_bytree.best_params_"
   ]
  },
  {
   "cell_type": "code",
   "execution_count": null,
   "metadata": {
    "scrolled": false
   },
   "outputs": [],
   "source": [
    "cv_clf_colsample_bytree.cv_results_"
   ]
  },
  {
   "cell_type": "code",
   "execution_count": null,
   "metadata": {
    "scrolled": false
   },
   "outputs": [],
   "source": [
    "param_grid = {\"gamma\": [i/10.0 for i in range(1,2)]}\n",
    "\n",
    "base_params[\"colsample_bytree\"] = cv_clf_colsample_bytree.best_params_[\"colsample_bytree\"]\n",
    "xgbclf = xgb.XGBClassifier(**base_params)\n",
    "cv_clf_gamma = GridSearchCV(estimator=xgbclf, \n",
    "                                  param_grid = param_grid,\n",
    "                                  scoring = call_neg_log_loss, n_jobs=-1,\n",
    "                                  cv=5, verbose=4, return_train_score=True, refit=False)\n",
    "\n",
    "from time import time\n",
    "start = time()\n",
    "cv_clf_gamma.fit(X, y_true)\n",
    "print(\"Training elapse %d sencond.\" % (time()-start))"
   ]
  },
  {
   "cell_type": "code",
   "execution_count": null,
   "metadata": {
    "scrolled": false
   },
   "outputs": [],
   "source": [
    "cv_clf_gamma.best_params_"
   ]
  },
  {
   "cell_type": "code",
   "execution_count": null,
   "metadata": {
    "scrolled": false
   },
   "outputs": [],
   "source": [
    "cv_clf_gamma.cv_results_"
   ]
  },
  {
   "cell_type": "code",
   "execution_count": null,
   "metadata": {},
   "outputs": [],
   "source": [
    "param_grid = {\"min_child_weight\": list(range(2,3))}\n",
    "\n",
    "base_params[\"gamma\"] = cv_clf_gamma.best_params_[\"gamma\"]\n",
    "xgbclf = xgb.XGBClassifier(**base_params)\n",
    "cv_clf_min_child_weight = GridSearchCV(estimator=xgbclf, \n",
    "                                  param_grid = param_grid,\n",
    "                                  scoring = call_neg_log_loss, n_jobs=-1,\n",
    "                                  cv=5, verbose=4, return_train_score=True, refit=False)\n",
    "\n",
    "from time import time\n",
    "start = time()\n",
    "cv_clf_min_child_weight.fit(X, y_true)\n",
    "print(\"Training elapse %d sencond.\" % (time()-start))"
   ]
  },
  {
   "cell_type": "code",
   "execution_count": null,
   "metadata": {
    "scrolled": false
   },
   "outputs": [],
   "source": [
    "cv_clf_min_child_weight.best_params_"
   ]
  },
  {
   "cell_type": "code",
   "execution_count": null,
   "metadata": {},
   "outputs": [],
   "source": [
    "cv_clf_min_child_weight.cv_results_"
   ]
  },
  {
   "cell_type": "code",
   "execution_count": null,
   "metadata": {
    "scrolled": false
   },
   "outputs": [],
   "source": [
    "param_grid = {\"n_estimators\": list(range(2, 3))}\n",
    "\n",
    "base_params[\"min_child_weight\"] = cv_clf_min_child_weight.best_params_[\"min_child_weight\"]\n",
    "xgbclf = xgb.XGBClassifier(**base_params)\n",
    "cv_clf_final = GridSearchCV(estimator=xgbclf, \n",
    "                                  param_grid = param_grid,\n",
    "                                  scoring = call_neg_log_loss, n_jobs=-1,\n",
    "                                  cv=5, verbose=4, return_train_score=True, refit=False)\n",
    "\n",
    "from time import time\n",
    "start = time()\n",
    "cv_clf_final.fit(X, y_true)\n",
    "print(\"Training elapse %d sencond.\" % (time()-start))"
   ]
  },
  {
   "cell_type": "code",
   "execution_count": null,
   "metadata": {},
   "outputs": [],
   "source": [
    "cv_clf_final.best_params_"
   ]
  },
  {
   "cell_type": "code",
   "execution_count": null,
   "metadata": {},
   "outputs": [],
   "source": [
    "cv_clf_final.cv_results_"
   ]
  },
  {
   "cell_type": "markdown",
   "metadata": {},
   "source": [
    "#### 使用整个训练集进行训练"
   ]
  },
  {
   "cell_type": "code",
   "execution_count": null,
   "metadata": {},
   "outputs": [],
   "source": [
    "total_X = origin_data[feature_names]\n",
    "total_y_true = origin_data[\"Category\"]"
   ]
  },
  {
   "cell_type": "code",
   "execution_count": null,
   "metadata": {},
   "outputs": [],
   "source": [
    "base_param[\"n_estimators\"] = cv_clf_final.best_params_[\"n_estimators\"]\n",
    "print(base_params)"
   ]
  },
  {
   "cell_type": "code",
   "execution_count": null,
   "metadata": {},
   "outputs": [],
   "source": [
    "xgbclf_best = xgb.XGBClassifier(**base_params)\n",
    "start = time()\n",
    "xgbclf_best.fit(total_X, total_y_true,\n",
    "                eval_set=[(total_X, total_y_true)],\n",
    "                eval_metric=\"mlogloss\",\n",
    "                verbose=True\n",
    "               )\n",
    "print(\"Training elapse %d sencond.\" % (time()-start))"
   ]
  },
  {
   "cell_type": "markdown",
   "metadata": {},
   "source": [
    "#### 预测测试集"
   ]
  },
  {
   "cell_type": "code",
   "execution_count": null,
   "metadata": {},
   "outputs": [],
   "source": [
    "valid_data = pd.read_csv(\"../datasets/test_preprocess.csv\")\n",
    "valid_X = valid_data[feature_names]"
   ]
  },
  {
   "cell_type": "code",
   "execution_count": null,
   "metadata": {},
   "outputs": [],
   "source": [
    "y_pred_prob = np.round(xgbclf_best.predict_proba(valid_X), 4)\n",
    "csv_output = pd.DataFrame(columns=xgbclf.classes_, data=y_pred_prob)\n",
    "csv_output.insert(0, \"Id\", valid_data[\"Id\"])\n",
    "csv_output.to_csv(\"../results/XGBClassifier_best.csv\", index=False)"
   ]
  }
 ],
 "metadata": {
  "kernelspec": {
   "display_name": "Python 3",
   "language": "python",
   "name": "python3"
  },
  "language_info": {
   "codemirror_mode": {
    "name": "ipython",
    "version": 3
   },
   "file_extension": ".py",
   "mimetype": "text/x-python",
   "name": "python",
   "nbconvert_exporter": "python",
   "pygments_lexer": "ipython3",
   "version": "3.6.7"
  }
 },
 "nbformat": 4,
 "nbformat_minor": 2
}
