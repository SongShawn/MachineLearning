{
 "cells": [
  {
   "cell_type": "code",
   "execution_count": 1,
   "metadata": {
    "scrolled": false
   },
   "outputs": [],
   "source": [
    "import xgboost as xgb\n",
    "import pandas as pd\n",
    "import numpy as np\n",
    "import preprocess as datapre\n",
    "\n",
    "from sklearn.model_selection import GridSearchCV, StratifiedKFold\n",
    "from sklearn.metrics import log_loss, make_scorer\n",
    "from sklearn.preprocessing import LabelEncoder"
   ]
  },
  {
   "cell_type": "code",
   "execution_count": 2,
   "metadata": {
    "scrolled": false
   },
   "outputs": [],
   "source": [
    "origin_data = pd.read_csv(\"../datasets/train_preprocess.csv\")"
   ]
  },
  {
   "cell_type": "code",
   "execution_count": 3,
   "metadata": {
    "scrolled": false
   },
   "outputs": [],
   "source": [
    "train_data = datapre.dataset_sample(origin_data, frac=0.05)"
   ]
  },
  {
   "cell_type": "code",
   "execution_count": 4,
   "metadata": {},
   "outputs": [
    {
     "data": {
      "text/plain": [
       "(44206, 22)"
      ]
     },
     "execution_count": 4,
     "metadata": {},
     "output_type": "execute_result"
    }
   ],
   "source": [
    "train_data.shape"
   ]
  },
  {
   "cell_type": "code",
   "execution_count": 5,
   "metadata": {
    "scrolled": false
   },
   "outputs": [],
   "source": [
    "feature_names = ['Year', 'Month', 'Hour', 'DayOfWeekID', 'PdDistrictID', \\\n",
    "                 'HasBlock', 'RoadTypeID', 'RoadBlockID', 'RoadName1ID', 'RoadName2ID', 'X', 'Y']"
   ]
  },
  {
   "cell_type": "code",
   "execution_count": 6,
   "metadata": {
    "scrolled": false
   },
   "outputs": [],
   "source": [
    "X = train_data[feature_names]"
   ]
  },
  {
   "cell_type": "code",
   "execution_count": 7,
   "metadata": {
    "scrolled": false
   },
   "outputs": [],
   "source": [
    "y_true = train_data[\"Category\"]"
   ]
  },
  {
   "cell_type": "code",
   "execution_count": 8,
   "metadata": {
    "scrolled": false
   },
   "outputs": [],
   "source": [
    "def neg_log_loss(y_true, y_pred, eps=1e-15, normalize=True, sample_weight=None, labels=None):\n",
    "    return -log_loss(y_true, y_pred, eps, normalize, sample_weight, labels)\n",
    "\n",
    "call_neg_log_loss = make_scorer(neg_log_loss, needs_proba=True)"
   ]
  },
  {
   "cell_type": "code",
   "execution_count": 9,
   "metadata": {
    "scrolled": false
   },
   "outputs": [],
   "source": [
    "base_params = dict(max_depth=6, learning_rate=0.1, n_estimators=100, objective=\"multi:softprob\",\n",
    "                   n_job=-1, gamma=0.3, min_child_weight=5, subsample=0.5, colsample_bytree=0.5, random_state=10)"
   ]
  },
  {
   "cell_type": "code",
   "execution_count": 10,
   "metadata": {
    "scrolled": false
   },
   "outputs": [
    {
     "name": "stdout",
     "output_type": "stream",
     "text": [
      "Fitting 5 folds for each of 2 candidates, totalling 10 fits\n"
     ]
    },
    {
     "name": "stderr",
     "output_type": "stream",
     "text": [
      "[Parallel(n_jobs=-1)]: Using backend LokyBackend with 8 concurrent workers.\n",
      "[Parallel(n_jobs=-1)]: Done   4 out of  10 | elapsed: 16.2min remaining: 24.2min\n",
      "[Parallel(n_jobs=-1)]: Done   7 out of  10 | elapsed: 29.9min remaining: 12.8min\n"
     ]
    },
    {
     "name": "stdout",
     "output_type": "stream",
     "text": [
      "Training elapse 2503 sencond.\n"
     ]
    },
    {
     "name": "stderr",
     "output_type": "stream",
     "text": [
      "[Parallel(n_jobs=-1)]: Done  10 out of  10 | elapsed: 41.7min remaining:    0.0s\n",
      "[Parallel(n_jobs=-1)]: Done  10 out of  10 | elapsed: 41.7min finished\n"
     ]
    }
   ],
   "source": [
    "param_grid = {\"n_estimators\": list(range(400, 1001, 400))}\n",
    "# param_grid = {\"n_estimators\": list(range(10, 20, 10))}\n",
    "\n",
    "xgbclf = xgb.XGBClassifier(**base_params)\n",
    "cv_clf_n_estimators = GridSearchCV(estimator=xgbclf, \n",
    "                                  param_grid = param_grid,\n",
    "                                  scoring = call_neg_log_loss, n_jobs=-1,\n",
    "                                  cv=5, verbose=4, return_train_score=True, refit=False)\n",
    "\n",
    "from time import time\n",
    "start = time()\n",
    "cv_clf_n_estimators.fit(X, y_true)\n",
    "print(\"Training elapse %d sencond.\" % (time()-start))"
   ]
  },
  {
   "cell_type": "code",
   "execution_count": 11,
   "metadata": {
    "scrolled": false
   },
   "outputs": [
    {
     "data": {
      "text/plain": [
       "{'n_estimators': 400}"
      ]
     },
     "execution_count": 11,
     "metadata": {},
     "output_type": "execute_result"
    }
   ],
   "source": [
    "cv_clf_n_estimators.best_params_"
   ]
  },
  {
   "cell_type": "code",
   "execution_count": 12,
   "metadata": {
    "scrolled": false
   },
   "outputs": [
    {
     "data": {
      "text/plain": [
       "{'mean_fit_time': array([ 706.2623425 , 1240.52460256]),\n",
       " 'std_fit_time': array([  6.15049484, 106.93194536]),\n",
       " 'mean_score_time': array([50.70109897, 90.33956256]),\n",
       " 'std_score_time': array([0.49489602, 2.71716984]),\n",
       " 'param_n_estimators': masked_array(data=[400, 800],\n",
       "              mask=[False, False],\n",
       "        fill_value='?',\n",
       "             dtype=object),\n",
       " 'params': [{'n_estimators': 400}, {'n_estimators': 800}],\n",
       " 'split0_test_score': array([-2.52965947, -2.64010256]),\n",
       " 'split1_test_score': array([-2.54994375, -2.67232373]),\n",
       " 'split2_test_score': array([-2.53260182, -2.64737798]),\n",
       " 'split3_test_score': array([-2.53605858, -2.64986897]),\n",
       " 'split4_test_score': array([-2.53708622, -2.65612748]),\n",
       " 'mean_test_score': array([-2.53706921, -2.65315748]),\n",
       " 'std_test_score': array([0.0069547 , 0.01087493]),\n",
       " 'rank_test_score': array([1, 2]),\n",
       " 'split0_train_score': array([-1.61464122, -1.21133016]),\n",
       " 'split1_train_score': array([-1.60947029, -1.20253583]),\n",
       " 'split2_train_score': array([-1.6152229 , -1.20855433]),\n",
       " 'split3_train_score': array([-1.61352244, -1.20993235]),\n",
       " 'split4_train_score': array([-1.61289436, -1.2050412 ]),\n",
       " 'mean_train_score': array([-1.61315024, -1.20747877]),\n",
       " 'std_train_score': array([0.0020132, 0.0032368])}"
      ]
     },
     "execution_count": 12,
     "metadata": {},
     "output_type": "execute_result"
    }
   ],
   "source": [
    "cv_clf_n_estimators.cv_results_"
   ]
  },
  {
   "cell_type": "code",
   "execution_count": 13,
   "metadata": {
    "scrolled": false
   },
   "outputs": [
    {
     "name": "stdout",
     "output_type": "stream",
     "text": [
      "Fitting 5 folds for each of 6 candidates, totalling 30 fits\n"
     ]
    },
    {
     "name": "stderr",
     "output_type": "stream",
     "text": [
      "[Parallel(n_jobs=-1)]: Using backend LokyBackend with 8 concurrent workers.\n",
      "[Parallel(n_jobs=-1)]: Done   9 tasks      | elapsed: 30.5min\n",
      "[Parallel(n_jobs=-1)]: Done  23 out of  30 | elapsed: 53.7min remaining: 16.3min\n"
     ]
    },
    {
     "name": "stdout",
     "output_type": "stream",
     "text": [
      "Training elapse 4311 sencond.\n"
     ]
    },
    {
     "name": "stderr",
     "output_type": "stream",
     "text": [
      "[Parallel(n_jobs=-1)]: Done  30 out of  30 | elapsed: 71.9min finished\n"
     ]
    }
   ],
   "source": [
    "param_grid = {\"max_depth\": list(range(5,11))}\n",
    "\n",
    "base_params[\"n_estimators\"] = cv_clf_n_estimators.best_params_[\"n_estimators\"]\n",
    "xgbclf = xgb.XGBClassifier(**base_params)\n",
    "cv_clf_max_depth = GridSearchCV(estimator=xgbclf, \n",
    "                                  param_grid = param_grid,\n",
    "                                  scoring = call_neg_log_loss, n_jobs=-1,\n",
    "                                  cv=5, verbose=4, return_train_score=True, refit=False)\n",
    "\n",
    "from time import time\n",
    "start = time()\n",
    "cv_clf_max_depth.fit(X, y_true)\n",
    "print(\"Training elapse %d sencond.\" % (time()-start))"
   ]
  },
  {
   "cell_type": "code",
   "execution_count": 14,
   "metadata": {
    "scrolled": false
   },
   "outputs": [
    {
     "data": {
      "text/plain": [
       "{'max_depth': 5}"
      ]
     },
     "execution_count": 14,
     "metadata": {},
     "output_type": "execute_result"
    }
   ],
   "source": [
    "cv_clf_max_depth.best_params_"
   ]
  },
  {
   "cell_type": "code",
   "execution_count": 15,
   "metadata": {
    "scrolled": false
   },
   "outputs": [
    {
     "data": {
      "text/plain": [
       "{'mean_fit_time': array([626.19248233, 702.92684155, 769.43168325, 828.9511951 ,\n",
       "        875.59429774, 842.25797238]),\n",
       " 'std_fit_time': array([ 3.45494354,  2.82458215,  5.74190074,  2.62147023, 28.06416944,\n",
       "         9.61565067]),\n",
       " 'mean_score_time': array([47.0621099 , 52.13231273, 55.64878421, 55.9638371 , 60.83959661,\n",
       "        58.87585282]),\n",
       " 'std_score_time': array([0.09338096, 4.88887037, 1.73601142, 3.34069386, 4.68284527,\n",
       "        1.80940752]),\n",
       " 'param_max_depth': masked_array(data=[5, 6, 7, 8, 9, 10],\n",
       "              mask=[False, False, False, False, False, False],\n",
       "        fill_value='?',\n",
       "             dtype=object),\n",
       " 'params': [{'max_depth': 5},\n",
       "  {'max_depth': 6},\n",
       "  {'max_depth': 7},\n",
       "  {'max_depth': 8},\n",
       "  {'max_depth': 9},\n",
       "  {'max_depth': 10}],\n",
       " 'split0_test_score': array([-2.50880498, -2.52965947, -2.56193835, -2.59330729, -2.6279933 ,\n",
       "        -2.65627778]),\n",
       " 'split1_test_score': array([-2.52031923, -2.54994375, -2.58666441, -2.62619213, -2.65724265,\n",
       "        -2.69486221]),\n",
       " 'split2_test_score': array([-2.50514564, -2.53260182, -2.56373482, -2.59899446, -2.6377961 ,\n",
       "        -2.67134164]),\n",
       " 'split3_test_score': array([-2.5106143 , -2.53605858, -2.56907595, -2.59595507, -2.6427021 ,\n",
       "        -2.67457873]),\n",
       " 'split4_test_score': array([-2.51223643, -2.53708622, -2.57038487, -2.60586869, -2.64138119,\n",
       "        -2.68046877]),\n",
       " 'mean_test_score': array([-2.51142409, -2.53706921, -2.57035902, -2.60406303, -2.64142045,\n",
       "        -2.67550014]),\n",
       " 'std_test_score': array([0.00503554, 0.0069547 , 0.00874753, 0.01183677, 0.00944327,\n",
       "        0.01255419]),\n",
       " 'rank_test_score': array([1, 2, 3, 4, 5, 6]),\n",
       " 'split0_train_score': array([-1.81658557, -1.61464122, -1.41264508, -1.22431605, -1.05791626,\n",
       "        -0.91605054]),\n",
       " 'split1_train_score': array([-1.81145589, -1.60947029, -1.4075836 , -1.21912894, -1.05416156,\n",
       "        -0.91551576]),\n",
       " 'split2_train_score': array([-1.81460077, -1.6152229 , -1.41436946, -1.22313187, -1.05490118,\n",
       "        -0.91391066]),\n",
       " 'split3_train_score': array([-1.81633425, -1.61352244, -1.41288582, -1.22490731, -1.0579825 ,\n",
       "        -0.91529453]),\n",
       " 'split4_train_score': array([-1.8140315 , -1.61289436, -1.41160386, -1.22349306, -1.05457194,\n",
       "        -0.9187973 ]),\n",
       " 'mean_train_score': array([-1.8146016 , -1.61315024, -1.41181756, -1.22299545, -1.05590669,\n",
       "        -0.91591376]),\n",
       " 'std_train_score': array([0.0018525 , 0.0020132 , 0.00229392, 0.00203053, 0.00168437,\n",
       "        0.00160548])}"
      ]
     },
     "execution_count": 15,
     "metadata": {},
     "output_type": "execute_result"
    }
   ],
   "source": [
    "cv_clf_max_depth.cv_results_"
   ]
  },
  {
   "cell_type": "code",
   "execution_count": 16,
   "metadata": {
    "scrolled": false
   },
   "outputs": [
    {
     "name": "stdout",
     "output_type": "stream",
     "text": [
      "Fitting 5 folds for each of 6 candidates, totalling 30 fits\n"
     ]
    },
    {
     "name": "stderr",
     "output_type": "stream",
     "text": [
      "[Parallel(n_jobs=-1)]: Using backend LokyBackend with 8 concurrent workers.\n",
      "[Parallel(n_jobs=-1)]: Done   9 tasks      | elapsed: 29.6min\n",
      "[Parallel(n_jobs=-1)]: Done  23 out of  30 | elapsed: 44.4min remaining: 13.5min\n"
     ]
    },
    {
     "name": "stdout",
     "output_type": "stream",
     "text": [
      "Training elapse 3391 sencond.\n"
     ]
    },
    {
     "name": "stderr",
     "output_type": "stream",
     "text": [
      "[Parallel(n_jobs=-1)]: Done  30 out of  30 | elapsed: 56.5min finished\n"
     ]
    }
   ],
   "source": [
    "param_grid = {\"subsample\": [i/10.0 for i in range(5,11)]}\n",
    "\n",
    "base_params[\"max_depth\"] = cv_clf_max_depth.best_params_[\"max_depth\"]\n",
    "xgbclf = xgb.XGBClassifier(**base_params)\n",
    "cv_clf_subsample = GridSearchCV(estimator=xgbclf, \n",
    "                                  param_grid = param_grid,\n",
    "                                  scoring = call_neg_log_loss, n_jobs=-1,\n",
    "                                  cv=5, verbose=4, return_train_score=True, refit=False)\n",
    "\n",
    "from time import time\n",
    "start = time()\n",
    "cv_clf_subsample.fit(X, y_true)\n",
    "print(\"Training elapse %d sencond.\" % (time()-start))"
   ]
  },
  {
   "cell_type": "code",
   "execution_count": 17,
   "metadata": {
    "scrolled": false
   },
   "outputs": [
    {
     "data": {
      "text/plain": [
       "{'subsample': 1.0}"
      ]
     },
     "execution_count": 17,
     "metadata": {},
     "output_type": "execute_result"
    }
   ],
   "source": [
    "cv_clf_subsample.best_params_"
   ]
  },
  {
   "cell_type": "code",
   "execution_count": 18,
   "metadata": {
    "scrolled": false
   },
   "outputs": [
    {
     "data": {
      "text/plain": [
       "{'mean_fit_time': array([627.3380919 , 640.1003655 , 636.48946977, 618.588555  ,\n",
       "        587.57899246, 464.12498069]),\n",
       " 'std_fit_time': array([ 1.56979833,  1.20545202,  3.20307576,  4.84241038, 34.82023552,\n",
       "         1.24286883]),\n",
       " 'mean_score_time': array([49.89434581, 51.53903599, 51.74610453, 51.9848238 , 51.16554165,\n",
       "        44.8976038 ]),\n",
       " 'std_score_time': array([0.30745812, 0.30386716, 1.07445005, 0.55010802, 1.91373078,\n",
       "        0.18291945]),\n",
       " 'param_subsample': masked_array(data=[0.5, 0.6, 0.7, 0.8, 0.9, 1.0],\n",
       "              mask=[False, False, False, False, False, False],\n",
       "        fill_value='?',\n",
       "             dtype=object),\n",
       " 'params': [{'subsample': 0.5},\n",
       "  {'subsample': 0.6},\n",
       "  {'subsample': 0.7},\n",
       "  {'subsample': 0.8},\n",
       "  {'subsample': 0.9},\n",
       "  {'subsample': 1.0}],\n",
       " 'split0_test_score': array([-2.50880498, -2.5084495 , -2.50513324, -2.50563333, -2.50351309,\n",
       "        -2.5011439 ]),\n",
       " 'split1_test_score': array([-2.52031923, -2.52289024, -2.52167484, -2.52212255, -2.51814985,\n",
       "        -2.51336366]),\n",
       " 'split2_test_score': array([-2.50514564, -2.50046686, -2.49942913, -2.50298618, -2.50046156,\n",
       "        -2.4973559 ]),\n",
       " 'split3_test_score': array([-2.5106143 , -2.508797  , -2.51412626, -2.50729784, -2.50439406,\n",
       "        -2.50392252]),\n",
       " 'split4_test_score': array([-2.51223643, -2.51776506, -2.51488713, -2.51909812, -2.51928722,\n",
       "        -2.51585431]),\n",
       " 'mean_test_score': array([-2.51142409, -2.51167203, -2.51104756, -2.51142459, -2.50915713,\n",
       "        -2.50632387]),\n",
       " 'std_test_score': array([0.00503554, 0.0078386 , 0.00783887, 0.00768277, 0.00791902,\n",
       "        0.00711795]),\n",
       " 'rank_test_score': array([4, 6, 3, 5, 2, 1]),\n",
       " 'split0_train_score': array([-1.81658557, -1.79026892, -1.77310089, -1.7678865 , -1.77322082,\n",
       "        -1.83521928]),\n",
       " 'split1_train_score': array([-1.81145589, -1.78451828, -1.76666062, -1.75897678, -1.76467776,\n",
       "        -1.82448325]),\n",
       " 'split2_train_score': array([-1.81460077, -1.78799084, -1.77324001, -1.7649716 , -1.77291198,\n",
       "        -1.83466632]),\n",
       " 'split3_train_score': array([-1.81633425, -1.79069783, -1.77192742, -1.76666903, -1.77137532,\n",
       "        -1.82946923]),\n",
       " 'split4_train_score': array([-1.8140315 , -1.78739551, -1.76967386, -1.76068944, -1.76910355,\n",
       "        -1.82604853]),\n",
       " 'mean_train_score': array([-1.8146016 , -1.78817428, -1.77092056, -1.76383867, -1.77025789,\n",
       "        -1.82997732]),\n",
       " 'std_train_score': array([0.0018525 , 0.00222541, 0.0024839 , 0.00344195, 0.00314777,\n",
       "        0.00436676])}"
      ]
     },
     "execution_count": 18,
     "metadata": {},
     "output_type": "execute_result"
    }
   ],
   "source": [
    "cv_clf_subsample.cv_results_"
   ]
  },
  {
   "cell_type": "code",
   "execution_count": 19,
   "metadata": {
    "scrolled": false
   },
   "outputs": [
    {
     "name": "stdout",
     "output_type": "stream",
     "text": [
      "Fitting 5 folds for each of 6 candidates, totalling 30 fits\n"
     ]
    },
    {
     "name": "stderr",
     "output_type": "stream",
     "text": [
      "[Parallel(n_jobs=-1)]: Using backend LokyBackend with 8 concurrent workers.\n",
      "[Parallel(n_jobs=-1)]: Done   9 tasks      | elapsed: 27.3min\n",
      "[Parallel(n_jobs=-1)]: Done  23 out of  30 | elapsed: 44.9min remaining: 13.7min\n"
     ]
    },
    {
     "name": "stdout",
     "output_type": "stream",
     "text": [
      "Training elapse 3567 sencond.\n"
     ]
    },
    {
     "name": "stderr",
     "output_type": "stream",
     "text": [
      "[Parallel(n_jobs=-1)]: Done  30 out of  30 | elapsed: 59.5min finished\n"
     ]
    }
   ],
   "source": [
    "param_grid = {\"colsample_bytree\": [i/10.0 for i in range(5,11)]}\n",
    "\n",
    "base_params[\"subsample\"] = cv_clf_subsample.best_params_[\"subsample\"]\n",
    "xgbclf = xgb.XGBClassifier(**base_params)\n",
    "cv_clf_colsample_bytree = GridSearchCV(estimator=xgbclf, \n",
    "                                  param_grid = param_grid,\n",
    "                                  scoring = call_neg_log_loss, n_jobs=-1,\n",
    "                                  cv=5, verbose=4, return_train_score=True, refit=False)\n",
    "\n",
    "from time import time\n",
    "start = time()\n",
    "cv_clf_colsample_bytree.fit(X, y_true)\n",
    "print(\"Training elapse %d sencond.\" % (time()-start))"
   ]
  },
  {
   "cell_type": "code",
   "execution_count": 20,
   "metadata": {
    "scrolled": false
   },
   "outputs": [
    {
     "data": {
      "text/plain": [
       "{'colsample_bytree': 0.5}"
      ]
     },
     "execution_count": 20,
     "metadata": {},
     "output_type": "execute_result"
    }
   ],
   "source": [
    "cv_clf_colsample_bytree.best_params_"
   ]
  },
  {
   "cell_type": "code",
   "execution_count": 21,
   "metadata": {
    "scrolled": false
   },
   "outputs": [
    {
     "data": {
      "text/plain": [
       "{'mean_fit_time': array([550.31487417, 592.83387299, 637.61420302, 676.87519708,\n",
       "        704.27644124, 685.7923378 ]),\n",
       " 'std_fit_time': array([ 1.66238957,  2.82515991,  1.85659911,  3.49916238, 34.46894857,\n",
       "         7.15058799]),\n",
       " 'mean_score_time': array([47.59789696, 48.41070781, 48.6649641 , 46.02194614, 47.89022465,\n",
       "        43.20287366]),\n",
       " 'std_score_time': array([0.28487682, 3.85917526, 1.27288079, 2.93536516, 4.65367396,\n",
       "        1.56842069]),\n",
       " 'param_colsample_bytree': masked_array(data=[0.5, 0.6, 0.7, 0.8, 0.9, 1.0],\n",
       "              mask=[False, False, False, False, False, False],\n",
       "        fill_value='?',\n",
       "             dtype=object),\n",
       " 'params': [{'colsample_bytree': 0.5},\n",
       "  {'colsample_bytree': 0.6},\n",
       "  {'colsample_bytree': 0.7},\n",
       "  {'colsample_bytree': 0.8},\n",
       "  {'colsample_bytree': 0.9},\n",
       "  {'colsample_bytree': 1.0}],\n",
       " 'split0_test_score': array([-2.5011439 , -2.50372545, -2.50824547, -2.51176005, -2.51685107,\n",
       "        -2.52096143]),\n",
       " 'split1_test_score': array([-2.51336366, -2.51534099, -2.5174759 , -2.52345453, -2.5276336 ,\n",
       "        -2.53051377]),\n",
       " 'split2_test_score': array([-2.4973559 , -2.50105646, -2.50202971, -2.50293962, -2.50916163,\n",
       "        -2.51196292]),\n",
       " 'split3_test_score': array([-2.50392252, -2.50691808, -2.51156696, -2.51671276, -2.5183794 ,\n",
       "        -2.52481407]),\n",
       " 'split4_test_score': array([-2.51585431, -2.51978903, -2.52236747, -2.5270212 , -2.53002999,\n",
       "        -2.53528528]),\n",
       " 'mean_test_score': array([-2.50632387, -2.50936121, -2.51233263, -2.51637283, -2.52040741,\n",
       "        -2.52470288]),\n",
       " 'std_test_score': array([0.00711795, 0.00708628, 0.00707761, 0.00854704, 0.0075886 ,\n",
       "        0.00802404]),\n",
       " 'rank_test_score': array([1, 2, 3, 4, 5, 6]),\n",
       " 'split0_train_score': array([-1.83521928, -1.80951531, -1.7950361 , -1.78135811, -1.77385661,\n",
       "        -1.76435615]),\n",
       " 'split1_train_score': array([-1.82448325, -1.80685992, -1.79347707, -1.78680994, -1.77096584,\n",
       "        -1.76636072]),\n",
       " 'split2_train_score': array([-1.83466632, -1.81810276, -1.80820622, -1.79377642, -1.78907461,\n",
       "        -1.77831567]),\n",
       " 'split3_train_score': array([-1.82946923, -1.80844021, -1.79656176, -1.78253546, -1.7758986 ,\n",
       "        -1.76479997]),\n",
       " 'split4_train_score': array([-1.82604853, -1.81166914, -1.79490334, -1.7853653 , -1.78150148,\n",
       "        -1.77974192]),\n",
       " 'mean_train_score': array([-1.82997732, -1.81091747, -1.7976369 , -1.78596905, -1.77825943,\n",
       "        -1.77071489]),\n",
       " 'std_train_score': array([0.00436676, 0.00391816, 0.00537414, 0.00436066, 0.00641302,\n",
       "        0.00683575])}"
      ]
     },
     "execution_count": 21,
     "metadata": {},
     "output_type": "execute_result"
    }
   ],
   "source": [
    "cv_clf_colsample_bytree.cv_results_"
   ]
  },
  {
   "cell_type": "code",
   "execution_count": 22,
   "metadata": {
    "scrolled": false
   },
   "outputs": [
    {
     "name": "stdout",
     "output_type": "stream",
     "text": [
      "Fitting 5 folds for each of 5 candidates, totalling 25 fits\n"
     ]
    },
    {
     "name": "stderr",
     "output_type": "stream",
     "text": [
      "[Parallel(n_jobs=-1)]: Using backend LokyBackend with 8 concurrent workers.\n",
      "[Parallel(n_jobs=-1)]: Done   9 tasks      | elapsed: 27.2min\n",
      "[Parallel(n_jobs=-1)]: Done  17 out of  25 | elapsed: 40.6min remaining: 19.1min\n"
     ]
    },
    {
     "name": "stdout",
     "output_type": "stream",
     "text": [
      "Training elapse 2943 sencond.\n"
     ]
    },
    {
     "name": "stderr",
     "output_type": "stream",
     "text": [
      "[Parallel(n_jobs=-1)]: Done  25 out of  25 | elapsed: 49.1min finished\n"
     ]
    }
   ],
   "source": [
    "param_grid = {\"gamma\": [i/10.0 for i in range(1,6)]}\n",
    "\n",
    "base_params[\"colsample_bytree\"] = cv_clf_colsample_bytree.best_params_[\"colsample_bytree\"]\n",
    "xgbclf = xgb.XGBClassifier(**base_params)\n",
    "cv_clf_gamma = GridSearchCV(estimator=xgbclf, \n",
    "                                  param_grid = param_grid,\n",
    "                                  scoring = call_neg_log_loss, n_jobs=-1,\n",
    "                                  cv=5, verbose=4, return_train_score=True, refit=False)\n",
    "\n",
    "from time import time\n",
    "start = time()\n",
    "cv_clf_gamma.fit(X, y_true)\n",
    "print(\"Training elapse %d sencond.\" % (time()-start))"
   ]
  },
  {
   "cell_type": "code",
   "execution_count": 23,
   "metadata": {
    "scrolled": false
   },
   "outputs": [
    {
     "data": {
      "text/plain": [
       "{'gamma': 0.5}"
      ]
     },
     "execution_count": 23,
     "metadata": {},
     "output_type": "execute_result"
    }
   ],
   "source": [
    "cv_clf_gamma.best_params_"
   ]
  },
  {
   "cell_type": "code",
   "execution_count": 24,
   "metadata": {
    "scrolled": false
   },
   "outputs": [
    {
     "data": {
      "text/plain": [
       "{'mean_fit_time': array([551.24358735, 554.29367762, 563.41414204, 554.31911249,\n",
       "        510.53647475]),\n",
       " 'std_fit_time': array([ 2.77376359,  6.0755266 ,  5.4145506 ,  5.91920237, 85.68212822]),\n",
       " 'mean_score_time': array([51.92375593, 51.48269906, 52.5986012 , 50.23768287, 46.97435017]),\n",
       " 'std_score_time': array([0.47365801, 0.428969  , 0.92783886, 1.34428278, 7.30802904]),\n",
       " 'param_gamma': masked_array(data=[0.1, 0.2, 0.3, 0.4, 0.5],\n",
       "              mask=[False, False, False, False, False],\n",
       "        fill_value='?',\n",
       "             dtype=object),\n",
       " 'params': [{'gamma': 0.1},\n",
       "  {'gamma': 0.2},\n",
       "  {'gamma': 0.3},\n",
       "  {'gamma': 0.4},\n",
       "  {'gamma': 0.5}],\n",
       " 'split0_test_score': array([-2.50153481, -2.49949787, -2.5011439 , -2.49878625, -2.49698049]),\n",
       " 'split1_test_score': array([-2.51486742, -2.51499955, -2.51336366, -2.51024172, -2.50924856]),\n",
       " 'split2_test_score': array([-2.49890718, -2.49638023, -2.4973559 , -2.4928639 , -2.49138574]),\n",
       " 'split3_test_score': array([-2.50295881, -2.50292551, -2.50392252, -2.50128005, -2.49855475]),\n",
       " 'split4_test_score': array([-2.516616  , -2.51778825, -2.51585431, -2.51324734, -2.50985248]),\n",
       " 'mean_test_score': array([-2.50697285, -2.50631315, -2.50632387, -2.50327966, -2.50120101]),\n",
       " 'std_test_score': array([0.00729343, 0.00852768, 0.00711795, 0.00748857, 0.00722088]),\n",
       " 'rank_test_score': array([5, 3, 4, 2, 1]),\n",
       " 'split0_train_score': array([-1.82602858, -1.83002857, -1.83521928, -1.84223677, -1.85214241]),\n",
       " 'split1_train_score': array([-1.81796092, -1.82028005, -1.82448325, -1.83500348, -1.84221302]),\n",
       " 'split2_train_score': array([-1.829535  , -1.83069143, -1.83466632, -1.84189256, -1.85816617]),\n",
       " 'split3_train_score': array([-1.82231586, -1.8206789 , -1.82946923, -1.83569831, -1.86000164]),\n",
       " 'split4_train_score': array([-1.8259151 , -1.82484998, -1.82604853, -1.83798878, -1.85407445]),\n",
       " 'mean_train_score': array([-1.82435109, -1.82530578, -1.82997732, -1.83856398, -1.85331954]),\n",
       " 'std_train_score': array([0.00392707, 0.00443134, 0.00436676, 0.00302618, 0.00622014])}"
      ]
     },
     "execution_count": 24,
     "metadata": {},
     "output_type": "execute_result"
    }
   ],
   "source": [
    "cv_clf_gamma.cv_results_"
   ]
  },
  {
   "cell_type": "code",
   "execution_count": 25,
   "metadata": {},
   "outputs": [
    {
     "name": "stdout",
     "output_type": "stream",
     "text": [
      "Fitting 5 folds for each of 6 candidates, totalling 30 fits\n"
     ]
    },
    {
     "name": "stderr",
     "output_type": "stream",
     "text": [
      "[Parallel(n_jobs=-1)]: Using backend LokyBackend with 8 concurrent workers.\n",
      "[Parallel(n_jobs=-1)]: Done   9 tasks      | elapsed: 26.8min\n",
      "[Parallel(n_jobs=-1)]: Done  23 out of  30 | elapsed: 40.0min remaining: 12.2min\n"
     ]
    },
    {
     "name": "stdout",
     "output_type": "stream",
     "text": [
      "Training elapse 3072 sencond.\n"
     ]
    },
    {
     "name": "stderr",
     "output_type": "stream",
     "text": [
      "[Parallel(n_jobs=-1)]: Done  30 out of  30 | elapsed: 51.2min finished\n"
     ]
    }
   ],
   "source": [
    "param_grid = {\"min_child_weight\": list(range(4,10))}\n",
    "\n",
    "base_params[\"gamma\"] = cv_clf_gamma.best_params_[\"gamma\"]\n",
    "xgbclf = xgb.XGBClassifier(**base_params)\n",
    "cv_clf_min_child_weight = GridSearchCV(estimator=xgbclf, \n",
    "                                  param_grid = param_grid,\n",
    "                                  scoring = call_neg_log_loss, n_jobs=-1,\n",
    "                                  cv=5, verbose=4, return_train_score=True, refit=False)\n",
    "\n",
    "from time import time\n",
    "start = time()\n",
    "cv_clf_min_child_weight.fit(X, y_true)\n",
    "print(\"Training elapse %d sencond.\" % (time()-start))"
   ]
  },
  {
   "cell_type": "code",
   "execution_count": 26,
   "metadata": {
    "scrolled": false
   },
   "outputs": [
    {
     "data": {
      "text/plain": [
       "{'min_child_weight': 9}"
      ]
     },
     "execution_count": 26,
     "metadata": {},
     "output_type": "execute_result"
    }
   ],
   "source": [
    "cv_clf_min_child_weight.best_params_"
   ]
  },
  {
   "cell_type": "code",
   "execution_count": 27,
   "metadata": {},
   "outputs": [
    {
     "data": {
      "text/plain": [
       "{'mean_fit_time': array([557.10483918, 549.70378079, 546.94308958, 541.70458159,\n",
       "        521.92100205, 456.36973176]),\n",
       " 'std_fit_time': array([ 3.436357  ,  1.39122553,  2.40576659,  1.59643441, 31.73576629,\n",
       "         2.40518425]),\n",
       " 'mean_score_time': array([51.47318053, 49.99020824, 50.26187272, 49.3864233 , 47.68853731,\n",
       "        43.23817577]),\n",
       " 'std_score_time': array([0.36121709, 0.30604972, 0.29297429, 0.31949911, 1.95143244,\n",
       "        0.29821205]),\n",
       " 'param_min_child_weight': masked_array(data=[4, 5, 6, 7, 8, 9],\n",
       "              mask=[False, False, False, False, False, False],\n",
       "        fill_value='?',\n",
       "             dtype=object),\n",
       " 'params': [{'min_child_weight': 4},\n",
       "  {'min_child_weight': 5},\n",
       "  {'min_child_weight': 6},\n",
       "  {'min_child_weight': 7},\n",
       "  {'min_child_weight': 8},\n",
       "  {'min_child_weight': 9}],\n",
       " 'split0_test_score': array([-2.49869243, -2.49698049, -2.49290738, -2.49160397, -2.48774096,\n",
       "        -2.48711578]),\n",
       " 'split1_test_score': array([-2.51212317, -2.50924856, -2.50576084, -2.50417599, -2.50067484,\n",
       "        -2.4985119 ]),\n",
       " 'split2_test_score': array([-2.49447243, -2.49138574, -2.49262573, -2.48865712, -2.48708393,\n",
       "        -2.48497406]),\n",
       " 'split3_test_score': array([-2.50069567, -2.49855475, -2.4962267 , -2.49382521, -2.48779129,\n",
       "        -2.48792878]),\n",
       " 'split4_test_score': array([-2.51454351, -2.50985248, -2.50941824, -2.50294296, -2.50105075,\n",
       "        -2.49737551]),\n",
       " 'mean_test_score': array([-2.50410108, -2.50120101, -2.49938302, -2.49623823, -2.49286515,\n",
       "        -2.49117881]),\n",
       " 'std_test_score': array([0.00783393, 0.00722088, 0.00691159, 0.00620855, 0.00653251,\n",
       "        0.00561664]),\n",
       " 'rank_test_score': array([6, 5, 4, 3, 2, 1]),\n",
       " 'split0_train_score': array([-1.82771545, -1.85214241, -1.86892648, -1.89588342, -1.91625979,\n",
       "        -1.92894159]),\n",
       " 'split1_train_score': array([-1.81845779, -1.84221302, -1.86750065, -1.88502884, -1.90492849,\n",
       "        -1.92554305]),\n",
       " 'split2_train_score': array([-1.82808759, -1.85816617, -1.87675913, -1.89508846, -1.916246  ,\n",
       "        -1.94048245]),\n",
       " 'split3_train_score': array([-1.82157807, -1.86000164, -1.88081044, -1.89951791, -1.91697133,\n",
       "        -1.93628785]),\n",
       " 'split4_train_score': array([-1.82556606, -1.85407445, -1.86559909, -1.88976863, -1.90279099,\n",
       "        -1.92224048]),\n",
       " 'mean_train_score': array([-1.82428099, -1.85331954, -1.87191916, -1.89305745, -1.91143932,\n",
       "        -1.93069908]),\n",
       " 'std_train_score': array([0.00371894, 0.00622014, 0.00584642, 0.0050818 , 0.00623103,\n",
       "        0.00675529])}"
      ]
     },
     "execution_count": 27,
     "metadata": {},
     "output_type": "execute_result"
    }
   ],
   "source": [
    "cv_clf_min_child_weight.cv_results_"
   ]
  },
  {
   "cell_type": "code",
   "execution_count": 28,
   "metadata": {
    "scrolled": false
   },
   "outputs": [
    {
     "name": "stdout",
     "output_type": "stream",
     "text": [
      "Fitting 5 folds for each of 8 candidates, totalling 40 fits\n"
     ]
    },
    {
     "name": "stderr",
     "output_type": "stream",
     "text": [
      "[Parallel(n_jobs=-1)]: Using backend LokyBackend with 8 concurrent workers.\n",
      "[Parallel(n_jobs=-1)]: Done   9 tasks      | elapsed: 39.9min\n",
      "[Parallel(n_jobs=-1)]: Done  36 out of  40 | elapsed: 291.6min remaining: 32.4min\n"
     ]
    },
    {
     "name": "stdout",
     "output_type": "stream",
     "text": [
      "Training elapse 20018 sencond.\n"
     ]
    },
    {
     "name": "stderr",
     "output_type": "stream",
     "text": [
      "[Parallel(n_jobs=-1)]: Done  40 out of  40 | elapsed: 333.6min finished\n"
     ]
    }
   ],
   "source": [
    "param_grid = {\"n_estimators\": list(range(400, 3201, 400))}\n",
    "\n",
    "base_params[\"min_child_weight\"] = cv_clf_min_child_weight.best_params_[\"min_child_weight\"]\n",
    "base_params[\"learning_rate\"] = 0.01\n",
    "xgbclf = xgb.XGBClassifier(**base_params)\n",
    "cv_clf_final = GridSearchCV(estimator=xgbclf, \n",
    "                                  param_grid = param_grid,\n",
    "                                  scoring = call_neg_log_loss, n_jobs=-1,\n",
    "                                  cv=5, verbose=4, return_train_score=True, refit=False)\n",
    "\n",
    "from time import time\n",
    "start = time()\n",
    "cv_clf_final.fit(X, y_true)\n",
    "print(\"Training elapse %d sencond.\" % (time()-start))"
   ]
  },
  {
   "cell_type": "code",
   "execution_count": 29,
   "metadata": {},
   "outputs": [
    {
     "data": {
      "text/plain": [
       "{'n_estimators': 1200}"
      ]
     },
     "execution_count": 29,
     "metadata": {},
     "output_type": "execute_result"
    }
   ],
   "source": [
    "cv_clf_final.best_params_"
   ]
  },
  {
   "cell_type": "code",
   "execution_count": 30,
   "metadata": {},
   "outputs": [
    {
     "data": {
      "text/plain": [
       "{'mean_fit_time': array([ 552.45958552, 1140.96406412, 1705.57841015, 2252.76837096,\n",
       "        2805.65646358, 3346.5563849 , 3885.43975735, 4104.11954036]),\n",
       " 'std_fit_time': array([  2.12940765,   5.99545494,   7.3856671 ,  13.87726463,\n",
       "         24.57331849,  31.97847775,  44.3044339 , 231.03627305]),\n",
       " 'mean_score_time': array([ 47.5550982 ,  94.73566446, 143.26178946, 196.71456027,\n",
       "        246.45410538, 298.92934752, 343.14996161, 374.46643195]),\n",
       " 'std_score_time': array([ 0.16273386,  2.47533958,  2.25280454,  1.96533256,  3.97578127,\n",
       "         5.66808751,  5.49605444, 12.01964086]),\n",
       " 'param_n_estimators': masked_array(data=[400, 800, 1200, 1600, 2000, 2400, 2800, 3200],\n",
       "              mask=[False, False, False, False, False, False, False, False],\n",
       "        fill_value='?',\n",
       "             dtype=object),\n",
       " 'params': [{'n_estimators': 400},\n",
       "  {'n_estimators': 800},\n",
       "  {'n_estimators': 1200},\n",
       "  {'n_estimators': 1600},\n",
       "  {'n_estimators': 2000},\n",
       "  {'n_estimators': 2400},\n",
       "  {'n_estimators': 2800},\n",
       "  {'n_estimators': 3200}],\n",
       " 'split0_test_score': array([-2.51442683, -2.46260885, -2.46275704, -2.46437746, -2.46592036,\n",
       "        -2.46832709, -2.47143232, -2.47380444]),\n",
       " 'split1_test_score': array([-2.52336968, -2.47320278, -2.46937392, -2.47115528, -2.47387246,\n",
       "        -2.47731517, -2.48136579, -2.48474996]),\n",
       " 'split2_test_score': array([-2.51540326, -2.46205835, -2.45781182, -2.45921649, -2.46188677,\n",
       "        -2.46482188, -2.46794519, -2.47077001]),\n",
       " 'split3_test_score': array([-2.5172399 , -2.4632627 , -2.46055263, -2.46303055, -2.46647758,\n",
       "        -2.46978706, -2.47318125, -2.47598711]),\n",
       " 'split4_test_score': array([-2.52071467, -2.47100988, -2.46984282, -2.47154878, -2.47395247,\n",
       "        -2.47687263, -2.48003194, -2.48292276]),\n",
       " 'mean_test_score': array([-2.51822942, -2.46642674, -2.46406609, -2.46586404, -2.46841989,\n",
       "        -2.47142258, -2.47478918, -2.47764464]),\n",
       " 'std_test_score': array([0.00334829, 0.00470323, 0.00478903, 0.00478966, 0.00475431,\n",
       "        0.00490385, 0.00512703, 0.00534993]),\n",
       " 'rank_test_score': array([8, 3, 1, 2, 4, 5, 6, 7]),\n",
       " 'split0_train_score': array([-2.40072108, -2.26567136, -2.19877756, -2.1469337 , -2.09985227,\n",
       "        -2.05888237, -2.02325057, -1.99375742]),\n",
       " 'split1_train_score': array([-2.39610614, -2.26062009, -2.19066673, -2.13734996, -2.09013928,\n",
       "        -2.0486414 , -2.0136827 , -1.98383104]),\n",
       " 'split2_train_score': array([-2.40063498, -2.26815184, -2.19978134, -2.14740775, -2.1023103 ,\n",
       "        -2.06223548, -2.02874323, -2.00006723]),\n",
       " 'split3_train_score': array([-2.3989155 , -2.26404306, -2.19469337, -2.14127756, -2.09602493,\n",
       "        -2.05790439, -2.02567138, -1.99793716]),\n",
       " 'split4_train_score': array([-2.39781937, -2.26173688, -2.19401359, -2.14114606, -2.09527394,\n",
       "        -2.05513441, -2.02030475, -1.99106143]),\n",
       " 'mean_train_score': array([-2.39883941, -2.26404465, -2.19558652, -2.14282301, -2.09672014,\n",
       "        -2.05655961, -2.02233053, -1.99333085]),\n",
       " 'std_train_score': array([0.00174825, 0.00270439, 0.00332432, 0.00382289, 0.00416995,\n",
       "        0.00456396, 0.00513847, 0.00569518])}"
      ]
     },
     "execution_count": 30,
     "metadata": {},
     "output_type": "execute_result"
    }
   ],
   "source": [
    "cv_clf_final.cv_results_"
   ]
  },
  {
   "cell_type": "markdown",
   "metadata": {},
   "source": [
    "#### 使用整个训练集进行训练"
   ]
  },
  {
   "cell_type": "code",
   "execution_count": 31,
   "metadata": {},
   "outputs": [],
   "source": [
    "total_X = origin_data[feature_names]\n",
    "total_y_true = origin_data[\"Category\"]"
   ]
  },
  {
   "cell_type": "code",
   "execution_count": 32,
   "metadata": {},
   "outputs": [
    {
     "name": "stdout",
     "output_type": "stream",
     "text": [
      "{'max_depth': 5, 'learning_rate': 0.01, 'n_estimators': 1200, 'objective': 'multi:softprob', 'n_job': -1, 'gamma': 0.5, 'min_child_weight': 9, 'subsample': 1.0, 'colsample_bytree': 0.5, 'random_state': 10}\n"
     ]
    }
   ],
   "source": [
    "base_params[\"n_estimators\"] = cv_clf_final.best_params_[\"n_estimators\"]\n",
    "print(base_params)"
   ]
  },
  {
   "cell_type": "code",
   "execution_count": 34,
   "metadata": {},
   "outputs": [
    {
     "name": "stdout",
     "output_type": "stream",
     "text": [
      "{'max_depth': 5, 'learning_rate': 0.01, 'n_estimators': 1200, 'objective': 'multi:softprob', 'n_job': -1, 'gamma': 0.5, 'min_child_weight': 9, 'subsample': 1.0, 'colsample_bytree': 0.5, 'random_state': 10}\n"
     ]
    }
   ],
   "source": [
    "print(base_params)"
   ]
  },
  {
   "cell_type": "code",
   "execution_count": 39,
   "metadata": {},
   "outputs": [],
   "source": [
    "base_params[\"max_depth\"] = 6\n",
    "base_params[\"subsample\"] = 0.6\n",
    "base_params[\"n_jobs\"] = 8"
   ]
  },
  {
   "cell_type": "code",
   "execution_count": 40,
   "metadata": {},
   "outputs": [
    {
     "name": "stdout",
     "output_type": "stream",
     "text": [
      "[0]\tvalidation_0-mlogloss:3.64363\n",
      "[1]\tvalidation_0-mlogloss:3.62512\n",
      "[2]\tvalidation_0-mlogloss:3.60692\n",
      "[3]\tvalidation_0-mlogloss:3.58909\n",
      "[4]\tvalidation_0-mlogloss:3.57189\n",
      "[5]\tvalidation_0-mlogloss:3.55548\n",
      "[6]\tvalidation_0-mlogloss:3.53974\n",
      "[7]\tvalidation_0-mlogloss:3.52385\n",
      "[8]\tvalidation_0-mlogloss:3.50859\n",
      "[9]\tvalidation_0-mlogloss:3.49386\n",
      "[10]\tvalidation_0-mlogloss:3.47974\n",
      "[11]\tvalidation_0-mlogloss:3.46577\n",
      "[12]\tvalidation_0-mlogloss:3.45253\n",
      "[13]\tvalidation_0-mlogloss:3.43883\n",
      "[14]\tvalidation_0-mlogloss:3.42585\n",
      "[15]\tvalidation_0-mlogloss:3.4136\n",
      "[16]\tvalidation_0-mlogloss:3.40107\n",
      "[17]\tvalidation_0-mlogloss:3.38941\n",
      "[18]\tvalidation_0-mlogloss:3.37776\n",
      "[19]\tvalidation_0-mlogloss:3.36635\n",
      "[20]\tvalidation_0-mlogloss:3.35504\n",
      "[21]\tvalidation_0-mlogloss:3.34406\n",
      "[22]\tvalidation_0-mlogloss:3.33319\n",
      "[23]\tvalidation_0-mlogloss:3.32284\n",
      "[24]\tvalidation_0-mlogloss:3.31248\n",
      "[25]\tvalidation_0-mlogloss:3.30226\n",
      "[26]\tvalidation_0-mlogloss:3.29248\n",
      "[27]\tvalidation_0-mlogloss:3.28254\n",
      "[28]\tvalidation_0-mlogloss:3.27269\n",
      "[29]\tvalidation_0-mlogloss:3.26343\n",
      "[30]\tvalidation_0-mlogloss:3.25418\n",
      "[31]\tvalidation_0-mlogloss:3.24495\n",
      "[32]\tvalidation_0-mlogloss:3.23631\n",
      "[33]\tvalidation_0-mlogloss:3.22728\n",
      "[34]\tvalidation_0-mlogloss:3.2186\n",
      "[35]\tvalidation_0-mlogloss:3.21012\n",
      "[36]\tvalidation_0-mlogloss:3.20141\n",
      "[37]\tvalidation_0-mlogloss:3.19318\n",
      "[38]\tvalidation_0-mlogloss:3.18474\n",
      "[39]\tvalidation_0-mlogloss:3.17678\n",
      "[40]\tvalidation_0-mlogloss:3.16895\n",
      "[41]\tvalidation_0-mlogloss:3.16113\n",
      "[42]\tvalidation_0-mlogloss:3.15357\n",
      "[43]\tvalidation_0-mlogloss:3.14613\n",
      "[44]\tvalidation_0-mlogloss:3.1387\n",
      "[45]\tvalidation_0-mlogloss:3.13154\n",
      "[46]\tvalidation_0-mlogloss:3.12445\n",
      "[47]\tvalidation_0-mlogloss:3.11742\n",
      "[48]\tvalidation_0-mlogloss:3.11038\n",
      "[49]\tvalidation_0-mlogloss:3.10365\n",
      "[50]\tvalidation_0-mlogloss:3.09685\n",
      "[51]\tvalidation_0-mlogloss:3.09009\n",
      "[52]\tvalidation_0-mlogloss:3.08371\n",
      "[53]\tvalidation_0-mlogloss:3.07737\n",
      "[54]\tvalidation_0-mlogloss:3.07097\n",
      "[55]\tvalidation_0-mlogloss:3.0648\n",
      "[56]\tvalidation_0-mlogloss:3.05873\n",
      "[57]\tvalidation_0-mlogloss:3.05265\n",
      "[58]\tvalidation_0-mlogloss:3.04654\n",
      "[59]\tvalidation_0-mlogloss:3.04069\n",
      "[60]\tvalidation_0-mlogloss:3.03476\n",
      "[61]\tvalidation_0-mlogloss:3.02897\n",
      "[62]\tvalidation_0-mlogloss:3.02303\n",
      "[63]\tvalidation_0-mlogloss:3.01748\n",
      "[64]\tvalidation_0-mlogloss:3.01186\n",
      "[65]\tvalidation_0-mlogloss:3.00635\n",
      "[66]\tvalidation_0-mlogloss:3.00079\n",
      "[67]\tvalidation_0-mlogloss:2.99543\n",
      "[68]\tvalidation_0-mlogloss:2.99023\n",
      "[69]\tvalidation_0-mlogloss:2.98494\n",
      "[70]\tvalidation_0-mlogloss:2.97971\n",
      "[71]\tvalidation_0-mlogloss:2.97463\n",
      "[72]\tvalidation_0-mlogloss:2.9695\n",
      "[73]\tvalidation_0-mlogloss:2.96446\n",
      "[74]\tvalidation_0-mlogloss:2.95953\n",
      "[75]\tvalidation_0-mlogloss:2.95473\n",
      "[76]\tvalidation_0-mlogloss:2.94993\n",
      "[77]\tvalidation_0-mlogloss:2.94524\n",
      "[78]\tvalidation_0-mlogloss:2.94053\n",
      "[79]\tvalidation_0-mlogloss:2.93597\n",
      "[80]\tvalidation_0-mlogloss:2.93148\n",
      "[81]\tvalidation_0-mlogloss:2.92702\n",
      "[82]\tvalidation_0-mlogloss:2.92249\n",
      "[83]\tvalidation_0-mlogloss:2.91808\n",
      "[84]\tvalidation_0-mlogloss:2.91375\n",
      "[85]\tvalidation_0-mlogloss:2.90933\n",
      "[86]\tvalidation_0-mlogloss:2.905\n",
      "[87]\tvalidation_0-mlogloss:2.90082\n",
      "[88]\tvalidation_0-mlogloss:2.89652\n",
      "[89]\tvalidation_0-mlogloss:2.89241\n",
      "[90]\tvalidation_0-mlogloss:2.88826\n",
      "[91]\tvalidation_0-mlogloss:2.88433\n",
      "[92]\tvalidation_0-mlogloss:2.8804\n",
      "[93]\tvalidation_0-mlogloss:2.87641\n",
      "[94]\tvalidation_0-mlogloss:2.87255\n",
      "[95]\tvalidation_0-mlogloss:2.86862\n",
      "[96]\tvalidation_0-mlogloss:2.86486\n",
      "[97]\tvalidation_0-mlogloss:2.861\n",
      "[98]\tvalidation_0-mlogloss:2.85717\n",
      "[99]\tvalidation_0-mlogloss:2.8535\n",
      "[100]\tvalidation_0-mlogloss:2.84978\n",
      "[101]\tvalidation_0-mlogloss:2.84609\n",
      "[102]\tvalidation_0-mlogloss:2.84252\n",
      "[103]\tvalidation_0-mlogloss:2.83885\n",
      "[104]\tvalidation_0-mlogloss:2.83534\n",
      "[105]\tvalidation_0-mlogloss:2.83181\n",
      "[106]\tvalidation_0-mlogloss:2.8284\n",
      "[107]\tvalidation_0-mlogloss:2.82492\n",
      "[108]\tvalidation_0-mlogloss:2.82157\n",
      "[109]\tvalidation_0-mlogloss:2.81824\n",
      "[110]\tvalidation_0-mlogloss:2.81495\n",
      "[111]\tvalidation_0-mlogloss:2.8116\n",
      "[112]\tvalidation_0-mlogloss:2.80839\n",
      "[113]\tvalidation_0-mlogloss:2.80516\n",
      "[114]\tvalidation_0-mlogloss:2.80189\n",
      "[115]\tvalidation_0-mlogloss:2.79872\n",
      "[116]\tvalidation_0-mlogloss:2.79556\n",
      "[117]\tvalidation_0-mlogloss:2.79239\n",
      "[118]\tvalidation_0-mlogloss:2.78926\n",
      "[119]\tvalidation_0-mlogloss:2.78609\n",
      "[120]\tvalidation_0-mlogloss:2.78307\n",
      "[121]\tvalidation_0-mlogloss:2.78002\n",
      "[122]\tvalidation_0-mlogloss:2.77702\n",
      "[123]\tvalidation_0-mlogloss:2.77405\n",
      "[124]\tvalidation_0-mlogloss:2.7712\n",
      "[125]\tvalidation_0-mlogloss:2.76825\n",
      "[126]\tvalidation_0-mlogloss:2.76537\n",
      "[127]\tvalidation_0-mlogloss:2.76255\n",
      "[128]\tvalidation_0-mlogloss:2.75974\n",
      "[129]\tvalidation_0-mlogloss:2.75693\n",
      "[130]\tvalidation_0-mlogloss:2.75408\n",
      "[131]\tvalidation_0-mlogloss:2.75133\n",
      "[132]\tvalidation_0-mlogloss:2.74851\n",
      "[133]\tvalidation_0-mlogloss:2.74582\n",
      "[134]\tvalidation_0-mlogloss:2.74314\n",
      "[135]\tvalidation_0-mlogloss:2.74053\n",
      "[136]\tvalidation_0-mlogloss:2.73796\n",
      "[137]\tvalidation_0-mlogloss:2.73534\n",
      "[138]\tvalidation_0-mlogloss:2.73275\n",
      "[139]\tvalidation_0-mlogloss:2.7302\n",
      "[140]\tvalidation_0-mlogloss:2.7276\n",
      "[141]\tvalidation_0-mlogloss:2.72509\n",
      "[142]\tvalidation_0-mlogloss:2.72255\n",
      "[143]\tvalidation_0-mlogloss:2.72\n",
      "[144]\tvalidation_0-mlogloss:2.71757\n",
      "[145]\tvalidation_0-mlogloss:2.71511\n",
      "[146]\tvalidation_0-mlogloss:2.71268\n",
      "[147]\tvalidation_0-mlogloss:2.7103\n",
      "[148]\tvalidation_0-mlogloss:2.70788\n",
      "[149]\tvalidation_0-mlogloss:2.70551\n",
      "[150]\tvalidation_0-mlogloss:2.70311\n",
      "[151]\tvalidation_0-mlogloss:2.70079\n",
      "[152]\tvalidation_0-mlogloss:2.69847\n",
      "[153]\tvalidation_0-mlogloss:2.6962\n",
      "[154]\tvalidation_0-mlogloss:2.69395\n",
      "[155]\tvalidation_0-mlogloss:2.69174\n",
      "[156]\tvalidation_0-mlogloss:2.68952\n",
      "[157]\tvalidation_0-mlogloss:2.68726\n",
      "[158]\tvalidation_0-mlogloss:2.68509\n",
      "[159]\tvalidation_0-mlogloss:2.6829\n",
      "[160]\tvalidation_0-mlogloss:2.6808\n",
      "[161]\tvalidation_0-mlogloss:2.67872\n",
      "[162]\tvalidation_0-mlogloss:2.67662\n",
      "[163]\tvalidation_0-mlogloss:2.67453\n",
      "[164]\tvalidation_0-mlogloss:2.67244\n",
      "[165]\tvalidation_0-mlogloss:2.67044\n",
      "[166]\tvalidation_0-mlogloss:2.66841\n",
      "[167]\tvalidation_0-mlogloss:2.6664\n",
      "[168]\tvalidation_0-mlogloss:2.66441\n",
      "[169]\tvalidation_0-mlogloss:2.66245\n",
      "[170]\tvalidation_0-mlogloss:2.66053\n",
      "[171]\tvalidation_0-mlogloss:2.65859\n",
      "[172]\tvalidation_0-mlogloss:2.65664\n",
      "[173]\tvalidation_0-mlogloss:2.65469\n",
      "[174]\tvalidation_0-mlogloss:2.65277\n",
      "[175]\tvalidation_0-mlogloss:2.65086\n",
      "[176]\tvalidation_0-mlogloss:2.64893\n",
      "[177]\tvalidation_0-mlogloss:2.64703\n",
      "[178]\tvalidation_0-mlogloss:2.64518\n",
      "[179]\tvalidation_0-mlogloss:2.64335\n",
      "[180]\tvalidation_0-mlogloss:2.64152\n",
      "[181]\tvalidation_0-mlogloss:2.63972\n",
      "[182]\tvalidation_0-mlogloss:2.63791\n",
      "[183]\tvalidation_0-mlogloss:2.63617\n",
      "[184]\tvalidation_0-mlogloss:2.63445\n",
      "[185]\tvalidation_0-mlogloss:2.63268\n",
      "[186]\tvalidation_0-mlogloss:2.63097\n",
      "[187]\tvalidation_0-mlogloss:2.62925\n",
      "[188]\tvalidation_0-mlogloss:2.62751\n",
      "[189]\tvalidation_0-mlogloss:2.62577\n",
      "[190]\tvalidation_0-mlogloss:2.62407\n",
      "[191]\tvalidation_0-mlogloss:2.6224\n",
      "[192]\tvalidation_0-mlogloss:2.62074\n",
      "[193]\tvalidation_0-mlogloss:2.61912\n",
      "[194]\tvalidation_0-mlogloss:2.61748\n",
      "[195]\tvalidation_0-mlogloss:2.61582\n",
      "[196]\tvalidation_0-mlogloss:2.6142\n",
      "[197]\tvalidation_0-mlogloss:2.61261\n",
      "[198]\tvalidation_0-mlogloss:2.61103\n",
      "[199]\tvalidation_0-mlogloss:2.60945\n",
      "[200]\tvalidation_0-mlogloss:2.60789\n",
      "[201]\tvalidation_0-mlogloss:2.60633\n",
      "[202]\tvalidation_0-mlogloss:2.60478\n",
      "[203]\tvalidation_0-mlogloss:2.60327\n",
      "[204]\tvalidation_0-mlogloss:2.60176\n",
      "[205]\tvalidation_0-mlogloss:2.60027\n",
      "[206]\tvalidation_0-mlogloss:2.59877\n",
      "[207]\tvalidation_0-mlogloss:2.5973\n",
      "[208]\tvalidation_0-mlogloss:2.59584\n",
      "[209]\tvalidation_0-mlogloss:2.59437\n",
      "[210]\tvalidation_0-mlogloss:2.5929\n",
      "[211]\tvalidation_0-mlogloss:2.59144\n",
      "[212]\tvalidation_0-mlogloss:2.59003\n",
      "[213]\tvalidation_0-mlogloss:2.58855\n",
      "[214]\tvalidation_0-mlogloss:2.58715\n",
      "[215]\tvalidation_0-mlogloss:2.58578\n",
      "[216]\tvalidation_0-mlogloss:2.58441\n",
      "[217]\tvalidation_0-mlogloss:2.58304\n",
      "[218]\tvalidation_0-mlogloss:2.58169\n",
      "[219]\tvalidation_0-mlogloss:2.58035\n",
      "[220]\tvalidation_0-mlogloss:2.579\n",
      "[221]\tvalidation_0-mlogloss:2.57766\n",
      "[222]\tvalidation_0-mlogloss:2.57633\n",
      "[223]\tvalidation_0-mlogloss:2.57503\n",
      "[224]\tvalidation_0-mlogloss:2.5737\n",
      "[225]\tvalidation_0-mlogloss:2.5724\n",
      "[226]\tvalidation_0-mlogloss:2.5711\n",
      "[227]\tvalidation_0-mlogloss:2.56981\n",
      "[228]\tvalidation_0-mlogloss:2.5685\n",
      "[229]\tvalidation_0-mlogloss:2.56724\n",
      "[230]\tvalidation_0-mlogloss:2.56596\n",
      "[231]\tvalidation_0-mlogloss:2.56474\n"
     ]
    },
    {
     "name": "stdout",
     "output_type": "stream",
     "text": [
      "[232]\tvalidation_0-mlogloss:2.56348\n",
      "[233]\tvalidation_0-mlogloss:2.56225\n",
      "[234]\tvalidation_0-mlogloss:2.56104\n",
      "[235]\tvalidation_0-mlogloss:2.55981\n",
      "[236]\tvalidation_0-mlogloss:2.55858\n",
      "[237]\tvalidation_0-mlogloss:2.55739\n",
      "[238]\tvalidation_0-mlogloss:2.5562\n",
      "[239]\tvalidation_0-mlogloss:2.55497\n",
      "[240]\tvalidation_0-mlogloss:2.55376\n",
      "[241]\tvalidation_0-mlogloss:2.55259\n",
      "[242]\tvalidation_0-mlogloss:2.55143\n",
      "[243]\tvalidation_0-mlogloss:2.55023\n",
      "[244]\tvalidation_0-mlogloss:2.54908\n",
      "[245]\tvalidation_0-mlogloss:2.54795\n",
      "[246]\tvalidation_0-mlogloss:2.54684\n",
      "[247]\tvalidation_0-mlogloss:2.54571\n",
      "[248]\tvalidation_0-mlogloss:2.54456\n",
      "[249]\tvalidation_0-mlogloss:2.54346\n",
      "[250]\tvalidation_0-mlogloss:2.54235\n",
      "[251]\tvalidation_0-mlogloss:2.54127\n",
      "[252]\tvalidation_0-mlogloss:2.54017\n",
      "[253]\tvalidation_0-mlogloss:2.53907\n",
      "[254]\tvalidation_0-mlogloss:2.538\n",
      "[255]\tvalidation_0-mlogloss:2.53692\n",
      "[256]\tvalidation_0-mlogloss:2.53586\n",
      "[257]\tvalidation_0-mlogloss:2.53482\n",
      "[258]\tvalidation_0-mlogloss:2.53379\n",
      "[259]\tvalidation_0-mlogloss:2.53275\n",
      "[260]\tvalidation_0-mlogloss:2.5317\n",
      "[261]\tvalidation_0-mlogloss:2.53067\n",
      "[262]\tvalidation_0-mlogloss:2.52965\n",
      "[263]\tvalidation_0-mlogloss:2.52862\n",
      "[264]\tvalidation_0-mlogloss:2.52762\n",
      "[265]\tvalidation_0-mlogloss:2.52663\n",
      "[266]\tvalidation_0-mlogloss:2.52566\n",
      "[267]\tvalidation_0-mlogloss:2.52467\n",
      "[268]\tvalidation_0-mlogloss:2.5237\n",
      "[269]\tvalidation_0-mlogloss:2.52271\n",
      "[270]\tvalidation_0-mlogloss:2.52175\n",
      "[271]\tvalidation_0-mlogloss:2.5208\n",
      "[272]\tvalidation_0-mlogloss:2.51985\n",
      "[273]\tvalidation_0-mlogloss:2.51891\n",
      "[274]\tvalidation_0-mlogloss:2.51798\n",
      "[275]\tvalidation_0-mlogloss:2.51704\n",
      "[276]\tvalidation_0-mlogloss:2.51614\n",
      "[277]\tvalidation_0-mlogloss:2.51523\n",
      "[278]\tvalidation_0-mlogloss:2.51434\n",
      "[279]\tvalidation_0-mlogloss:2.51345\n",
      "[280]\tvalidation_0-mlogloss:2.51252\n",
      "[281]\tvalidation_0-mlogloss:2.51161\n",
      "[282]\tvalidation_0-mlogloss:2.5107\n",
      "[283]\tvalidation_0-mlogloss:2.50983\n",
      "[284]\tvalidation_0-mlogloss:2.50897\n",
      "[285]\tvalidation_0-mlogloss:2.50811\n",
      "[286]\tvalidation_0-mlogloss:2.50721\n",
      "[287]\tvalidation_0-mlogloss:2.50636\n",
      "[288]\tvalidation_0-mlogloss:2.50548\n",
      "[289]\tvalidation_0-mlogloss:2.50465\n",
      "[290]\tvalidation_0-mlogloss:2.50379\n",
      "[291]\tvalidation_0-mlogloss:2.50294\n",
      "[292]\tvalidation_0-mlogloss:2.50211\n",
      "[293]\tvalidation_0-mlogloss:2.50128\n",
      "[294]\tvalidation_0-mlogloss:2.50046\n",
      "[295]\tvalidation_0-mlogloss:2.49964\n",
      "[296]\tvalidation_0-mlogloss:2.49882\n",
      "[297]\tvalidation_0-mlogloss:2.49801\n",
      "[298]\tvalidation_0-mlogloss:2.49721\n",
      "[299]\tvalidation_0-mlogloss:2.4964\n",
      "[300]\tvalidation_0-mlogloss:2.49559\n",
      "[301]\tvalidation_0-mlogloss:2.4948\n",
      "[302]\tvalidation_0-mlogloss:2.49402\n",
      "[303]\tvalidation_0-mlogloss:2.49321\n",
      "[304]\tvalidation_0-mlogloss:2.49245\n",
      "[305]\tvalidation_0-mlogloss:2.49164\n",
      "[306]\tvalidation_0-mlogloss:2.49089\n",
      "[307]\tvalidation_0-mlogloss:2.49013\n",
      "[308]\tvalidation_0-mlogloss:2.48935\n",
      "[309]\tvalidation_0-mlogloss:2.48861\n",
      "[310]\tvalidation_0-mlogloss:2.48786\n",
      "[311]\tvalidation_0-mlogloss:2.48712\n",
      "[312]\tvalidation_0-mlogloss:2.48638\n",
      "[313]\tvalidation_0-mlogloss:2.48564\n",
      "[314]\tvalidation_0-mlogloss:2.48491\n",
      "[315]\tvalidation_0-mlogloss:2.48416\n",
      "[316]\tvalidation_0-mlogloss:2.48343\n",
      "[317]\tvalidation_0-mlogloss:2.48271\n",
      "[318]\tvalidation_0-mlogloss:2.48199\n",
      "[319]\tvalidation_0-mlogloss:2.48129\n",
      "[320]\tvalidation_0-mlogloss:2.48059\n",
      "[321]\tvalidation_0-mlogloss:2.47989\n",
      "[322]\tvalidation_0-mlogloss:2.4792\n",
      "[323]\tvalidation_0-mlogloss:2.47851\n",
      "[324]\tvalidation_0-mlogloss:2.4778\n",
      "[325]\tvalidation_0-mlogloss:2.4771\n",
      "[326]\tvalidation_0-mlogloss:2.47643\n",
      "[327]\tvalidation_0-mlogloss:2.47578\n",
      "[328]\tvalidation_0-mlogloss:2.47508\n",
      "[329]\tvalidation_0-mlogloss:2.47443\n",
      "[330]\tvalidation_0-mlogloss:2.47374\n",
      "[331]\tvalidation_0-mlogloss:2.47308\n",
      "[332]\tvalidation_0-mlogloss:2.47239\n",
      "[333]\tvalidation_0-mlogloss:2.47173\n",
      "[334]\tvalidation_0-mlogloss:2.47106\n",
      "[335]\tvalidation_0-mlogloss:2.47041\n",
      "[336]\tvalidation_0-mlogloss:2.46977\n",
      "[337]\tvalidation_0-mlogloss:2.46914\n",
      "[338]\tvalidation_0-mlogloss:2.46848\n",
      "[339]\tvalidation_0-mlogloss:2.46785\n",
      "[340]\tvalidation_0-mlogloss:2.46722\n",
      "[341]\tvalidation_0-mlogloss:2.46658\n",
      "[342]\tvalidation_0-mlogloss:2.46597\n",
      "[343]\tvalidation_0-mlogloss:2.46535\n",
      "[344]\tvalidation_0-mlogloss:2.46474\n",
      "[345]\tvalidation_0-mlogloss:2.46414\n",
      "[346]\tvalidation_0-mlogloss:2.46353\n",
      "[347]\tvalidation_0-mlogloss:2.46292\n",
      "[348]\tvalidation_0-mlogloss:2.46229\n",
      "[349]\tvalidation_0-mlogloss:2.4617\n",
      "[350]\tvalidation_0-mlogloss:2.4611\n",
      "[351]\tvalidation_0-mlogloss:2.46049\n",
      "[352]\tvalidation_0-mlogloss:2.45993\n",
      "[353]\tvalidation_0-mlogloss:2.45933\n",
      "[354]\tvalidation_0-mlogloss:2.45872\n",
      "[355]\tvalidation_0-mlogloss:2.45815\n",
      "[356]\tvalidation_0-mlogloss:2.45758\n",
      "[357]\tvalidation_0-mlogloss:2.45702\n",
      "[358]\tvalidation_0-mlogloss:2.45647\n",
      "[359]\tvalidation_0-mlogloss:2.45591\n",
      "[360]\tvalidation_0-mlogloss:2.45536\n",
      "[361]\tvalidation_0-mlogloss:2.45479\n",
      "[362]\tvalidation_0-mlogloss:2.45424\n",
      "[363]\tvalidation_0-mlogloss:2.4537\n",
      "[364]\tvalidation_0-mlogloss:2.45314\n",
      "[365]\tvalidation_0-mlogloss:2.45258\n",
      "[366]\tvalidation_0-mlogloss:2.45203\n",
      "[367]\tvalidation_0-mlogloss:2.45151\n",
      "[368]\tvalidation_0-mlogloss:2.45096\n",
      "[369]\tvalidation_0-mlogloss:2.45042\n",
      "[370]\tvalidation_0-mlogloss:2.44989\n",
      "[371]\tvalidation_0-mlogloss:2.44935\n",
      "[372]\tvalidation_0-mlogloss:2.44883\n",
      "[373]\tvalidation_0-mlogloss:2.4483\n",
      "[374]\tvalidation_0-mlogloss:2.4478\n",
      "[375]\tvalidation_0-mlogloss:2.44731\n",
      "[376]\tvalidation_0-mlogloss:2.4468\n",
      "[377]\tvalidation_0-mlogloss:2.44629\n",
      "[378]\tvalidation_0-mlogloss:2.44578\n",
      "[379]\tvalidation_0-mlogloss:2.44529\n",
      "[380]\tvalidation_0-mlogloss:2.44479\n",
      "[381]\tvalidation_0-mlogloss:2.44429\n",
      "[382]\tvalidation_0-mlogloss:2.44379\n",
      "[383]\tvalidation_0-mlogloss:2.44326\n",
      "[384]\tvalidation_0-mlogloss:2.44278\n",
      "[385]\tvalidation_0-mlogloss:2.44229\n",
      "[386]\tvalidation_0-mlogloss:2.44179\n",
      "[387]\tvalidation_0-mlogloss:2.44129\n",
      "[388]\tvalidation_0-mlogloss:2.44081\n",
      "[389]\tvalidation_0-mlogloss:2.44034\n",
      "[390]\tvalidation_0-mlogloss:2.43987\n",
      "[391]\tvalidation_0-mlogloss:2.4394\n",
      "[392]\tvalidation_0-mlogloss:2.43895\n",
      "[393]\tvalidation_0-mlogloss:2.43847\n",
      "[394]\tvalidation_0-mlogloss:2.43799\n",
      "[395]\tvalidation_0-mlogloss:2.43752\n",
      "[396]\tvalidation_0-mlogloss:2.43704\n",
      "[397]\tvalidation_0-mlogloss:2.43656\n",
      "[398]\tvalidation_0-mlogloss:2.4361\n",
      "[399]\tvalidation_0-mlogloss:2.43566\n",
      "[400]\tvalidation_0-mlogloss:2.4352\n",
      "[401]\tvalidation_0-mlogloss:2.43478\n",
      "[402]\tvalidation_0-mlogloss:2.43432\n",
      "[403]\tvalidation_0-mlogloss:2.43387\n",
      "[404]\tvalidation_0-mlogloss:2.43343\n",
      "[405]\tvalidation_0-mlogloss:2.43299\n",
      "[406]\tvalidation_0-mlogloss:2.43255\n",
      "[407]\tvalidation_0-mlogloss:2.4321\n",
      "[408]\tvalidation_0-mlogloss:2.43167\n",
      "[409]\tvalidation_0-mlogloss:2.43123\n",
      "[410]\tvalidation_0-mlogloss:2.43082\n",
      "[411]\tvalidation_0-mlogloss:2.43039\n",
      "[412]\tvalidation_0-mlogloss:2.42995\n",
      "[413]\tvalidation_0-mlogloss:2.42954\n",
      "[414]\tvalidation_0-mlogloss:2.42912\n",
      "[415]\tvalidation_0-mlogloss:2.42871\n",
      "[416]\tvalidation_0-mlogloss:2.4283\n",
      "[417]\tvalidation_0-mlogloss:2.42789\n",
      "[418]\tvalidation_0-mlogloss:2.42747\n",
      "[419]\tvalidation_0-mlogloss:2.42705\n",
      "[420]\tvalidation_0-mlogloss:2.42663\n",
      "[421]\tvalidation_0-mlogloss:2.42621\n",
      "[422]\tvalidation_0-mlogloss:2.42581\n",
      "[423]\tvalidation_0-mlogloss:2.42538\n",
      "[424]\tvalidation_0-mlogloss:2.42497\n",
      "[425]\tvalidation_0-mlogloss:2.42457\n",
      "[426]\tvalidation_0-mlogloss:2.42416\n",
      "[427]\tvalidation_0-mlogloss:2.42376\n",
      "[428]\tvalidation_0-mlogloss:2.42338\n",
      "[429]\tvalidation_0-mlogloss:2.42299\n",
      "[430]\tvalidation_0-mlogloss:2.4226\n",
      "[431]\tvalidation_0-mlogloss:2.42223\n",
      "[432]\tvalidation_0-mlogloss:2.42186\n",
      "[433]\tvalidation_0-mlogloss:2.42147\n",
      "[434]\tvalidation_0-mlogloss:2.4211\n",
      "[435]\tvalidation_0-mlogloss:2.42073\n",
      "[436]\tvalidation_0-mlogloss:2.42037\n",
      "[437]\tvalidation_0-mlogloss:2.42\n",
      "[438]\tvalidation_0-mlogloss:2.41962\n",
      "[439]\tvalidation_0-mlogloss:2.41926\n",
      "[440]\tvalidation_0-mlogloss:2.4189\n",
      "[441]\tvalidation_0-mlogloss:2.41854\n",
      "[442]\tvalidation_0-mlogloss:2.41818\n",
      "[443]\tvalidation_0-mlogloss:2.41783\n",
      "[444]\tvalidation_0-mlogloss:2.41747\n",
      "[445]\tvalidation_0-mlogloss:2.4171\n",
      "[446]\tvalidation_0-mlogloss:2.41675\n",
      "[447]\tvalidation_0-mlogloss:2.41641\n",
      "[448]\tvalidation_0-mlogloss:2.41605\n",
      "[449]\tvalidation_0-mlogloss:2.41569\n",
      "[450]\tvalidation_0-mlogloss:2.41533\n",
      "[451]\tvalidation_0-mlogloss:2.415\n",
      "[452]\tvalidation_0-mlogloss:2.41467\n",
      "[453]\tvalidation_0-mlogloss:2.41432\n",
      "[454]\tvalidation_0-mlogloss:2.41397\n",
      "[455]\tvalidation_0-mlogloss:2.41364\n",
      "[456]\tvalidation_0-mlogloss:2.41331\n",
      "[457]\tvalidation_0-mlogloss:2.41295\n",
      "[458]\tvalidation_0-mlogloss:2.41262\n",
      "[459]\tvalidation_0-mlogloss:2.4123\n",
      "[460]\tvalidation_0-mlogloss:2.41194\n"
     ]
    },
    {
     "name": "stdout",
     "output_type": "stream",
     "text": [
      "[461]\tvalidation_0-mlogloss:2.41161\n",
      "[462]\tvalidation_0-mlogloss:2.41128\n",
      "[463]\tvalidation_0-mlogloss:2.41096\n",
      "[464]\tvalidation_0-mlogloss:2.41064\n",
      "[465]\tvalidation_0-mlogloss:2.4103\n",
      "[466]\tvalidation_0-mlogloss:2.40997\n",
      "[467]\tvalidation_0-mlogloss:2.40963\n",
      "[468]\tvalidation_0-mlogloss:2.40932\n",
      "[469]\tvalidation_0-mlogloss:2.40898\n",
      "[470]\tvalidation_0-mlogloss:2.40867\n",
      "[471]\tvalidation_0-mlogloss:2.40837\n",
      "[472]\tvalidation_0-mlogloss:2.40804\n",
      "[473]\tvalidation_0-mlogloss:2.40772\n",
      "[474]\tvalidation_0-mlogloss:2.4074\n",
      "[475]\tvalidation_0-mlogloss:2.40708\n",
      "[476]\tvalidation_0-mlogloss:2.40677\n",
      "[477]\tvalidation_0-mlogloss:2.40645\n",
      "[478]\tvalidation_0-mlogloss:2.40616\n",
      "[479]\tvalidation_0-mlogloss:2.40587\n",
      "[480]\tvalidation_0-mlogloss:2.40557\n",
      "[481]\tvalidation_0-mlogloss:2.40527\n",
      "[482]\tvalidation_0-mlogloss:2.40498\n",
      "[483]\tvalidation_0-mlogloss:2.40467\n",
      "[484]\tvalidation_0-mlogloss:2.40439\n",
      "[485]\tvalidation_0-mlogloss:2.40407\n",
      "[486]\tvalidation_0-mlogloss:2.40376\n",
      "[487]\tvalidation_0-mlogloss:2.40347\n",
      "[488]\tvalidation_0-mlogloss:2.40316\n",
      "[489]\tvalidation_0-mlogloss:2.40287\n",
      "[490]\tvalidation_0-mlogloss:2.4026\n",
      "[491]\tvalidation_0-mlogloss:2.40232\n",
      "[492]\tvalidation_0-mlogloss:2.40202\n",
      "[493]\tvalidation_0-mlogloss:2.40172\n",
      "[494]\tvalidation_0-mlogloss:2.40143\n",
      "[495]\tvalidation_0-mlogloss:2.40114\n",
      "[496]\tvalidation_0-mlogloss:2.40086\n",
      "[497]\tvalidation_0-mlogloss:2.40059\n",
      "[498]\tvalidation_0-mlogloss:2.4003\n",
      "[499]\tvalidation_0-mlogloss:2.40001\n",
      "[500]\tvalidation_0-mlogloss:2.39973\n",
      "[501]\tvalidation_0-mlogloss:2.39943\n",
      "[502]\tvalidation_0-mlogloss:2.39914\n",
      "[503]\tvalidation_0-mlogloss:2.39887\n",
      "[504]\tvalidation_0-mlogloss:2.3986\n",
      "[505]\tvalidation_0-mlogloss:2.39833\n",
      "[506]\tvalidation_0-mlogloss:2.39806\n",
      "[507]\tvalidation_0-mlogloss:2.39779\n",
      "[508]\tvalidation_0-mlogloss:2.39753\n",
      "[509]\tvalidation_0-mlogloss:2.39724\n",
      "[510]\tvalidation_0-mlogloss:2.39698\n",
      "[511]\tvalidation_0-mlogloss:2.39672\n",
      "[512]\tvalidation_0-mlogloss:2.39647\n",
      "[513]\tvalidation_0-mlogloss:2.3962\n",
      "[514]\tvalidation_0-mlogloss:2.39593\n",
      "[515]\tvalidation_0-mlogloss:2.39567\n",
      "[516]\tvalidation_0-mlogloss:2.3954\n",
      "[517]\tvalidation_0-mlogloss:2.39515\n",
      "[518]\tvalidation_0-mlogloss:2.39489\n",
      "[519]\tvalidation_0-mlogloss:2.39463\n",
      "[520]\tvalidation_0-mlogloss:2.39436\n",
      "[521]\tvalidation_0-mlogloss:2.3941\n",
      "[522]\tvalidation_0-mlogloss:2.39385\n",
      "[523]\tvalidation_0-mlogloss:2.39361\n",
      "[524]\tvalidation_0-mlogloss:2.39337\n",
      "[525]\tvalidation_0-mlogloss:2.39314\n",
      "[526]\tvalidation_0-mlogloss:2.39289\n",
      "[527]\tvalidation_0-mlogloss:2.39265\n",
      "[528]\tvalidation_0-mlogloss:2.39241\n",
      "[529]\tvalidation_0-mlogloss:2.39217\n",
      "[530]\tvalidation_0-mlogloss:2.39192\n",
      "[531]\tvalidation_0-mlogloss:2.39168\n",
      "[532]\tvalidation_0-mlogloss:2.39144\n",
      "[533]\tvalidation_0-mlogloss:2.39119\n",
      "[534]\tvalidation_0-mlogloss:2.39096\n",
      "[535]\tvalidation_0-mlogloss:2.39072\n",
      "[536]\tvalidation_0-mlogloss:2.39047\n",
      "[537]\tvalidation_0-mlogloss:2.39025\n",
      "[538]\tvalidation_0-mlogloss:2.39003\n",
      "[539]\tvalidation_0-mlogloss:2.3898\n",
      "[540]\tvalidation_0-mlogloss:2.38956\n",
      "[541]\tvalidation_0-mlogloss:2.38933\n",
      "[542]\tvalidation_0-mlogloss:2.38911\n",
      "[543]\tvalidation_0-mlogloss:2.38889\n",
      "[544]\tvalidation_0-mlogloss:2.38865\n",
      "[545]\tvalidation_0-mlogloss:2.38843\n",
      "[546]\tvalidation_0-mlogloss:2.38821\n",
      "[547]\tvalidation_0-mlogloss:2.38797\n",
      "[548]\tvalidation_0-mlogloss:2.38774\n",
      "[549]\tvalidation_0-mlogloss:2.38752\n",
      "[550]\tvalidation_0-mlogloss:2.38727\n",
      "[551]\tvalidation_0-mlogloss:2.38706\n",
      "[552]\tvalidation_0-mlogloss:2.38683\n",
      "[553]\tvalidation_0-mlogloss:2.38662\n",
      "[554]\tvalidation_0-mlogloss:2.38639\n",
      "[555]\tvalidation_0-mlogloss:2.38618\n",
      "[556]\tvalidation_0-mlogloss:2.38596\n",
      "[557]\tvalidation_0-mlogloss:2.38574\n",
      "[558]\tvalidation_0-mlogloss:2.38552\n",
      "[559]\tvalidation_0-mlogloss:2.38531\n",
      "[560]\tvalidation_0-mlogloss:2.38509\n",
      "[561]\tvalidation_0-mlogloss:2.38489\n",
      "[562]\tvalidation_0-mlogloss:2.38468\n",
      "[563]\tvalidation_0-mlogloss:2.38448\n",
      "[564]\tvalidation_0-mlogloss:2.38427\n",
      "[565]\tvalidation_0-mlogloss:2.38404\n",
      "[566]\tvalidation_0-mlogloss:2.38384\n",
      "[567]\tvalidation_0-mlogloss:2.38363\n",
      "[568]\tvalidation_0-mlogloss:2.38342\n",
      "[569]\tvalidation_0-mlogloss:2.38322\n",
      "[570]\tvalidation_0-mlogloss:2.38302\n",
      "[571]\tvalidation_0-mlogloss:2.3828\n",
      "[572]\tvalidation_0-mlogloss:2.3826\n",
      "[573]\tvalidation_0-mlogloss:2.3824\n",
      "[574]\tvalidation_0-mlogloss:2.3822\n",
      "[575]\tvalidation_0-mlogloss:2.382\n",
      "[576]\tvalidation_0-mlogloss:2.3818\n",
      "[577]\tvalidation_0-mlogloss:2.38159\n",
      "[578]\tvalidation_0-mlogloss:2.3814\n",
      "[579]\tvalidation_0-mlogloss:2.3812\n",
      "[580]\tvalidation_0-mlogloss:2.38099\n",
      "[581]\tvalidation_0-mlogloss:2.38079\n",
      "[582]\tvalidation_0-mlogloss:2.38059\n",
      "[583]\tvalidation_0-mlogloss:2.3804\n",
      "[584]\tvalidation_0-mlogloss:2.3802\n",
      "[585]\tvalidation_0-mlogloss:2.37999\n",
      "[586]\tvalidation_0-mlogloss:2.37979\n",
      "[587]\tvalidation_0-mlogloss:2.3796\n",
      "[588]\tvalidation_0-mlogloss:2.37942\n",
      "[589]\tvalidation_0-mlogloss:2.37922\n",
      "[590]\tvalidation_0-mlogloss:2.37903\n",
      "[591]\tvalidation_0-mlogloss:2.37886\n",
      "[592]\tvalidation_0-mlogloss:2.37867\n",
      "[593]\tvalidation_0-mlogloss:2.37849\n",
      "[594]\tvalidation_0-mlogloss:2.37828\n",
      "[595]\tvalidation_0-mlogloss:2.3781\n",
      "[596]\tvalidation_0-mlogloss:2.37792\n",
      "[597]\tvalidation_0-mlogloss:2.37771\n",
      "[598]\tvalidation_0-mlogloss:2.37753\n",
      "[599]\tvalidation_0-mlogloss:2.37735\n",
      "[600]\tvalidation_0-mlogloss:2.37718\n",
      "[601]\tvalidation_0-mlogloss:2.377\n",
      "[602]\tvalidation_0-mlogloss:2.37683\n",
      "[603]\tvalidation_0-mlogloss:2.37664\n",
      "[604]\tvalidation_0-mlogloss:2.37647\n",
      "[605]\tvalidation_0-mlogloss:2.37629\n",
      "[606]\tvalidation_0-mlogloss:2.37612\n",
      "[607]\tvalidation_0-mlogloss:2.37594\n",
      "[608]\tvalidation_0-mlogloss:2.37575\n",
      "[609]\tvalidation_0-mlogloss:2.37557\n",
      "[610]\tvalidation_0-mlogloss:2.37539\n",
      "[611]\tvalidation_0-mlogloss:2.37522\n",
      "[612]\tvalidation_0-mlogloss:2.37504\n",
      "[613]\tvalidation_0-mlogloss:2.37487\n",
      "[614]\tvalidation_0-mlogloss:2.37469\n",
      "[615]\tvalidation_0-mlogloss:2.37453\n",
      "[616]\tvalidation_0-mlogloss:2.37435\n",
      "[617]\tvalidation_0-mlogloss:2.37417\n",
      "[618]\tvalidation_0-mlogloss:2.37401\n",
      "[619]\tvalidation_0-mlogloss:2.37383\n",
      "[620]\tvalidation_0-mlogloss:2.37366\n",
      "[621]\tvalidation_0-mlogloss:2.37348\n",
      "[622]\tvalidation_0-mlogloss:2.3733\n",
      "[623]\tvalidation_0-mlogloss:2.37312\n",
      "[624]\tvalidation_0-mlogloss:2.37295\n",
      "[625]\tvalidation_0-mlogloss:2.37278\n",
      "[626]\tvalidation_0-mlogloss:2.37262\n",
      "[627]\tvalidation_0-mlogloss:2.37245\n",
      "[628]\tvalidation_0-mlogloss:2.3723\n",
      "[629]\tvalidation_0-mlogloss:2.37214\n",
      "[630]\tvalidation_0-mlogloss:2.37198\n",
      "[631]\tvalidation_0-mlogloss:2.37181\n",
      "[632]\tvalidation_0-mlogloss:2.37166\n",
      "[633]\tvalidation_0-mlogloss:2.3715\n",
      "[634]\tvalidation_0-mlogloss:2.37133\n",
      "[635]\tvalidation_0-mlogloss:2.37117\n",
      "[636]\tvalidation_0-mlogloss:2.37101\n",
      "[637]\tvalidation_0-mlogloss:2.37085\n",
      "[638]\tvalidation_0-mlogloss:2.37069\n",
      "[639]\tvalidation_0-mlogloss:2.37053\n",
      "[640]\tvalidation_0-mlogloss:2.37036\n",
      "[641]\tvalidation_0-mlogloss:2.37019\n",
      "[642]\tvalidation_0-mlogloss:2.37003\n",
      "[643]\tvalidation_0-mlogloss:2.36987\n",
      "[644]\tvalidation_0-mlogloss:2.3697\n",
      "[645]\tvalidation_0-mlogloss:2.36954\n",
      "[646]\tvalidation_0-mlogloss:2.36939\n",
      "[647]\tvalidation_0-mlogloss:2.36923\n",
      "[648]\tvalidation_0-mlogloss:2.36907\n",
      "[649]\tvalidation_0-mlogloss:2.36891\n",
      "[650]\tvalidation_0-mlogloss:2.36875\n",
      "[651]\tvalidation_0-mlogloss:2.36858\n",
      "[652]\tvalidation_0-mlogloss:2.36842\n",
      "[653]\tvalidation_0-mlogloss:2.36826\n",
      "[654]\tvalidation_0-mlogloss:2.3681\n",
      "[655]\tvalidation_0-mlogloss:2.36794\n",
      "[656]\tvalidation_0-mlogloss:2.3678\n",
      "[657]\tvalidation_0-mlogloss:2.36765\n",
      "[658]\tvalidation_0-mlogloss:2.3675\n",
      "[659]\tvalidation_0-mlogloss:2.36735\n",
      "[660]\tvalidation_0-mlogloss:2.3672\n",
      "[661]\tvalidation_0-mlogloss:2.36705\n",
      "[662]\tvalidation_0-mlogloss:2.36689\n",
      "[663]\tvalidation_0-mlogloss:2.36676\n",
      "[664]\tvalidation_0-mlogloss:2.36661\n",
      "[665]\tvalidation_0-mlogloss:2.36646\n",
      "[666]\tvalidation_0-mlogloss:2.36631\n",
      "[667]\tvalidation_0-mlogloss:2.36616\n",
      "[668]\tvalidation_0-mlogloss:2.36602\n",
      "[669]\tvalidation_0-mlogloss:2.36586\n",
      "[670]\tvalidation_0-mlogloss:2.36572\n",
      "[671]\tvalidation_0-mlogloss:2.36558\n",
      "[672]\tvalidation_0-mlogloss:2.36545\n",
      "[673]\tvalidation_0-mlogloss:2.36531\n",
      "[674]\tvalidation_0-mlogloss:2.36516\n",
      "[675]\tvalidation_0-mlogloss:2.36502\n",
      "[676]\tvalidation_0-mlogloss:2.36487\n",
      "[677]\tvalidation_0-mlogloss:2.36473\n",
      "[678]\tvalidation_0-mlogloss:2.36459\n",
      "[679]\tvalidation_0-mlogloss:2.36444\n",
      "[680]\tvalidation_0-mlogloss:2.3643\n",
      "[681]\tvalidation_0-mlogloss:2.36416\n",
      "[682]\tvalidation_0-mlogloss:2.36402\n",
      "[683]\tvalidation_0-mlogloss:2.36388\n",
      "[684]\tvalidation_0-mlogloss:2.36374\n",
      "[685]\tvalidation_0-mlogloss:2.36361\n",
      "[686]\tvalidation_0-mlogloss:2.36347\n",
      "[687]\tvalidation_0-mlogloss:2.36333\n",
      "[688]\tvalidation_0-mlogloss:2.36319\n",
      "[689]\tvalidation_0-mlogloss:2.36306\n"
     ]
    },
    {
     "name": "stdout",
     "output_type": "stream",
     "text": [
      "[690]\tvalidation_0-mlogloss:2.36293\n",
      "[691]\tvalidation_0-mlogloss:2.3628\n",
      "[692]\tvalidation_0-mlogloss:2.36266\n",
      "[693]\tvalidation_0-mlogloss:2.36253\n",
      "[694]\tvalidation_0-mlogloss:2.36241\n",
      "[695]\tvalidation_0-mlogloss:2.36224\n",
      "[696]\tvalidation_0-mlogloss:2.3621\n",
      "[697]\tvalidation_0-mlogloss:2.36197\n",
      "[698]\tvalidation_0-mlogloss:2.36184\n",
      "[699]\tvalidation_0-mlogloss:2.36171\n",
      "[700]\tvalidation_0-mlogloss:2.36157\n",
      "[701]\tvalidation_0-mlogloss:2.36144\n",
      "[702]\tvalidation_0-mlogloss:2.36132\n",
      "[703]\tvalidation_0-mlogloss:2.36119\n",
      "[704]\tvalidation_0-mlogloss:2.36107\n",
      "[705]\tvalidation_0-mlogloss:2.36094\n",
      "[706]\tvalidation_0-mlogloss:2.36081\n",
      "[707]\tvalidation_0-mlogloss:2.36068\n",
      "[708]\tvalidation_0-mlogloss:2.36055\n",
      "[709]\tvalidation_0-mlogloss:2.36043\n",
      "[710]\tvalidation_0-mlogloss:2.3603\n",
      "[711]\tvalidation_0-mlogloss:2.36017\n",
      "[712]\tvalidation_0-mlogloss:2.36004\n",
      "[713]\tvalidation_0-mlogloss:2.35992\n",
      "[714]\tvalidation_0-mlogloss:2.3598\n",
      "[715]\tvalidation_0-mlogloss:2.35968\n",
      "[716]\tvalidation_0-mlogloss:2.35956\n",
      "[717]\tvalidation_0-mlogloss:2.35943\n",
      "[718]\tvalidation_0-mlogloss:2.35932\n",
      "[719]\tvalidation_0-mlogloss:2.35919\n",
      "[720]\tvalidation_0-mlogloss:2.35907\n",
      "[721]\tvalidation_0-mlogloss:2.35895\n",
      "[722]\tvalidation_0-mlogloss:2.35883\n",
      "[723]\tvalidation_0-mlogloss:2.35871\n",
      "[724]\tvalidation_0-mlogloss:2.35859\n",
      "[725]\tvalidation_0-mlogloss:2.35846\n",
      "[726]\tvalidation_0-mlogloss:2.35833\n",
      "[727]\tvalidation_0-mlogloss:2.3582\n",
      "[728]\tvalidation_0-mlogloss:2.35808\n",
      "[729]\tvalidation_0-mlogloss:2.35797\n",
      "[730]\tvalidation_0-mlogloss:2.35785\n",
      "[731]\tvalidation_0-mlogloss:2.35772\n",
      "[732]\tvalidation_0-mlogloss:2.3576\n",
      "[733]\tvalidation_0-mlogloss:2.3575\n",
      "[734]\tvalidation_0-mlogloss:2.35738\n",
      "[735]\tvalidation_0-mlogloss:2.35726\n",
      "[736]\tvalidation_0-mlogloss:2.35715\n",
      "[737]\tvalidation_0-mlogloss:2.35704\n",
      "[738]\tvalidation_0-mlogloss:2.35693\n",
      "[739]\tvalidation_0-mlogloss:2.35681\n",
      "[740]\tvalidation_0-mlogloss:2.3567\n",
      "[741]\tvalidation_0-mlogloss:2.35659\n",
      "[742]\tvalidation_0-mlogloss:2.35647\n",
      "[743]\tvalidation_0-mlogloss:2.35634\n",
      "[744]\tvalidation_0-mlogloss:2.35622\n",
      "[745]\tvalidation_0-mlogloss:2.3561\n",
      "[746]\tvalidation_0-mlogloss:2.35599\n",
      "[747]\tvalidation_0-mlogloss:2.35588\n",
      "[748]\tvalidation_0-mlogloss:2.35576\n",
      "[749]\tvalidation_0-mlogloss:2.35564\n",
      "[750]\tvalidation_0-mlogloss:2.35554\n",
      "[751]\tvalidation_0-mlogloss:2.35542\n",
      "[752]\tvalidation_0-mlogloss:2.35531\n",
      "[753]\tvalidation_0-mlogloss:2.35521\n",
      "[754]\tvalidation_0-mlogloss:2.35508\n",
      "[755]\tvalidation_0-mlogloss:2.35496\n",
      "[756]\tvalidation_0-mlogloss:2.35486\n",
      "[757]\tvalidation_0-mlogloss:2.35475\n",
      "[758]\tvalidation_0-mlogloss:2.35464\n",
      "[759]\tvalidation_0-mlogloss:2.35452\n",
      "[760]\tvalidation_0-mlogloss:2.35441\n",
      "[761]\tvalidation_0-mlogloss:2.35431\n",
      "[762]\tvalidation_0-mlogloss:2.35421\n",
      "[763]\tvalidation_0-mlogloss:2.3541\n",
      "[764]\tvalidation_0-mlogloss:2.35399\n",
      "[765]\tvalidation_0-mlogloss:2.35388\n",
      "[766]\tvalidation_0-mlogloss:2.35377\n",
      "[767]\tvalidation_0-mlogloss:2.35366\n",
      "[768]\tvalidation_0-mlogloss:2.35355\n",
      "[769]\tvalidation_0-mlogloss:2.35344\n",
      "[770]\tvalidation_0-mlogloss:2.35333\n",
      "[771]\tvalidation_0-mlogloss:2.35321\n",
      "[772]\tvalidation_0-mlogloss:2.3531\n",
      "[773]\tvalidation_0-mlogloss:2.35299\n",
      "[774]\tvalidation_0-mlogloss:2.35287\n",
      "[775]\tvalidation_0-mlogloss:2.35278\n",
      "[776]\tvalidation_0-mlogloss:2.35267\n",
      "[777]\tvalidation_0-mlogloss:2.35255\n",
      "[778]\tvalidation_0-mlogloss:2.35245\n",
      "[779]\tvalidation_0-mlogloss:2.35235\n",
      "[780]\tvalidation_0-mlogloss:2.35225\n",
      "[781]\tvalidation_0-mlogloss:2.35214\n",
      "[782]\tvalidation_0-mlogloss:2.35204\n",
      "[783]\tvalidation_0-mlogloss:2.35194\n",
      "[784]\tvalidation_0-mlogloss:2.35183\n",
      "[785]\tvalidation_0-mlogloss:2.35174\n",
      "[786]\tvalidation_0-mlogloss:2.35164\n",
      "[787]\tvalidation_0-mlogloss:2.35154\n",
      "[788]\tvalidation_0-mlogloss:2.35144\n",
      "[789]\tvalidation_0-mlogloss:2.35133\n",
      "[790]\tvalidation_0-mlogloss:2.35123\n",
      "[791]\tvalidation_0-mlogloss:2.35113\n",
      "[792]\tvalidation_0-mlogloss:2.35103\n",
      "[793]\tvalidation_0-mlogloss:2.35091\n",
      "[794]\tvalidation_0-mlogloss:2.35082\n",
      "[795]\tvalidation_0-mlogloss:2.35072\n",
      "[796]\tvalidation_0-mlogloss:2.35062\n",
      "[797]\tvalidation_0-mlogloss:2.35051\n",
      "[798]\tvalidation_0-mlogloss:2.3504\n",
      "[799]\tvalidation_0-mlogloss:2.3503\n",
      "[800]\tvalidation_0-mlogloss:2.3502\n",
      "[801]\tvalidation_0-mlogloss:2.35011\n",
      "[802]\tvalidation_0-mlogloss:2.35\n",
      "[803]\tvalidation_0-mlogloss:2.34991\n",
      "[804]\tvalidation_0-mlogloss:2.3498\n",
      "[805]\tvalidation_0-mlogloss:2.3497\n",
      "[806]\tvalidation_0-mlogloss:2.3496\n",
      "[807]\tvalidation_0-mlogloss:2.34949\n",
      "[808]\tvalidation_0-mlogloss:2.3494\n",
      "[809]\tvalidation_0-mlogloss:2.34929\n",
      "[810]\tvalidation_0-mlogloss:2.3492\n",
      "[811]\tvalidation_0-mlogloss:2.34911\n",
      "[812]\tvalidation_0-mlogloss:2.349\n",
      "[813]\tvalidation_0-mlogloss:2.3489\n",
      "[814]\tvalidation_0-mlogloss:2.3488\n",
      "[815]\tvalidation_0-mlogloss:2.3487\n",
      "[816]\tvalidation_0-mlogloss:2.3486\n",
      "[817]\tvalidation_0-mlogloss:2.3485\n",
      "[818]\tvalidation_0-mlogloss:2.3484\n",
      "[819]\tvalidation_0-mlogloss:2.3483\n",
      "[820]\tvalidation_0-mlogloss:2.3482\n",
      "[821]\tvalidation_0-mlogloss:2.34811\n",
      "[822]\tvalidation_0-mlogloss:2.34803\n",
      "[823]\tvalidation_0-mlogloss:2.34794\n",
      "[824]\tvalidation_0-mlogloss:2.34784\n",
      "[825]\tvalidation_0-mlogloss:2.34773\n",
      "[826]\tvalidation_0-mlogloss:2.34764\n",
      "[827]\tvalidation_0-mlogloss:2.34755\n",
      "[828]\tvalidation_0-mlogloss:2.34746\n",
      "[829]\tvalidation_0-mlogloss:2.34737\n",
      "[830]\tvalidation_0-mlogloss:2.34727\n",
      "[831]\tvalidation_0-mlogloss:2.34717\n",
      "[832]\tvalidation_0-mlogloss:2.34709\n",
      "[833]\tvalidation_0-mlogloss:2.347\n",
      "[834]\tvalidation_0-mlogloss:2.3469\n",
      "[835]\tvalidation_0-mlogloss:2.34681\n",
      "[836]\tvalidation_0-mlogloss:2.34672\n",
      "[837]\tvalidation_0-mlogloss:2.34661\n",
      "[838]\tvalidation_0-mlogloss:2.34652\n",
      "[839]\tvalidation_0-mlogloss:2.34642\n",
      "[840]\tvalidation_0-mlogloss:2.34634\n",
      "[841]\tvalidation_0-mlogloss:2.34625\n",
      "[842]\tvalidation_0-mlogloss:2.34615\n",
      "[843]\tvalidation_0-mlogloss:2.34606\n",
      "[844]\tvalidation_0-mlogloss:2.34597\n",
      "[845]\tvalidation_0-mlogloss:2.34589\n",
      "[846]\tvalidation_0-mlogloss:2.34579\n",
      "[847]\tvalidation_0-mlogloss:2.34571\n",
      "[848]\tvalidation_0-mlogloss:2.34562\n",
      "[849]\tvalidation_0-mlogloss:2.34551\n",
      "[850]\tvalidation_0-mlogloss:2.34541\n",
      "[851]\tvalidation_0-mlogloss:2.34532\n",
      "[852]\tvalidation_0-mlogloss:2.34523\n",
      "[853]\tvalidation_0-mlogloss:2.34514\n",
      "[854]\tvalidation_0-mlogloss:2.34506\n",
      "[855]\tvalidation_0-mlogloss:2.34497\n",
      "[856]\tvalidation_0-mlogloss:2.34488\n",
      "[857]\tvalidation_0-mlogloss:2.34479\n",
      "[858]\tvalidation_0-mlogloss:2.3447\n",
      "[859]\tvalidation_0-mlogloss:2.34461\n",
      "[860]\tvalidation_0-mlogloss:2.34453\n",
      "[861]\tvalidation_0-mlogloss:2.34444\n",
      "[862]\tvalidation_0-mlogloss:2.34436\n",
      "[863]\tvalidation_0-mlogloss:2.34428\n",
      "[864]\tvalidation_0-mlogloss:2.3442\n",
      "[865]\tvalidation_0-mlogloss:2.34411\n",
      "[866]\tvalidation_0-mlogloss:2.34401\n",
      "[867]\tvalidation_0-mlogloss:2.34391\n",
      "[868]\tvalidation_0-mlogloss:2.34382\n",
      "[869]\tvalidation_0-mlogloss:2.34373\n",
      "[870]\tvalidation_0-mlogloss:2.34365\n",
      "[871]\tvalidation_0-mlogloss:2.34355\n",
      "[872]\tvalidation_0-mlogloss:2.34346\n",
      "[873]\tvalidation_0-mlogloss:2.34337\n",
      "[874]\tvalidation_0-mlogloss:2.34329\n",
      "[875]\tvalidation_0-mlogloss:2.34321\n",
      "[876]\tvalidation_0-mlogloss:2.34312\n",
      "[877]\tvalidation_0-mlogloss:2.34303\n",
      "[878]\tvalidation_0-mlogloss:2.34294\n",
      "[879]\tvalidation_0-mlogloss:2.34285\n",
      "[880]\tvalidation_0-mlogloss:2.34276\n",
      "[881]\tvalidation_0-mlogloss:2.34267\n",
      "[882]\tvalidation_0-mlogloss:2.34259\n",
      "[883]\tvalidation_0-mlogloss:2.34249\n",
      "[884]\tvalidation_0-mlogloss:2.3424\n",
      "[885]\tvalidation_0-mlogloss:2.34232\n",
      "[886]\tvalidation_0-mlogloss:2.34224\n",
      "[887]\tvalidation_0-mlogloss:2.34216\n",
      "[888]\tvalidation_0-mlogloss:2.34207\n",
      "[889]\tvalidation_0-mlogloss:2.34199\n",
      "[890]\tvalidation_0-mlogloss:2.34192\n",
      "[891]\tvalidation_0-mlogloss:2.34185\n",
      "[892]\tvalidation_0-mlogloss:2.34177\n",
      "[893]\tvalidation_0-mlogloss:2.34168\n",
      "[894]\tvalidation_0-mlogloss:2.34161\n",
      "[895]\tvalidation_0-mlogloss:2.34152\n",
      "[896]\tvalidation_0-mlogloss:2.34144\n",
      "[897]\tvalidation_0-mlogloss:2.34136\n",
      "[898]\tvalidation_0-mlogloss:2.34129\n",
      "[899]\tvalidation_0-mlogloss:2.3412\n",
      "[900]\tvalidation_0-mlogloss:2.34112\n",
      "[901]\tvalidation_0-mlogloss:2.34103\n",
      "[902]\tvalidation_0-mlogloss:2.34096\n",
      "[903]\tvalidation_0-mlogloss:2.34088\n",
      "[904]\tvalidation_0-mlogloss:2.3408\n",
      "[905]\tvalidation_0-mlogloss:2.34071\n",
      "[906]\tvalidation_0-mlogloss:2.34064\n",
      "[907]\tvalidation_0-mlogloss:2.34056\n",
      "[908]\tvalidation_0-mlogloss:2.34048\n",
      "[909]\tvalidation_0-mlogloss:2.34039\n",
      "[910]\tvalidation_0-mlogloss:2.34031\n",
      "[911]\tvalidation_0-mlogloss:2.34023\n",
      "[912]\tvalidation_0-mlogloss:2.34016\n",
      "[913]\tvalidation_0-mlogloss:2.34007\n",
      "[914]\tvalidation_0-mlogloss:2.33998\n",
      "[915]\tvalidation_0-mlogloss:2.33988\n",
      "[916]\tvalidation_0-mlogloss:2.33981\n",
      "[917]\tvalidation_0-mlogloss:2.33971\n",
      "[918]\tvalidation_0-mlogloss:2.33964\n"
     ]
    },
    {
     "name": "stdout",
     "output_type": "stream",
     "text": [
      "[919]\tvalidation_0-mlogloss:2.33956\n",
      "[920]\tvalidation_0-mlogloss:2.33948\n",
      "[921]\tvalidation_0-mlogloss:2.33941\n",
      "[922]\tvalidation_0-mlogloss:2.33932\n",
      "[923]\tvalidation_0-mlogloss:2.33924\n",
      "[924]\tvalidation_0-mlogloss:2.33916\n",
      "[925]\tvalidation_0-mlogloss:2.33909\n",
      "[926]\tvalidation_0-mlogloss:2.339\n",
      "[927]\tvalidation_0-mlogloss:2.33892\n",
      "[928]\tvalidation_0-mlogloss:2.33883\n",
      "[929]\tvalidation_0-mlogloss:2.33875\n",
      "[930]\tvalidation_0-mlogloss:2.33867\n",
      "[931]\tvalidation_0-mlogloss:2.3386\n",
      "[932]\tvalidation_0-mlogloss:2.33851\n",
      "[933]\tvalidation_0-mlogloss:2.33844\n",
      "[934]\tvalidation_0-mlogloss:2.33835\n",
      "[935]\tvalidation_0-mlogloss:2.33828\n",
      "[936]\tvalidation_0-mlogloss:2.33819\n",
      "[937]\tvalidation_0-mlogloss:2.33812\n",
      "[938]\tvalidation_0-mlogloss:2.33804\n",
      "[939]\tvalidation_0-mlogloss:2.33796\n",
      "[940]\tvalidation_0-mlogloss:2.33789\n",
      "[941]\tvalidation_0-mlogloss:2.33781\n",
      "[942]\tvalidation_0-mlogloss:2.33773\n",
      "[943]\tvalidation_0-mlogloss:2.33765\n",
      "[944]\tvalidation_0-mlogloss:2.33757\n",
      "[945]\tvalidation_0-mlogloss:2.3375\n",
      "[946]\tvalidation_0-mlogloss:2.33741\n",
      "[947]\tvalidation_0-mlogloss:2.33733\n",
      "[948]\tvalidation_0-mlogloss:2.33725\n",
      "[949]\tvalidation_0-mlogloss:2.33717\n",
      "[950]\tvalidation_0-mlogloss:2.33709\n",
      "[951]\tvalidation_0-mlogloss:2.33701\n",
      "[952]\tvalidation_0-mlogloss:2.33694\n",
      "[953]\tvalidation_0-mlogloss:2.33687\n",
      "[954]\tvalidation_0-mlogloss:2.33679\n",
      "[955]\tvalidation_0-mlogloss:2.33672\n",
      "[956]\tvalidation_0-mlogloss:2.33664\n",
      "[957]\tvalidation_0-mlogloss:2.33656\n",
      "[958]\tvalidation_0-mlogloss:2.33649\n",
      "[959]\tvalidation_0-mlogloss:2.33641\n",
      "[960]\tvalidation_0-mlogloss:2.33635\n",
      "[961]\tvalidation_0-mlogloss:2.33627\n",
      "[962]\tvalidation_0-mlogloss:2.3362\n",
      "[963]\tvalidation_0-mlogloss:2.33614\n",
      "[964]\tvalidation_0-mlogloss:2.33605\n",
      "[965]\tvalidation_0-mlogloss:2.33598\n",
      "[966]\tvalidation_0-mlogloss:2.33591\n",
      "[967]\tvalidation_0-mlogloss:2.33583\n",
      "[968]\tvalidation_0-mlogloss:2.33575\n",
      "[969]\tvalidation_0-mlogloss:2.33567\n",
      "[970]\tvalidation_0-mlogloss:2.3356\n",
      "[971]\tvalidation_0-mlogloss:2.33552\n",
      "[972]\tvalidation_0-mlogloss:2.33544\n",
      "[973]\tvalidation_0-mlogloss:2.33536\n",
      "[974]\tvalidation_0-mlogloss:2.33529\n",
      "[975]\tvalidation_0-mlogloss:2.33521\n",
      "[976]\tvalidation_0-mlogloss:2.33513\n",
      "[977]\tvalidation_0-mlogloss:2.33506\n",
      "[978]\tvalidation_0-mlogloss:2.33499\n",
      "[979]\tvalidation_0-mlogloss:2.33492\n",
      "[980]\tvalidation_0-mlogloss:2.33484\n",
      "[981]\tvalidation_0-mlogloss:2.33477\n",
      "[982]\tvalidation_0-mlogloss:2.3347\n",
      "[983]\tvalidation_0-mlogloss:2.33462\n",
      "[984]\tvalidation_0-mlogloss:2.33454\n",
      "[985]\tvalidation_0-mlogloss:2.33446\n",
      "[986]\tvalidation_0-mlogloss:2.33438\n",
      "[987]\tvalidation_0-mlogloss:2.3343\n",
      "[988]\tvalidation_0-mlogloss:2.33424\n",
      "[989]\tvalidation_0-mlogloss:2.33416\n",
      "[990]\tvalidation_0-mlogloss:2.33409\n",
      "[991]\tvalidation_0-mlogloss:2.33402\n",
      "[992]\tvalidation_0-mlogloss:2.33394\n",
      "[993]\tvalidation_0-mlogloss:2.33387\n",
      "[994]\tvalidation_0-mlogloss:2.3338\n",
      "[995]\tvalidation_0-mlogloss:2.33371\n",
      "[996]\tvalidation_0-mlogloss:2.33364\n",
      "[997]\tvalidation_0-mlogloss:2.33357\n",
      "[998]\tvalidation_0-mlogloss:2.3335\n",
      "[999]\tvalidation_0-mlogloss:2.33343\n",
      "[1000]\tvalidation_0-mlogloss:2.33336\n",
      "[1001]\tvalidation_0-mlogloss:2.33329\n",
      "[1002]\tvalidation_0-mlogloss:2.33322\n",
      "[1003]\tvalidation_0-mlogloss:2.33316\n",
      "[1004]\tvalidation_0-mlogloss:2.33309\n",
      "[1005]\tvalidation_0-mlogloss:2.33302\n",
      "[1006]\tvalidation_0-mlogloss:2.33296\n",
      "[1007]\tvalidation_0-mlogloss:2.33289\n",
      "[1008]\tvalidation_0-mlogloss:2.33283\n",
      "[1009]\tvalidation_0-mlogloss:2.33275\n",
      "[1010]\tvalidation_0-mlogloss:2.33269\n",
      "[1011]\tvalidation_0-mlogloss:2.33262\n",
      "[1012]\tvalidation_0-mlogloss:2.33255\n",
      "[1013]\tvalidation_0-mlogloss:2.33249\n",
      "[1014]\tvalidation_0-mlogloss:2.33243\n",
      "[1015]\tvalidation_0-mlogloss:2.33236\n",
      "[1016]\tvalidation_0-mlogloss:2.33229\n",
      "[1017]\tvalidation_0-mlogloss:2.33223\n",
      "[1018]\tvalidation_0-mlogloss:2.33216\n",
      "[1019]\tvalidation_0-mlogloss:2.3321\n",
      "[1020]\tvalidation_0-mlogloss:2.33203\n",
      "[1021]\tvalidation_0-mlogloss:2.33196\n",
      "[1022]\tvalidation_0-mlogloss:2.33189\n",
      "[1023]\tvalidation_0-mlogloss:2.33183\n",
      "[1024]\tvalidation_0-mlogloss:2.33176\n",
      "[1025]\tvalidation_0-mlogloss:2.33169\n",
      "[1026]\tvalidation_0-mlogloss:2.33162\n",
      "[1027]\tvalidation_0-mlogloss:2.33156\n",
      "[1028]\tvalidation_0-mlogloss:2.33149\n",
      "[1029]\tvalidation_0-mlogloss:2.33141\n",
      "[1030]\tvalidation_0-mlogloss:2.33135\n",
      "[1031]\tvalidation_0-mlogloss:2.33128\n",
      "[1032]\tvalidation_0-mlogloss:2.33121\n",
      "[1033]\tvalidation_0-mlogloss:2.33115\n",
      "[1034]\tvalidation_0-mlogloss:2.33108\n",
      "[1035]\tvalidation_0-mlogloss:2.33101\n",
      "[1036]\tvalidation_0-mlogloss:2.33095\n",
      "[1037]\tvalidation_0-mlogloss:2.33089\n",
      "[1038]\tvalidation_0-mlogloss:2.33082\n",
      "[1039]\tvalidation_0-mlogloss:2.33074\n",
      "[1040]\tvalidation_0-mlogloss:2.33068\n",
      "[1041]\tvalidation_0-mlogloss:2.33062\n",
      "[1042]\tvalidation_0-mlogloss:2.33055\n",
      "[1043]\tvalidation_0-mlogloss:2.33048\n",
      "[1044]\tvalidation_0-mlogloss:2.33042\n",
      "[1045]\tvalidation_0-mlogloss:2.33035\n",
      "[1046]\tvalidation_0-mlogloss:2.33029\n",
      "[1047]\tvalidation_0-mlogloss:2.33024\n",
      "[1048]\tvalidation_0-mlogloss:2.33016\n",
      "[1049]\tvalidation_0-mlogloss:2.3301\n",
      "[1050]\tvalidation_0-mlogloss:2.33003\n",
      "[1051]\tvalidation_0-mlogloss:2.32996\n",
      "[1052]\tvalidation_0-mlogloss:2.32988\n",
      "[1053]\tvalidation_0-mlogloss:2.32982\n",
      "[1054]\tvalidation_0-mlogloss:2.32976\n",
      "[1055]\tvalidation_0-mlogloss:2.32968\n",
      "[1056]\tvalidation_0-mlogloss:2.32961\n",
      "[1057]\tvalidation_0-mlogloss:2.32954\n",
      "[1058]\tvalidation_0-mlogloss:2.32947\n",
      "[1059]\tvalidation_0-mlogloss:2.3294\n",
      "[1060]\tvalidation_0-mlogloss:2.32934\n",
      "[1061]\tvalidation_0-mlogloss:2.32928\n",
      "[1062]\tvalidation_0-mlogloss:2.32922\n",
      "[1063]\tvalidation_0-mlogloss:2.32915\n",
      "[1064]\tvalidation_0-mlogloss:2.32909\n",
      "[1065]\tvalidation_0-mlogloss:2.32901\n",
      "[1066]\tvalidation_0-mlogloss:2.32894\n",
      "[1067]\tvalidation_0-mlogloss:2.32887\n",
      "[1068]\tvalidation_0-mlogloss:2.32881\n",
      "[1069]\tvalidation_0-mlogloss:2.32873\n",
      "[1070]\tvalidation_0-mlogloss:2.32866\n",
      "[1071]\tvalidation_0-mlogloss:2.3286\n",
      "[1072]\tvalidation_0-mlogloss:2.32853\n",
      "[1073]\tvalidation_0-mlogloss:2.32847\n",
      "[1074]\tvalidation_0-mlogloss:2.32841\n",
      "[1075]\tvalidation_0-mlogloss:2.32834\n",
      "[1076]\tvalidation_0-mlogloss:2.32828\n",
      "[1077]\tvalidation_0-mlogloss:2.32821\n",
      "[1078]\tvalidation_0-mlogloss:2.32814\n",
      "[1079]\tvalidation_0-mlogloss:2.32809\n",
      "[1080]\tvalidation_0-mlogloss:2.32802\n",
      "[1081]\tvalidation_0-mlogloss:2.32796\n",
      "[1082]\tvalidation_0-mlogloss:2.3279\n",
      "[1083]\tvalidation_0-mlogloss:2.32784\n",
      "[1084]\tvalidation_0-mlogloss:2.32777\n",
      "[1085]\tvalidation_0-mlogloss:2.32771\n",
      "[1086]\tvalidation_0-mlogloss:2.32765\n",
      "[1087]\tvalidation_0-mlogloss:2.32759\n",
      "[1088]\tvalidation_0-mlogloss:2.32752\n",
      "[1089]\tvalidation_0-mlogloss:2.32745\n",
      "[1090]\tvalidation_0-mlogloss:2.3274\n",
      "[1091]\tvalidation_0-mlogloss:2.32733\n",
      "[1092]\tvalidation_0-mlogloss:2.32727\n",
      "[1093]\tvalidation_0-mlogloss:2.3272\n",
      "[1094]\tvalidation_0-mlogloss:2.32714\n",
      "[1095]\tvalidation_0-mlogloss:2.32706\n",
      "[1096]\tvalidation_0-mlogloss:2.327\n",
      "[1097]\tvalidation_0-mlogloss:2.32694\n",
      "[1098]\tvalidation_0-mlogloss:2.32688\n",
      "[1099]\tvalidation_0-mlogloss:2.32681\n",
      "[1100]\tvalidation_0-mlogloss:2.32675\n",
      "[1101]\tvalidation_0-mlogloss:2.3267\n",
      "[1102]\tvalidation_0-mlogloss:2.32663\n",
      "[1103]\tvalidation_0-mlogloss:2.32657\n",
      "[1104]\tvalidation_0-mlogloss:2.32651\n",
      "[1105]\tvalidation_0-mlogloss:2.32645\n",
      "[1106]\tvalidation_0-mlogloss:2.32639\n",
      "[1107]\tvalidation_0-mlogloss:2.32633\n",
      "[1108]\tvalidation_0-mlogloss:2.32627\n",
      "[1109]\tvalidation_0-mlogloss:2.32621\n",
      "[1110]\tvalidation_0-mlogloss:2.32616\n",
      "[1111]\tvalidation_0-mlogloss:2.32609\n",
      "[1112]\tvalidation_0-mlogloss:2.32602\n",
      "[1113]\tvalidation_0-mlogloss:2.32597\n",
      "[1114]\tvalidation_0-mlogloss:2.32591\n",
      "[1115]\tvalidation_0-mlogloss:2.32585\n",
      "[1116]\tvalidation_0-mlogloss:2.32578\n",
      "[1117]\tvalidation_0-mlogloss:2.3257\n",
      "[1118]\tvalidation_0-mlogloss:2.32563\n",
      "[1119]\tvalidation_0-mlogloss:2.32556\n",
      "[1120]\tvalidation_0-mlogloss:2.32551\n",
      "[1121]\tvalidation_0-mlogloss:2.32544\n",
      "[1122]\tvalidation_0-mlogloss:2.32539\n",
      "[1123]\tvalidation_0-mlogloss:2.32533\n",
      "[1124]\tvalidation_0-mlogloss:2.32527\n",
      "[1125]\tvalidation_0-mlogloss:2.3252\n",
      "[1126]\tvalidation_0-mlogloss:2.32514\n",
      "[1127]\tvalidation_0-mlogloss:2.32507\n",
      "[1128]\tvalidation_0-mlogloss:2.32501\n",
      "[1129]\tvalidation_0-mlogloss:2.32494\n",
      "[1130]\tvalidation_0-mlogloss:2.32488\n",
      "[1131]\tvalidation_0-mlogloss:2.32482\n",
      "[1132]\tvalidation_0-mlogloss:2.32476\n",
      "[1133]\tvalidation_0-mlogloss:2.3247\n",
      "[1134]\tvalidation_0-mlogloss:2.32463\n",
      "[1135]\tvalidation_0-mlogloss:2.32456\n",
      "[1136]\tvalidation_0-mlogloss:2.3245\n",
      "[1137]\tvalidation_0-mlogloss:2.32443\n",
      "[1138]\tvalidation_0-mlogloss:2.32436\n",
      "[1139]\tvalidation_0-mlogloss:2.32431\n",
      "[1140]\tvalidation_0-mlogloss:2.32425\n",
      "[1141]\tvalidation_0-mlogloss:2.32419\n",
      "[1142]\tvalidation_0-mlogloss:2.32413\n",
      "[1143]\tvalidation_0-mlogloss:2.32407\n"
     ]
    },
    {
     "name": "stdout",
     "output_type": "stream",
     "text": [
      "[1144]\tvalidation_0-mlogloss:2.32402\n",
      "[1145]\tvalidation_0-mlogloss:2.32396\n",
      "[1146]\tvalidation_0-mlogloss:2.32389\n",
      "[1147]\tvalidation_0-mlogloss:2.32382\n",
      "[1148]\tvalidation_0-mlogloss:2.32376\n",
      "[1149]\tvalidation_0-mlogloss:2.3237\n",
      "[1150]\tvalidation_0-mlogloss:2.32363\n",
      "[1151]\tvalidation_0-mlogloss:2.32358\n",
      "[1152]\tvalidation_0-mlogloss:2.32353\n",
      "[1153]\tvalidation_0-mlogloss:2.32347\n",
      "[1154]\tvalidation_0-mlogloss:2.3234\n",
      "[1155]\tvalidation_0-mlogloss:2.32335\n",
      "[1156]\tvalidation_0-mlogloss:2.32329\n",
      "[1157]\tvalidation_0-mlogloss:2.32323\n",
      "[1158]\tvalidation_0-mlogloss:2.32316\n",
      "[1159]\tvalidation_0-mlogloss:2.32311\n",
      "[1160]\tvalidation_0-mlogloss:2.32304\n",
      "[1161]\tvalidation_0-mlogloss:2.32297\n",
      "[1162]\tvalidation_0-mlogloss:2.32291\n",
      "[1163]\tvalidation_0-mlogloss:2.32285\n",
      "[1164]\tvalidation_0-mlogloss:2.32279\n",
      "[1165]\tvalidation_0-mlogloss:2.32273\n",
      "[1166]\tvalidation_0-mlogloss:2.32266\n",
      "[1167]\tvalidation_0-mlogloss:2.3226\n",
      "[1168]\tvalidation_0-mlogloss:2.32253\n",
      "[1169]\tvalidation_0-mlogloss:2.32247\n",
      "[1170]\tvalidation_0-mlogloss:2.32241\n",
      "[1171]\tvalidation_0-mlogloss:2.32235\n",
      "[1172]\tvalidation_0-mlogloss:2.3223\n",
      "[1173]\tvalidation_0-mlogloss:2.32224\n",
      "[1174]\tvalidation_0-mlogloss:2.32217\n",
      "[1175]\tvalidation_0-mlogloss:2.32211\n",
      "[1176]\tvalidation_0-mlogloss:2.32205\n",
      "[1177]\tvalidation_0-mlogloss:2.32199\n",
      "[1178]\tvalidation_0-mlogloss:2.32193\n",
      "[1179]\tvalidation_0-mlogloss:2.32186\n",
      "[1180]\tvalidation_0-mlogloss:2.32181\n",
      "[1181]\tvalidation_0-mlogloss:2.32176\n",
      "[1182]\tvalidation_0-mlogloss:2.3217\n",
      "[1183]\tvalidation_0-mlogloss:2.32164\n",
      "[1184]\tvalidation_0-mlogloss:2.32158\n",
      "[1185]\tvalidation_0-mlogloss:2.32152\n",
      "[1186]\tvalidation_0-mlogloss:2.32146\n",
      "[1187]\tvalidation_0-mlogloss:2.3214\n",
      "[1188]\tvalidation_0-mlogloss:2.32135\n",
      "[1189]\tvalidation_0-mlogloss:2.32129\n",
      "[1190]\tvalidation_0-mlogloss:2.32123\n",
      "[1191]\tvalidation_0-mlogloss:2.32117\n",
      "[1192]\tvalidation_0-mlogloss:2.32111\n",
      "[1193]\tvalidation_0-mlogloss:2.32106\n",
      "[1194]\tvalidation_0-mlogloss:2.321\n",
      "[1195]\tvalidation_0-mlogloss:2.32095\n",
      "[1196]\tvalidation_0-mlogloss:2.3209\n",
      "[1197]\tvalidation_0-mlogloss:2.32084\n",
      "[1198]\tvalidation_0-mlogloss:2.32078\n",
      "[1199]\tvalidation_0-mlogloss:2.32072\n",
      "Training elapse 18786 sencond.\n"
     ]
    }
   ],
   "source": [
    "xgbclf_best = xgb.XGBClassifier(**base_params)\n",
    "start = time()\n",
    "xgbclf_best.fit(total_X, total_y_true,\n",
    "                eval_set=[(total_X, total_y_true)],\n",
    "                eval_metric=\"mlogloss\",\n",
    "                verbose=True\n",
    "               )\n",
    "print(\"Training elapse %d sencond.\" % (time()-start))"
   ]
  },
  {
   "cell_type": "markdown",
   "metadata": {},
   "source": [
    "#### 预测测试集"
   ]
  },
  {
   "cell_type": "code",
   "execution_count": 41,
   "metadata": {},
   "outputs": [],
   "source": [
    "valid_data = pd.read_csv(\"../datasets/test_preprocess.csv\")\n",
    "valid_X = valid_data[feature_names]"
   ]
  },
  {
   "cell_type": "code",
   "execution_count": 42,
   "metadata": {},
   "outputs": [],
   "source": [
    "y_pred_prob = np.round(xgbclf_best.predict_proba(valid_X), 4)\n",
    "csv_output = pd.DataFrame(columns=xgbclf_best.classes_, data=y_pred_prob)\n",
    "csv_output.insert(0, \"Id\", valid_data[\"Id\"])\n",
    "csv_output.to_csv(\"../results/XGBClassifier_best.csv\", index=False)"
   ]
  },
  {
   "cell_type": "code",
   "execution_count": 43,
   "metadata": {},
   "outputs": [],
   "source": [
    "xgbclf_best.save_model(\"../models/xgbclf_best.model\")"
   ]
  },
  {
   "cell_type": "code",
   "execution_count": null,
   "metadata": {},
   "outputs": [],
   "source": []
  }
 ],
 "metadata": {
  "kernelspec": {
   "display_name": "Python 3",
   "language": "python",
   "name": "python3"
  },
  "language_info": {
   "codemirror_mode": {
    "name": "ipython",
    "version": 3
   },
   "file_extension": ".py",
   "mimetype": "text/x-python",
   "name": "python",
   "nbconvert_exporter": "python",
   "pygments_lexer": "ipython3",
   "version": "3.6.7"
  }
 },
 "nbformat": 4,
 "nbformat_minor": 2
}
