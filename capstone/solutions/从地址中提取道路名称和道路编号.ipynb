{
 "cells": [
  {
   "cell_type": "code",
   "execution_count": 4,
   "metadata": {},
   "outputs": [
    {
     "data": {
      "text/plain": [
       "<module 'preprocess' from 'D:\\\\GitHub\\\\MachineLearning\\\\capstone\\\\solutions\\\\preprocess.py'>"
      ]
     },
     "execution_count": 4,
     "metadata": {},
     "output_type": "execute_result"
    }
   ],
   "source": [
    "import pandas as pd\n",
    "import numpy as np\n",
    "import re\n",
    "from time import time\n",
    "import preprocess as datapre\n",
    "import importlib\n",
    "\n",
    "importlib.reload(datapre)"
   ]
  },
  {
   "cell_type": "code",
   "execution_count": 5,
   "metadata": {},
   "outputs": [],
   "source": [
    "train_data = pd.read_csv(\"../datasets/train.csv\")"
   ]
  },
  {
   "cell_type": "code",
   "execution_count": 46,
   "metadata": {},
   "outputs": [],
   "source": [
    "suffixs = [\"AL\",\"AV\",\"BL\",\"CR\",\"CT\",\"DR\",\"EX\",\"HWY\",\"HY\",\"LN\",\"PL\",\"PZ\",\"RD\",\"ST\",\"TR\",\"TER\",\"WY\",\"WAY\"]\n",
    "col_block = \"RoadBlock\"\n",
    "col_name1 = \"RoadName1\"\n",
    "col_name2 = \"RoadName2\"\n",
    "train_data[col_name1] = None\n",
    "train_data[col_name2] = None\n",
    "train_data[col_block] = None\n",
    "\n",
    "# 1200 Block of 3RD ST\n",
    "block_pattern = r'(^\\d{1,}) Block'\n",
    "\n",
    "# 1200 Block of 3RD ST\n",
    "name_patterns1 = [r\"of (.*?) \"+ i + r\"$\" for i in suffixs]\n",
    "\n",
    "# 5TH ST / MARKET ST 前半段\n",
    "name_patterns2 = [r\"(.*?) \"+ i + r\" /\" for i in suffixs] \n",
    "\n",
    "# 5TH ST / MARKET ST 后半段\n",
    "name_patterns3 = [r\"/ (.*?) \" + i + r\"$\" for i in suffixs]\n",
    "    "
   ]
  },
  {
   "cell_type": "code",
   "execution_count": 47,
   "metadata": {},
   "outputs": [],
   "source": [
    "block_map_row = 0\n",
    "def block_map(a):\n",
    "    global block_map_row\n",
    "    block_map_row += 1\n",
    "    if not isinstance(a, list):\n",
    "        raise TypeError(\"block_map, row: {}\".format(block_map_row-1))\n",
    "        \n",
    "    if len(a) != 0:\n",
    "        if len(a) > 1:\n",
    "            print(\"INFO: block_map row: {} cnt: {} data: {}.\".format(block_map_row-1, len(a), a))\n",
    "        return a[0]\n",
    "    else:\n",
    "        return None\n",
    "\n",
    "blocks = train_data[\"Address\"].str.findall(block_pattern)\n",
    "train_data[col_block] = blocks.map(block_map)"
   ]
  },
  {
   "cell_type": "code",
   "execution_count": 48,
   "metadata": {},
   "outputs": [],
   "source": [
    "address_map_row = 0\n",
    "def address_map(a):\n",
    "    global address_map_row\n",
    "    address_map_row += 1\n",
    "    if not isinstance(a, list):\n",
    "        raise TypeError(\"address_map, row: {}\".format(address_map_row-1))\n",
    "\n",
    "    if len(a) != 0:\n",
    "        if len(a) > 1:\n",
    "            print(\"INFO: block_map row: {} cnt: {} data: {}\".format(address_map_row-1, len(a), a))\n",
    "        return a[0]\n",
    "    else:\n",
    "        return None"
   ]
  },
  {
   "cell_type": "code",
   "execution_count": 51,
   "metadata": {},
   "outputs": [],
   "source": [
    "address_map_row=0\n",
    "address1 = train_data['Address'].str.findall(name_patterns1[0])\n",
    "for i in name_patterns1[1:]:\n",
    "    address1 += train_data['Address'].str.findall(i)\n",
    "address1 = address1.map(address_map)"
   ]
  },
  {
   "cell_type": "code",
   "execution_count": 53,
   "metadata": {},
   "outputs": [
    {
     "data": {
      "text/plain": [
       "47    None\n",
       "48    None\n",
       "Name: Address, dtype: object"
      ]
     },
     "execution_count": 53,
     "metadata": {},
     "output_type": "execute_result"
    }
   ],
   "source": [
    "address1[47:49]"
   ]
  },
  {
   "cell_type": "code",
   "execution_count": 49,
   "metadata": {},
   "outputs": [],
   "source": [
    "address_map_row=0\n",
    "address2 = train_data[\"Address\"].str.findall(name_patterns2[0])\n",
    "for i in name_patterns2[1:]:\n",
    "    address2 += train_data['Address'].str.findall(i)\n",
    "address2 = address2.map(address_map)"
   ]
  },
  {
   "cell_type": "code",
   "execution_count": 50,
   "metadata": {},
   "outputs": [
    {
     "data": {
      "text/plain": [
       "'LINCOLN'"
      ]
     },
     "execution_count": 50,
     "metadata": {},
     "output_type": "execute_result"
    }
   ],
   "source": [
    "address2[47]"
   ]
  },
  {
   "cell_type": "code",
   "execution_count": null,
   "metadata": {},
   "outputs": [],
   "source": [
    "# address1有地址的行，address2应该没有地址\n",
    "tmp = address2[address1.isna() == False].isna()\n",
    "if not tmp.all():\n",
    "    print(\"address1 and address2 repeat. index: \", tmp[tmp==False].index)"
   ]
  },
  {
   "cell_type": "code",
   "execution_count": null,
   "metadata": {},
   "outputs": [],
   "source": [
    "address_map_row=0\n",
    "address3 = train_data[\"Address\"].str.findall(name_patterns3[0])\n",
    "for i in name_patterns3[1:]:\n",
    "    address3 += train_data['Address'].str.findall(i)\n",
    "address3 = address3.map(address_map)"
   ]
  },
  {
   "cell_type": "code",
   "execution_count": null,
   "metadata": {},
   "outputs": [],
   "source": [
    "# address1和address3不应该有重复的地方\n",
    "tmp = address3[address1.isna() == False].isna()\n",
    "if not tmp.all():\n",
    "    print(\"address1 and address3 repeat. index: \", tmp[tmp==False].index)"
   ]
  },
  {
   "cell_type": "code",
   "execution_count": null,
   "metadata": {},
   "outputs": [],
   "source": [
    "# address2 和 address3 同一行只有一个有地址\n",
    "tmp = address3[address2.isna()].isna()\n",
    "if not tmp.all():\n",
    "    print(\"address2 and address3 not all None. index: \", tmp[tmp==False].index.shape)\n",
    "\n",
    "tmp = address2[address3.isna()].isna()\n",
    "if not tmp.all():\n",
    "    print(\"address2 and address3 not all None. index: \", tmp[tmp==False].index.shape)"
   ]
  },
  {
   "cell_type": "code",
   "execution_count": 54,
   "metadata": {},
   "outputs": [],
   "source": [
    "# merge address1 and address2\n",
    "tmp = address1.isna()\n",
    "address1[tmp] = address2[tmp]"
   ]
  },
  {
   "cell_type": "code",
   "execution_count": 55,
   "metadata": {},
   "outputs": [
    {
     "data": {
      "text/plain": [
       "'LINCOLN'"
      ]
     },
     "execution_count": 55,
     "metadata": {},
     "output_type": "execute_result"
    }
   ],
   "source": [
    "address1[47]"
   ]
  },
  {
   "cell_type": "code",
   "execution_count": null,
   "metadata": {},
   "outputs": [],
   "source": [
    "train_data[col_name1] = address1\n",
    "train_data[col_name2] = address3"
   ]
  },
  {
   "cell_type": "code",
   "execution_count": null,
   "metadata": {},
   "outputs": [],
   "source": [
    "train_data.loc[(train_data[col_block].isna()) & (train_data[col_name1].isna() | train_data[col_name2].isna()),\\\n",
    "               [\"Address\", col_block, col_name1, col_name2]].index.shape"
   ]
  },
  {
   "cell_type": "code",
   "execution_count": null,
   "metadata": {
    "scrolled": true
   },
   "outputs": [],
   "source": [
    "train_data[train_data[col_block]==\"5900\"][[\"Address\", col_block]]"
   ]
  },
  {
   "cell_type": "code",
   "execution_count": 6,
   "metadata": {},
   "outputs": [
    {
     "name": "stdout",
     "output_type": "stream",
     "text": [
      "1.  47      None\n",
      "48      None\n",
      "49    HAIGHT\n",
      "Name: Address, dtype: object\n",
      "2.  47    LINCOLN\n",
      "48     SUTTER\n",
      "49       None\n",
      "Name: Address, dtype: object\n",
      "3.  47    LINCOLN\n",
      "48     SUTTER\n",
      "49     HAIGHT\n",
      "Name: Address, dtype: object\n",
      "There is only one road name in CrossRoad. index:  [173430, 217606, 285516, 350752, 410727, 460380, 526746, 528049, 535469, 673078, 677260, 677268, 683862, 741420, 755445, 756059, 763376, 769674, 769675, 772415, 780968, 787517, 787770, 804816, 804817, 811431, 828322, 828766, 830042, 834617, 834621, 843892, 843893, 870171, 870173, 875737, 877289, 877361]\n",
      "191.57664108276367 seconds.\n"
     ]
    }
   ],
   "source": [
    "start = time()\n",
    "a = datapre.extra_address_for_infos(train_data)\n",
    "print(\"{} seconds.\".format(time()-start))"
   ]
  },
  {
   "cell_type": "code",
   "execution_count": 43,
   "metadata": {},
   "outputs": [
    {
     "data": {
      "text/html": [
       "<div>\n",
       "<style scoped>\n",
       "    .dataframe tbody tr th:only-of-type {\n",
       "        vertical-align: middle;\n",
       "    }\n",
       "\n",
       "    .dataframe tbody tr th {\n",
       "        vertical-align: top;\n",
       "    }\n",
       "\n",
       "    .dataframe thead th {\n",
       "        text-align: right;\n",
       "    }\n",
       "</style>\n",
       "<table border=\"1\" class=\"dataframe\">\n",
       "  <thead>\n",
       "    <tr style=\"text-align: right;\">\n",
       "      <th></th>\n",
       "      <th>Dates</th>\n",
       "      <th>Category</th>\n",
       "      <th>Descript</th>\n",
       "      <th>DayOfWeek</th>\n",
       "      <th>PdDistrict</th>\n",
       "      <th>Resolution</th>\n",
       "      <th>Address</th>\n",
       "      <th>X</th>\n",
       "      <th>Y</th>\n",
       "      <th>RoadName1</th>\n",
       "      <th>RoadName2</th>\n",
       "      <th>RoadBlock</th>\n",
       "    </tr>\n",
       "  </thead>\n",
       "  <tbody>\n",
       "    <tr>\n",
       "      <th>47</th>\n",
       "      <td>2015-05-13 20:00:00</td>\n",
       "      <td>LARCENY/THEFT</td>\n",
       "      <td>GRAND THEFT FROM PERSON</td>\n",
       "      <td>Wednesday</td>\n",
       "      <td>TARAVAL</td>\n",
       "      <td>NONE</td>\n",
       "      <td>LINCOLN WY / 14TH AV</td>\n",
       "      <td>-122.471800</td>\n",
       "      <td>37.765687</td>\n",
       "      <td>None</td>\n",
       "      <td>14TH</td>\n",
       "      <td>None</td>\n",
       "    </tr>\n",
       "    <tr>\n",
       "      <th>684</th>\n",
       "      <td>2015-05-12 00:15:00</td>\n",
       "      <td>OTHER OFFENSES</td>\n",
       "      <td>TRAFFIC VIOLATION</td>\n",
       "      <td>Tuesday</td>\n",
       "      <td>TARAVAL</td>\n",
       "      <td>ARREST, BOOKED</td>\n",
       "      <td>LINCOLN WY / 10TH AV</td>\n",
       "      <td>-122.467514</td>\n",
       "      <td>37.765876</td>\n",
       "      <td>None</td>\n",
       "      <td>10TH</td>\n",
       "      <td>None</td>\n",
       "    </tr>\n",
       "    <tr>\n",
       "      <th>1086</th>\n",
       "      <td>2015-05-11 02:30:00</td>\n",
       "      <td>LARCENY/THEFT</td>\n",
       "      <td>GRAND THEFT FROM LOCKED AUTO</td>\n",
       "      <td>Monday</td>\n",
       "      <td>TARAVAL</td>\n",
       "      <td>NONE</td>\n",
       "      <td>LINCOLN WY / 14TH AV</td>\n",
       "      <td>-122.471800</td>\n",
       "      <td>37.765687</td>\n",
       "      <td>None</td>\n",
       "      <td>14TH</td>\n",
       "      <td>None</td>\n",
       "    </tr>\n",
       "  </tbody>\n",
       "</table>\n",
       "</div>"
      ],
      "text/plain": [
       "                    Dates        Category                      Descript  \\\n",
       "47    2015-05-13 20:00:00   LARCENY/THEFT       GRAND THEFT FROM PERSON   \n",
       "684   2015-05-12 00:15:00  OTHER OFFENSES             TRAFFIC VIOLATION   \n",
       "1086  2015-05-11 02:30:00   LARCENY/THEFT  GRAND THEFT FROM LOCKED AUTO   \n",
       "\n",
       "      DayOfWeek PdDistrict      Resolution               Address           X  \\\n",
       "47    Wednesday    TARAVAL            NONE  LINCOLN WY / 14TH AV -122.471800   \n",
       "684     Tuesday    TARAVAL  ARREST, BOOKED  LINCOLN WY / 10TH AV -122.467514   \n",
       "1086     Monday    TARAVAL            NONE  LINCOLN WY / 14TH AV -122.471800   \n",
       "\n",
       "              Y RoadName1 RoadName2 RoadBlock  \n",
       "47    37.765687      None      14TH      None  \n",
       "684   37.765876      None      10TH      None  \n",
       "1086  37.765687      None      14TH      None  "
      ]
     },
     "execution_count": 43,
     "metadata": {},
     "output_type": "execute_result"
    }
   ],
   "source": [
    "a.loc[[47,684,1086]]"
   ]
  },
  {
   "cell_type": "code",
   "execution_count": null,
   "metadata": {},
   "outputs": [],
   "source": []
  }
 ],
 "metadata": {
  "kernelspec": {
   "display_name": "Python 3",
   "language": "python",
   "name": "python3"
  },
  "language_info": {
   "codemirror_mode": {
    "name": "ipython",
    "version": 3
   },
   "file_extension": ".py",
   "mimetype": "text/x-python",
   "name": "python",
   "nbconvert_exporter": "python",
   "pygments_lexer": "ipython3",
   "version": "3.6.7"
  }
 },
 "nbformat": 4,
 "nbformat_minor": 2
}
