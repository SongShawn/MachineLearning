{
 "cells": [
  {
   "cell_type": "code",
   "execution_count": 2,
   "metadata": {},
   "outputs": [],
   "source": [
    "import pandas as pd\n",
    "from sklearn.model_selection import KFold, StratifiedKFold"
   ]
  },
  {
   "cell_type": "code",
   "execution_count": 3,
   "metadata": {},
   "outputs": [],
   "source": [
    "train_data = pd.read_csv(\"../datasets/train_preprocess.csv\")"
   ]
  },
  {
   "cell_type": "code",
   "execution_count": 8,
   "metadata": {},
   "outputs": [
    {
     "data": {
      "text/plain": [
       "LARCENY/THEFT     20\n",
       "OTHER OFFENSES     8\n",
       "NON-CRIMINAL       8\n",
       "VANDALISM          4\n",
       "ROBBERY            3\n",
       "VEHICLE THEFT      3\n",
       "WARRANTS           2\n",
       "WEAPON LAWS        1\n",
       "ASSAULT            1\n",
       "BURGLARY           1\n",
       "Name: Category, dtype: int64"
      ]
     },
     "execution_count": 8,
     "metadata": {},
     "output_type": "execute_result"
    }
   ],
   "source": [
    "train_data.loc[:50][\"Category\"].value_counts()"
   ]
  },
  {
   "cell_type": "code",
   "execution_count": 7,
   "metadata": {},
   "outputs": [
    {
     "data": {
      "text/plain": [
       "39"
      ]
     },
     "execution_count": 7,
     "metadata": {},
     "output_type": "execute_result"
    }
   ],
   "source": [
    "target = train_data[\"Category\"]\n",
    "len(target.unique())"
   ]
  },
  {
   "cell_type": "code",
   "execution_count": 32,
   "metadata": {},
   "outputs": [
    {
     "name": "stdout",
     "output_type": "stream",
     "text": [
      "(8780, 22) 36\n"
     ]
    }
   ],
   "source": [
    "samples = train_data.sample(frac=0.01)\n",
    "print(samples.shape, len(samples[\"Category\"].unique()))"
   ]
  },
  {
   "cell_type": "code",
   "execution_count": 31,
   "metadata": {},
   "outputs": [
    {
     "name": "stdout",
     "output_type": "stream",
     "text": [
      "58536 29269 36 37\n",
      "58537 29268 37 36\n",
      "58537 29268 37 36\n"
     ]
    }
   ],
   "source": [
    "kflod_cv = KFold(n_splits=3, random_state=7)\n",
    "kflog_split_info = kflod_cv.split(samples)\n",
    "\n",
    "for train_i, test_i in kflog_split_info:\n",
    "    print(len(train_i), len(test_i), \\\n",
    "          len(train_data.loc[train_i][\"Category\"].unique()), \n",
    "          len(train_data.loc[test_i][\"Category\"].unique()))"
   ]
  },
  {
   "cell_type": "code",
   "execution_count": 26,
   "metadata": {},
   "outputs": [
    {
     "data": {
      "text/html": [
       "<div>\n",
       "<style scoped>\n",
       "    .dataframe tbody tr th:only-of-type {\n",
       "        vertical-align: middle;\n",
       "    }\n",
       "\n",
       "    .dataframe tbody tr th {\n",
       "        vertical-align: top;\n",
       "    }\n",
       "\n",
       "    .dataframe thead th {\n",
       "        text-align: right;\n",
       "    }\n",
       "</style>\n",
       "<table border=\"1\" class=\"dataframe\">\n",
       "  <thead>\n",
       "    <tr style=\"text-align: right;\">\n",
       "      <th></th>\n",
       "      <th>Dates</th>\n",
       "      <th>Category</th>\n",
       "      <th>DayOfWeek</th>\n",
       "      <th>PdDistrict</th>\n",
       "      <th>Address</th>\n",
       "      <th>X</th>\n",
       "      <th>Y</th>\n",
       "      <th>Year</th>\n",
       "      <th>Month</th>\n",
       "      <th>Day</th>\n",
       "      <th>...</th>\n",
       "      <th>PdDistrictID</th>\n",
       "      <th>HasBlock</th>\n",
       "      <th>PositionType</th>\n",
       "      <th>PositionTypeID</th>\n",
       "      <th>RoadName1</th>\n",
       "      <th>RoadName2</th>\n",
       "      <th>RoadBlock</th>\n",
       "      <th>RoadBlockID</th>\n",
       "      <th>RoadName1ID</th>\n",
       "      <th>RoadName2ID</th>\n",
       "    </tr>\n",
       "  </thead>\n",
       "  <tbody>\n",
       "    <tr>\n",
       "      <th>1</th>\n",
       "      <td>2015-05-13 23:53:00</td>\n",
       "      <td>OTHER OFFENSES</td>\n",
       "      <td>Wednesday</td>\n",
       "      <td>NORTHERN</td>\n",
       "      <td>OAK ST / LAGUNA ST</td>\n",
       "      <td>-122.425892</td>\n",
       "      <td>37.774599</td>\n",
       "      <td>2015</td>\n",
       "      <td>5</td>\n",
       "      <td>13</td>\n",
       "      <td>...</td>\n",
       "      <td>4</td>\n",
       "      <td>0</td>\n",
       "      <td>CrossRoad</td>\n",
       "      <td>5</td>\n",
       "      <td>OAK</td>\n",
       "      <td>LAGUNA</td>\n",
       "      <td>Unkown</td>\n",
       "      <td>84</td>\n",
       "      <td>1296</td>\n",
       "      <td>842</td>\n",
       "    </tr>\n",
       "    <tr>\n",
       "      <th>2</th>\n",
       "      <td>2015-05-13 23:33:00</td>\n",
       "      <td>OTHER OFFENSES</td>\n",
       "      <td>Wednesday</td>\n",
       "      <td>NORTHERN</td>\n",
       "      <td>VANNESS AV / GREENWICH ST</td>\n",
       "      <td>-122.424363</td>\n",
       "      <td>37.800414</td>\n",
       "      <td>2015</td>\n",
       "      <td>5</td>\n",
       "      <td>13</td>\n",
       "      <td>...</td>\n",
       "      <td>4</td>\n",
       "      <td>0</td>\n",
       "      <td>CrossRoad</td>\n",
       "      <td>5</td>\n",
       "      <td>VANNESS</td>\n",
       "      <td>GREENWICH</td>\n",
       "      <td>Unkown</td>\n",
       "      <td>84</td>\n",
       "      <td>1842</td>\n",
       "      <td>656</td>\n",
       "    </tr>\n",
       "  </tbody>\n",
       "</table>\n",
       "<p>2 rows × 22 columns</p>\n",
       "</div>"
      ],
      "text/plain": [
       "                 Dates        Category  DayOfWeek PdDistrict  \\\n",
       "1  2015-05-13 23:53:00  OTHER OFFENSES  Wednesday   NORTHERN   \n",
       "2  2015-05-13 23:33:00  OTHER OFFENSES  Wednesday   NORTHERN   \n",
       "\n",
       "                     Address           X          Y  Year  Month  Day  \\\n",
       "1         OAK ST / LAGUNA ST -122.425892  37.774599  2015      5   13   \n",
       "2  VANNESS AV / GREENWICH ST -122.424363  37.800414  2015      5   13   \n",
       "\n",
       "      ...       PdDistrictID  HasBlock  PositionType  PositionTypeID  \\\n",
       "1     ...                  4         0     CrossRoad               5   \n",
       "2     ...                  4         0     CrossRoad               5   \n",
       "\n",
       "  RoadName1  RoadName2 RoadBlock RoadBlockID RoadName1ID  RoadName2ID  \n",
       "1       OAK     LAGUNA    Unkown          84        1296          842  \n",
       "2   VANNESS  GREENWICH    Unkown          84        1842          656  \n",
       "\n",
       "[2 rows x 22 columns]"
      ]
     },
     "execution_count": 26,
     "metadata": {},
     "output_type": "execute_result"
    }
   ],
   "source": [
    "train_data.loc[[1,2]]"
   ]
  },
  {
   "cell_type": "code",
   "execution_count": null,
   "metadata": {},
   "outputs": [],
   "source": []
  }
 ],
 "metadata": {
  "kernelspec": {
   "display_name": "Python 3",
   "language": "python",
   "name": "python3"
  },
  "language_info": {
   "codemirror_mode": {
    "name": "ipython",
    "version": 3
   },
   "file_extension": ".py",
   "mimetype": "text/x-python",
   "name": "python",
   "nbconvert_exporter": "python",
   "pygments_lexer": "ipython3",
   "version": "3.6.7"
  }
 },
 "nbformat": 4,
 "nbformat_minor": 2
}
