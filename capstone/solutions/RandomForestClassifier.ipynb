{
 "cells": [
  {
   "cell_type": "code",
   "execution_count": null,
   "metadata": {},
   "outputs": [],
   "source": [
    "import pandas as pd\n",
    "import numpy as np\n",
    "import time\n",
    "import preprocess as datapre\n",
    "\n",
    "from sklearn.preprocessing import LabelEncoder\n",
    "from sklearn.model_selection import train_test_split, GridSearchCV, StratifiedKFold\n",
    "from sklearn.metrics import log_loss, make_scorer, roc_auc_score\n",
    "from sklearn.ensemble import RandomForestClassifier\n",
    "from sklearn.model_selection import train_test_split"
   ]
  },
  {
   "cell_type": "code",
   "execution_count": null,
   "metadata": {},
   "outputs": [],
   "source": [
    "origin_data = pd.read_csv(\"../datasets/train_preprocess.csv\")"
   ]
  },
  {
   "cell_type": "code",
   "execution_count": null,
   "metadata": {},
   "outputs": [],
   "source": [
    "train_data = datapre.dataset_sample(origin_data)"
   ]
  },
  {
   "cell_type": "code",
   "execution_count": null,
   "metadata": {},
   "outputs": [],
   "source": [
    "feature_names = ['Year', 'Month', 'Hour', 'DayOfWeekID', 'PdDistrictID', \\\n",
    "                 'HasBlock', 'RoadTypeID', 'RoadBlockID', 'RoadName1ID', 'RoadName2ID', 'X', 'Y']"
   ]
  },
  {
   "cell_type": "code",
   "execution_count": null,
   "metadata": {},
   "outputs": [],
   "source": [
    "X = train_data[feature_names]\n",
    "y_true = train_data[\"Category\"]"
   ]
  },
  {
   "cell_type": "code",
   "execution_count": null,
   "metadata": {},
   "outputs": [],
   "source": [
    "TargetEnc = LabelEncoder()\n",
    "y_true = TargetEnc.fit_transform(y_true)"
   ]
  },
  {
   "cell_type": "code",
   "execution_count": null,
   "metadata": {},
   "outputs": [],
   "source": [
    "def neg_log_loss(y_true, y_pred, eps=1e-15, normalize=True, sample_weight=None, labels=None):\n",
    "    return -log_loss(y_true, y_pred, eps, normalize, sample_weight, labels)"
   ]
  },
  {
   "cell_type": "code",
   "execution_count": null,
   "metadata": {},
   "outputs": [],
   "source": [
    "call_neg_log_loss = make_scorer(neg_log_loss, needs_proba=True)"
   ]
  },
  {
   "cell_type": "code",
   "execution_count": null,
   "metadata": {},
   "outputs": [],
   "source": [
    "base_params = dict(n_estimators=500, max_depth=5, min_samples_split=20,\n",
    "                    max_features=0.5, n_jobs=-1, random_state=42)"
   ]
  },
  {
   "cell_type": "code",
   "execution_count": null,
   "metadata": {},
   "outputs": [],
   "source": [
    "param_grid = {\"criterion\": [\"gini\", \"entropy\"]}\n",
    "\n",
    "rfclf = RandomForestClassifier(**base_params)\n",
    "cv_clf_criterion = GridSearchCV(estimator=rfclf, param_grid=param_grid, \n",
    "                                scoring=call_neg_log_loss, \n",
    "                                n_jobs=-1, cv=5, verbose=4, return_train_score=True, refit=False)\n",
    "\n",
    "start = time.time()\n",
    "cv_clf_criterion.fit(X, y_true)\n",
    "print(\"Training needs %d seconds.\" % (time.time()-start))"
   ]
  },
  {
   "cell_type": "code",
   "execution_count": null,
   "metadata": {},
   "outputs": [],
   "source": [
    "cv_clf_criterion.best_params_"
   ]
  },
  {
   "cell_type": "code",
   "execution_count": null,
   "metadata": {},
   "outputs": [],
   "source": [
    "cv_clf_criterion.cv_results_"
   ]
  },
  {
   "cell_type": "code",
   "execution_count": null,
   "metadata": {},
   "outputs": [],
   "source": [
    "param_grid = {\"min_samples_split\": list(range(20, 101, 20))}\n",
    "\n",
    "base_params[\"criterion\"] = cv_clf_criterion.best_params_[\"criterion\"]\n",
    "rfclf = RandomForestClassifier(**base_params)\n",
    "cv_clf_min_samples_split = GridSearchCV(estimator=rfclf, param_grid=param_grid, \n",
    "                                scoring=call_neg_log_loss, \n",
    "                                n_jobs=-1, cv=5, verbose=4, return_train_score=True, refit=False)\n",
    "\n",
    "start = time.time()\n",
    "cv_clf_min_samples_split.fit(X, y_true)\n",
    "print(\"Training needs %d seconds.\" % (time.time()-start))"
   ]
  },
  {
   "cell_type": "code",
   "execution_count": null,
   "metadata": {},
   "outputs": [],
   "source": [
    "cv_clf_min_samples_split.best_params_"
   ]
  },
  {
   "cell_type": "code",
   "execution_count": null,
   "metadata": {},
   "outputs": [],
   "source": [
    "cv_clf_min_samples_split.cv_results_"
   ]
  },
  {
   "cell_type": "code",
   "execution_count": null,
   "metadata": {},
   "outputs": [],
   "source": [
    "param_grid = {\"max_features\": [round(i*0.1,1) for i in range(5, 11)]}\n",
    "\n",
    "base_params[\"min_samples_split\"] = cv_clf_min_samples_split.best_params_[\"min_samples_split\"]\n",
    "rfclf = RandomForestClassifier(**base_params)\n",
    "cv_clf_max_features = GridSearchCV(estimator=rfclf, param_grid=param_grid, \n",
    "                                scoring=call_neg_log_loss, \n",
    "                                n_jobs=-1, cv=5, verbose=4, return_train_score=True, refit=False)\n",
    "\n",
    "start = time.time()\n",
    "cv_clf_max_features.fit(X, y_true)\n",
    "print(\"Training with total dataset needs %d seconds.\" % (time.time()-start))"
   ]
  },
  {
   "cell_type": "code",
   "execution_count": null,
   "metadata": {},
   "outputs": [],
   "source": [
    "cv_clf_max_features.best_params_"
   ]
  },
  {
   "cell_type": "code",
   "execution_count": null,
   "metadata": {},
   "outputs": [],
   "source": [
    "cv_clf_max_features.cv_results_"
   ]
  },
  {
   "cell_type": "code",
   "execution_count": null,
   "metadata": {},
   "outputs": [],
   "source": [
    "param_grid = {\"bootstrap\": [True, False]}\n",
    "\n",
    "base_params[\"max_features\"] = cv_clf_max_features.best_params_[\"max_features\"]\n",
    "rfclf = RandomForestClassifier(**base_params)\n",
    "cv_clf_bootstrap = GridSearchCV(estimator=rfclf, param_grid=param_grid, \n",
    "                                scoring=call_neg_log_loss, \n",
    "                                n_jobs=-1, cv=5, verbose=4, return_train_score=True, refit=False)\n",
    "\n",
    "start = time.time()\n",
    "cv_clf_bootstrap.fit(X, y_true)\n",
    "print(\"Training needs %d seconds.\" % (time.time()-start))"
   ]
  },
  {
   "cell_type": "code",
   "execution_count": null,
   "metadata": {},
   "outputs": [],
   "source": [
    "cv_clf_bootstrap.best_params_"
   ]
  },
  {
   "cell_type": "code",
   "execution_count": null,
   "metadata": {},
   "outputs": [],
   "source": [
    "cv_clf_bootstrap.cv_results_"
   ]
  },
  {
   "cell_type": "markdown",
   "metadata": {},
   "source": [
    "#### 结合已经找到的最优参数，使用整个训练集进行网格搜索交叉验证找到n_estimators和max_depth的最优值，并得到最优模型。"
   ]
  },
  {
   "cell_type": "code",
   "execution_count": null,
   "metadata": {},
   "outputs": [],
   "source": [
    "total_X = origin_data[feature_names]\n",
    "total_y_true = origin_data[\"Category\"]"
   ]
  },
  {
   "cell_type": "code",
   "execution_count": null,
   "metadata": {},
   "outputs": [],
   "source": [
    "totalTargetEnc = LabelEncoder()\n",
    "total_y_true = totalTargetEnc.fit_transform(total_y_true)"
   ]
  },
  {
   "cell_type": "code",
   "execution_count": null,
   "metadata": {},
   "outputs": [],
   "source": [
    "param_grid = {\"n_estimators\": list(range(200, 1500, 200)), \"max_depth\": list(range(6, 11, 1))}\n",
    "\n",
    "base_params[\"bootstrap\"] = cv_clf_bootstrap.best_params_[\"bootstrap\"]\n",
    "rfclf = RandomForestClassifier(**base_params)\n",
    "cv_clf_final = GridSearchCV(estimator=rfclf, param_grid=param_grid, \n",
    "                                scoring=call_neg_log_loss, \n",
    "                                n_jobs=-1, cv=5, verbose=4, return_train_score=True, refit=True)\n",
    "\n",
    "start = time.time()\n",
    "cv_clf_final.fit(total_X, total_y_true)\n",
    "print(\"Training needs %d seconds.\" % (time.time()-start))"
   ]
  },
  {
   "cell_type": "code",
   "execution_count": null,
   "metadata": {},
   "outputs": [],
   "source": [
    "cv_clf_final.best_params_"
   ]
  },
  {
   "cell_type": "code",
   "execution_count": null,
   "metadata": {},
   "outputs": [],
   "source": [
    "cv_clf_final.cv_results_"
   ]
  },
  {
   "cell_type": "code",
   "execution_count": null,
   "metadata": {},
   "outputs": [],
   "source": [
    "base_params[\"n_estimators\"]=cv_clf_final.best_params_[\"n_estimators\"]\n",
    "base_params[\"max_depth\"] = cv_clf_final.best_params_[\"max_depth\"]\n",
    "print(base_params)"
   ]
  },
  {
   "cell_type": "code",
   "execution_count": null,
   "metadata": {},
   "outputs": [],
   "source": [
    "best_rf_clf = cv_clf_final.best_estimator_"
   ]
  },
  {
   "cell_type": "code",
   "execution_count": null,
   "metadata": {},
   "outputs": [],
   "source": [
    "valid_data = pd.read_csv(\"../datasets/test_preprocess.csv\")\n",
    "valid_X = valid_data[feature_names]"
   ]
  },
  {
   "cell_type": "code",
   "execution_count": null,
   "metadata": {},
   "outputs": [],
   "source": [
    "y_pred_prob = np.round(best_rf_clf.predict_proba(valid_X), 4)"
   ]
  },
  {
   "cell_type": "code",
   "execution_count": null,
   "metadata": {},
   "outputs": [],
   "source": [
    "csv_output = pd.DataFrame(columns=TargetEnc.classes_, data=y_pred_prob)\n",
    "csv_output.insert(0, 'Id', valid_data['Id'])\n",
    "csv_output.to_csv('../results/RandomForestClf_best.csv', index=False)"
   ]
  },
  {
   "cell_type": "markdown",
   "metadata": {},
   "source": [
    "---"
   ]
  },
  {
   "cell_type": "markdown",
   "metadata": {},
   "source": [
    "训练缺省模型"
   ]
  },
  {
   "cell_type": "code",
   "execution_count": null,
   "metadata": {},
   "outputs": [],
   "source": [
    "base_rf_clf = RandomForestClassifier(\n",
    "    n_estimators=500,\n",
    "    max_depth=8,\n",
    "    min_samples_split=20,\n",
    "    max_features=0.8, \n",
    "    n_jobs=-1, random_state=42)\n",
    "base_rf_clf.fit(total_X, total_y_true)\n",
    "y_pred_prob_base = np.round(base_rf_clf.predict_proba(valid_X), 4)\n",
    "csv_output = pd.DataFrame(columns=TargetEnc.classes_, data=y_pred_prob)\n",
    "csv_output.insert(0, 'Id', valid_data['Id'])\n",
    "csv_output.to_csv('../results/RandomForestClf_base.csv', index=False)"
   ]
  }
 ],
 "metadata": {
  "kernelspec": {
   "display_name": "Python 3",
   "language": "python",
   "name": "python3"
  },
  "language_info": {
   "codemirror_mode": {
    "name": "ipython",
    "version": 3
   },
   "file_extension": ".py",
   "mimetype": "text/x-python",
   "name": "python",
   "nbconvert_exporter": "python",
   "pygments_lexer": "ipython3",
   "version": "3.6.7"
  }
 },
 "nbformat": 4,
 "nbformat_minor": 2
}
