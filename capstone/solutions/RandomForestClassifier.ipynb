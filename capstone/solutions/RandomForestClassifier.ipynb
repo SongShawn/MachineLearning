{
 "cells": [
  {
   "cell_type": "code",
   "execution_count": 1,
   "metadata": {},
   "outputs": [],
   "source": [
    "import pandas as pd\n",
    "import numpy as np\n",
    "import time\n",
    "import preprocess as datapre\n",
    "\n",
    "from sklearn.preprocessing import LabelEncoder\n",
    "from sklearn.model_selection import train_test_split, GridSearchCV, StratifiedKFold\n",
    "from sklearn.metrics import log_loss, make_scorer, roc_auc_score\n",
    "from sklearn.ensemble import RandomForestClassifier\n",
    "from sklearn.model_selection import train_test_split"
   ]
  },
  {
   "cell_type": "code",
   "execution_count": 2,
   "metadata": {},
   "outputs": [],
   "source": [
    "origin_data = pd.read_csv(\"../datasets/train_preprocess.csv\")"
   ]
  },
  {
   "cell_type": "code",
   "execution_count": 3,
   "metadata": {},
   "outputs": [],
   "source": [
    "train_data = datapre.dataset_sample(origin_data, frac=0.5)"
   ]
  },
  {
   "cell_type": "code",
   "execution_count": 4,
   "metadata": {},
   "outputs": [],
   "source": [
    "feature_names = ['Year', 'Month', 'Hour', 'DayOfWeekID', 'PdDistrictID', \\\n",
    "                 'HasBlock', 'RoadTypeID', 'RoadBlockID', 'RoadName1ID', 'RoadName2ID', 'X', 'Y']"
   ]
  },
  {
   "cell_type": "code",
   "execution_count": 5,
   "metadata": {},
   "outputs": [],
   "source": [
    "X = train_data[feature_names]\n",
    "y_true = train_data[\"Category\"]"
   ]
  },
  {
   "cell_type": "code",
   "execution_count": 6,
   "metadata": {},
   "outputs": [],
   "source": [
    "TargetEnc = LabelEncoder()\n",
    "y_true = TargetEnc.fit_transform(y_true)"
   ]
  },
  {
   "cell_type": "code",
   "execution_count": 7,
   "metadata": {},
   "outputs": [],
   "source": [
    "def neg_log_loss(y_true, y_pred, eps=1e-15, normalize=True, sample_weight=None, labels=None):\n",
    "    return -log_loss(y_true, y_pred, eps, normalize, sample_weight, labels)\n",
    "\n",
    "call_neg_log_loss = make_scorer(neg_log_loss, needs_proba=True)"
   ]
  },
  {
   "cell_type": "code",
   "execution_count": 9,
   "metadata": {},
   "outputs": [],
   "source": [
    "base_params = dict(n_estimators=300, max_depth=5, min_samples_split=20,\n",
    "                    max_features=0.5, n_jobs=-1, random_state=42)"
   ]
  },
  {
   "cell_type": "code",
   "execution_count": 10,
   "metadata": {},
   "outputs": [
    {
     "name": "stdout",
     "output_type": "stream",
     "text": [
      "Fitting 5 folds for each of 2 candidates, totalling 10 fits\n"
     ]
    },
    {
     "name": "stderr",
     "output_type": "stream",
     "text": [
      "[Parallel(n_jobs=-1)]: Using backend LokyBackend with 8 concurrent workers.\n",
      "[Parallel(n_jobs=-1)]: Done   4 out of  10 | elapsed:  9.6min remaining: 14.4min\n",
      "[Parallel(n_jobs=-1)]: Done   7 out of  10 | elapsed: 10.7min remaining:  4.6min\n"
     ]
    },
    {
     "name": "stdout",
     "output_type": "stream",
     "text": [
      "Training needs 787 seconds.\n"
     ]
    },
    {
     "name": "stderr",
     "output_type": "stream",
     "text": [
      "[Parallel(n_jobs=-1)]: Done  10 out of  10 | elapsed: 13.1min remaining:    0.0s\n",
      "[Parallel(n_jobs=-1)]: Done  10 out of  10 | elapsed: 13.1min finished\n"
     ]
    }
   ],
   "source": [
    "param_grid = {\"criterion\": [\"gini\", \"entropy\"]}\n",
    "\n",
    "rfclf = RandomForestClassifier(**base_params)\n",
    "cv_clf_criterion = GridSearchCV(estimator=rfclf, param_grid=param_grid, \n",
    "                                scoring=call_neg_log_loss, \n",
    "                                n_jobs=-1, cv=5, verbose=4, return_train_score=True, refit=False)\n",
    "\n",
    "start = time.time()\n",
    "cv_clf_criterion.fit(X, y_true)\n",
    "print(\"Training needs %d seconds.\" % (time.time()-start))"
   ]
  },
  {
   "cell_type": "code",
   "execution_count": 11,
   "metadata": {},
   "outputs": [
    {
     "data": {
      "text/plain": [
       "{'criterion': 'entropy'}"
      ]
     },
     "execution_count": 11,
     "metadata": {},
     "output_type": "execute_result"
    }
   ],
   "source": [
    "cv_clf_criterion.best_params_"
   ]
  },
  {
   "cell_type": "code",
   "execution_count": 12,
   "metadata": {},
   "outputs": [
    {
     "data": {
      "text/plain": [
       "{'mean_fit_time': array([377.62422113, 360.51584072]),\n",
       " 'std_fit_time': array([  1.95029143, 163.90649584]),\n",
       " 'mean_score_time': array([37.51303835, 28.0612236 ]),\n",
       " 'std_score_time': array([ 0.62397431, 14.37338393]),\n",
       " 'param_criterion': masked_array(data=['gini', 'entropy'],\n",
       "              mask=[False, False],\n",
       "        fill_value='?',\n",
       "             dtype=object),\n",
       " 'params': [{'criterion': 'gini'}, {'criterion': 'entropy'}],\n",
       " 'split0_test_score': array([-2.52907413, -2.52679097]),\n",
       " 'split1_test_score': array([-2.52407811, -2.52206075]),\n",
       " 'split2_test_score': array([-2.52470506, -2.52167583]),\n",
       " 'split3_test_score': array([-2.52755128, -2.52481451]),\n",
       " 'split4_test_score': array([-2.52662738, -2.52489309]),\n",
       " 'mean_test_score': array([-2.5264072 , -2.52404703]),\n",
       " 'std_test_score': array([0.00183268, 0.00191851]),\n",
       " 'rank_test_score': array([2, 1]),\n",
       " 'split0_train_score': array([-2.52244801, -2.51980186]),\n",
       " 'split1_train_score': array([-2.52358955, -2.5211375 ]),\n",
       " 'split2_train_score': array([-2.52389016, -2.52115798]),\n",
       " 'split3_train_score': array([-2.52302327, -2.52035522]),\n",
       " 'split4_train_score': array([-2.52241423, -2.52032269]),\n",
       " 'mean_train_score': array([-2.52307304, -2.52055505]),\n",
       " 'std_train_score': array([0.00059357, 0.0005223 ])}"
      ]
     },
     "execution_count": 12,
     "metadata": {},
     "output_type": "execute_result"
    }
   ],
   "source": [
    "cv_clf_criterion.cv_results_"
   ]
  },
  {
   "cell_type": "code",
   "execution_count": 13,
   "metadata": {},
   "outputs": [
    {
     "name": "stdout",
     "output_type": "stream",
     "text": [
      "Fitting 5 folds for each of 5 candidates, totalling 25 fits\n"
     ]
    },
    {
     "name": "stderr",
     "output_type": "stream",
     "text": [
      "[Parallel(n_jobs=-1)]: Using backend LokyBackend with 8 concurrent workers.\n",
      "[Parallel(n_jobs=-1)]: Done   9 tasks      | elapsed: 22.3min\n",
      "[Parallel(n_jobs=-1)]: Done  17 out of  25 | elapsed: 33.4min remaining: 15.7min\n"
     ]
    },
    {
     "name": "stdout",
     "output_type": "stream",
     "text": [
      "Training needs 2095 seconds.\n"
     ]
    },
    {
     "name": "stderr",
     "output_type": "stream",
     "text": [
      "[Parallel(n_jobs=-1)]: Done  25 out of  25 | elapsed: 34.9min finished\n"
     ]
    }
   ],
   "source": [
    "param_grid = {\"min_samples_split\": list(range(20, 101, 20))}\n",
    "\n",
    "base_params[\"criterion\"] = cv_clf_criterion.best_params_[\"criterion\"]\n",
    "rfclf = RandomForestClassifier(**base_params)\n",
    "cv_clf_min_samples_split = GridSearchCV(estimator=rfclf, param_grid=param_grid, \n",
    "                                scoring=call_neg_log_loss, \n",
    "                                n_jobs=-1, cv=5, verbose=4, return_train_score=True, refit=False)\n",
    "\n",
    "start = time.time()\n",
    "cv_clf_min_samples_split.fit(X, y_true)\n",
    "print(\"Training needs %d seconds.\" % (time.time()-start))"
   ]
  },
  {
   "cell_type": "code",
   "execution_count": null,
   "metadata": {},
   "outputs": [
    {
     "data": {
      "text/plain": [
       "{'min_samples_split': 60}"
      ]
     },
     "execution_count": 14,
     "metadata": {},
     "output_type": "execute_result"
    }
   ],
   "source": [
    "cv_clf_min_samples_split.best_params_"
   ]
  },
  {
   "cell_type": "code",
   "execution_count": null,
   "metadata": {},
   "outputs": [
    {
     "data": {
      "text/plain": [
       "{'mean_fit_time': array([464.73708339, 464.26790142, 464.3276195 , 463.22402234,\n",
       "        386.73499465]),\n",
       " 'std_fit_time': array([  1.41639691,   1.40555434,   0.32925884,   1.34880926,\n",
       "        163.42989577]),\n",
       " 'mean_score_time': array([39.81927314, 40.5610456 , 41.66956849, 40.11531024, 32.93259096]),\n",
       " 'std_score_time': array([ 0.49060337,  0.98599894,  0.5183828 ,  0.6906298 , 13.53346669]),\n",
       " 'param_min_samples_split': masked_array(data=[20, 40, 60, 80, 100],\n",
       "              mask=[False, False, False, False, False],\n",
       "        fill_value='?',\n",
       "             dtype=object),\n",
       " 'params': [{'min_samples_split': 20},\n",
       "  {'min_samples_split': 40},\n",
       "  {'min_samples_split': 60},\n",
       "  {'min_samples_split': 80},\n",
       "  {'min_samples_split': 100}],\n",
       " 'split0_test_score': array([-2.52679097, -2.52679097, -2.52679163, -2.52678297, -2.52681774]),\n",
       " 'split1_test_score': array([-2.52206075, -2.52206075, -2.52206089, -2.52206541, -2.52205331]),\n",
       " 'split2_test_score': array([-2.52167583, -2.52167583, -2.52165876, -2.52165901, -2.52161534]),\n",
       " 'split3_test_score': array([-2.52481451, -2.52481451, -2.52481075, -2.52481216, -2.52482237]),\n",
       " 'split4_test_score': array([-2.52489309, -2.52489309, -2.524893  , -2.52491546, -2.52491633]),\n",
       " 'mean_test_score': array([-2.52404703, -2.52404703, -2.52404301, -2.524047  , -2.52404502]),\n",
       " 'std_test_score': array([0.00191851, 0.00191851, 0.00192259, 0.00192125, 0.00194542]),\n",
       " 'rank_test_score': array([4, 4, 1, 3, 2]),\n",
       " 'split0_train_score': array([-2.51980186, -2.51980186, -2.51980316, -2.51979672, -2.51983226]),\n",
       " 'split1_train_score': array([-2.5211375 , -2.5211375 , -2.52113801, -2.52114433, -2.52113417]),\n",
       " 'split2_train_score': array([-2.52115798, -2.52115798, -2.52114363, -2.52114053, -2.52109656]),\n",
       " 'split3_train_score': array([-2.52035522, -2.52035522, -2.52034942, -2.520351  , -2.52036544]),\n",
       " 'split4_train_score': array([-2.52032269, -2.52032269, -2.52032251, -2.52033632, -2.52033792]),\n",
       " 'mean_train_score': array([-2.52055505, -2.52055505, -2.52055135, -2.52055378, -2.52055327]),\n",
       " 'std_train_score': array([0.0005223 , 0.0005223 , 0.00051921, 0.0005205 , 0.00049681])}"
      ]
     },
     "execution_count": 15,
     "metadata": {},
     "output_type": "execute_result"
    }
   ],
   "source": [
    "cv_clf_min_samples_split.cv_results_"
   ]
  },
  {
   "cell_type": "code",
   "execution_count": null,
   "metadata": {},
   "outputs": [
    {
     "name": "stdout",
     "output_type": "stream",
     "text": [
      "Fitting 5 folds for each of 6 candidates, totalling 30 fits\n"
     ]
    },
    {
     "name": "stderr",
     "output_type": "stream",
     "text": [
      "[Parallel(n_jobs=-1)]: Using backend LokyBackend with 8 concurrent workers.\n",
      "[Parallel(n_jobs=-1)]: Done   9 tasks      | elapsed: 23.1min\n",
      "[Parallel(n_jobs=-1)]: Done  23 out of  30 | elapsed: 39.2min remaining: 11.9min\n"
     ]
    },
    {
     "name": "stdout",
     "output_type": "stream",
     "text": [
      "Training with total dataset needs 3045 seconds.\n"
     ]
    },
    {
     "name": "stderr",
     "output_type": "stream",
     "text": [
      "[Parallel(n_jobs=-1)]: Done  30 out of  30 | elapsed: 50.8min finished\n"
     ]
    }
   ],
   "source": [
    "param_grid = {\"max_features\": [round(i*0.1,1) for i in range(5, 11)]}\n",
    "\n",
    "base_params[\"min_samples_split\"] = cv_clf_min_samples_split.best_params_[\"min_samples_split\"]\n",
    "rfclf = RandomForestClassifier(**base_params)\n",
    "cv_clf_max_features = GridSearchCV(estimator=rfclf, param_grid=param_grid, \n",
    "                                scoring=call_neg_log_loss, \n",
    "                                n_jobs=-1, cv=5, verbose=4, return_train_score=True, refit=False)\n",
    "\n",
    "start = time.time()\n",
    "cv_clf_max_features.fit(X, y_true)\n",
    "print(\"Training with total dataset needs %d seconds.\" % (time.time()-start))"
   ]
  },
  {
   "cell_type": "code",
   "execution_count": null,
   "metadata": {},
   "outputs": [
    {
     "data": {
      "text/plain": [
       "{'max_features': 0.6}"
      ]
     },
     "execution_count": 17,
     "metadata": {},
     "output_type": "execute_result"
    }
   ],
   "source": [
    "cv_clf_max_features.best_params_"
   ]
  },
  {
   "cell_type": "code",
   "execution_count": null,
   "metadata": {},
   "outputs": [
    {
     "data": {
      "text/plain": [
       "{'mean_fit_time': array([466.10893898, 521.05996537, 577.37079701, 625.0942153 ,\n",
       "        658.65490699, 615.98455191]),\n",
       " 'std_fit_time': array([ 0.58864978,  0.66178994,  1.96446675,  5.61541478, 48.3168318 ,\n",
       "        14.03208936]),\n",
       " 'mean_score_time': array([36.83551712, 39.84070601, 37.56637659, 47.3072475 , 34.50676036,\n",
       "        24.62801032]),\n",
       " 'std_score_time': array([ 0.63427667,  0.72726104,  0.53699966, 11.69145063,  1.60775988,\n",
       "         4.52784121]),\n",
       " 'param_max_features': masked_array(data=[0.5, 0.6, 0.7, 0.8, 0.9, 1.0],\n",
       "              mask=[False, False, False, False, False, False],\n",
       "        fill_value='?',\n",
       "             dtype=object),\n",
       " 'params': [{'max_features': 0.5},\n",
       "  {'max_features': 0.6},\n",
       "  {'max_features': 0.7},\n",
       "  {'max_features': 0.8},\n",
       "  {'max_features': 0.9},\n",
       "  {'max_features': 1.0}],\n",
       " 'split0_test_score': array([-2.52679163, -2.52679075, -2.52811846, -2.53081133, -2.53307424,\n",
       "        -2.54405006]),\n",
       " 'split1_test_score': array([-2.52206089, -2.52156219, -2.52255916, -2.52501139, -2.52782092,\n",
       "        -2.5383014 ]),\n",
       " 'split2_test_score': array([-2.52165876, -2.52140237, -2.52287418, -2.52523618, -2.52763951,\n",
       "        -2.5373778 ]),\n",
       " 'split3_test_score': array([-2.52481075, -2.52458029, -2.52565278, -2.52794798, -2.53022689,\n",
       "        -2.54245432]),\n",
       " 'split4_test_score': array([-2.524893  , -2.52425029, -2.52547909, -2.52759316, -2.52984095,\n",
       "        -2.53848622]),\n",
       " 'mean_test_score': array([-2.52404301, -2.5237172 , -2.52493676, -2.52732005, -2.52972056,\n",
       "        -2.54013407]),\n",
       " 'std_test_score': array([0.00192259, 0.00202387, 0.00204154, 0.00211343, 0.0019728 ,\n",
       "        0.00262266]),\n",
       " 'rank_test_score': array([2, 1, 3, 4, 5, 6]),\n",
       " 'split0_train_score': array([-2.51980316, -2.5195774 , -2.52061731, -2.52314966, -2.52533283,\n",
       "        -2.53375835]),\n",
       " 'split1_train_score': array([-2.52113801, -2.52060323, -2.52154248, -2.52373864, -2.52630349,\n",
       "        -2.53446664]),\n",
       " 'split2_train_score': array([-2.52114363, -2.52075189, -2.52225869, -2.52462839, -2.52677229,\n",
       "        -2.53464218]),\n",
       " 'split3_train_score': array([-2.52034942, -2.52014935, -2.5212559 , -2.52353179, -2.52568535,\n",
       "        -2.53485239]),\n",
       " 'split4_train_score': array([-2.52032251, -2.51963692, -2.52079623, -2.52299739, -2.5252845 ,\n",
       "        -2.53365757]),\n",
       " 'mean_train_score': array([-2.52055135, -2.52014376, -2.52129412, -2.52360917, -2.52587569,\n",
       "        -2.53427543]),\n",
       " 'std_train_score': array([0.00051921, 0.00048138, 0.00058301, 0.00057393, 0.00057747,\n",
       "        0.00048022])}"
      ]
     },
     "execution_count": 18,
     "metadata": {},
     "output_type": "execute_result"
    }
   ],
   "source": [
    "cv_clf_max_features.cv_results_"
   ]
  },
  {
   "cell_type": "code",
   "execution_count": null,
   "metadata": {},
   "outputs": [
    {
     "name": "stdout",
     "output_type": "stream",
     "text": [
      "Fitting 5 folds for each of 2 candidates, totalling 10 fits\n"
     ]
    },
    {
     "name": "stderr",
     "output_type": "stream",
     "text": [
      "[Parallel(n_jobs=-1)]: Using backend LokyBackend with 8 concurrent workers.\n",
      "[Parallel(n_jobs=-1)]: Done   4 out of  10 | elapsed: 11.9min remaining: 17.8min\n",
      "[Parallel(n_jobs=-1)]: Done   7 out of  10 | elapsed: 12.5min remaining:  5.4min\n"
     ]
    },
    {
     "name": "stdout",
     "output_type": "stream",
     "text": [
      "Training needs 930 seconds.\n"
     ]
    },
    {
     "name": "stderr",
     "output_type": "stream",
     "text": [
      "[Parallel(n_jobs=-1)]: Done  10 out of  10 | elapsed: 15.5min remaining:    0.0s\n",
      "[Parallel(n_jobs=-1)]: Done  10 out of  10 | elapsed: 15.5min finished\n"
     ]
    }
   ],
   "source": [
    "param_grid = {\"bootstrap\": [True, False]}\n",
    "\n",
    "base_params[\"max_features\"] = cv_clf_max_features.best_params_[\"max_features\"]\n",
    "rfclf = RandomForestClassifier(**base_params)\n",
    "cv_clf_bootstrap = GridSearchCV(estimator=rfclf, param_grid=param_grid, \n",
    "                                scoring=call_neg_log_loss, \n",
    "                                n_jobs=-1, cv=5, verbose=4, return_train_score=True, refit=False)\n",
    "\n",
    "start = time.time()\n",
    "cv_clf_bootstrap.fit(X, y_true)\n",
    "print(\"Training needs %d seconds.\" % (time.time()-start))"
   ]
  },
  {
   "cell_type": "code",
   "execution_count": null,
   "metadata": {},
   "outputs": [
    {
     "data": {
      "text/plain": [
       "{'bootstrap': True}"
      ]
     },
     "execution_count": 20,
     "metadata": {},
     "output_type": "execute_result"
    }
   ],
   "source": [
    "cv_clf_bootstrap.best_params_"
   ]
  },
  {
   "cell_type": "code",
   "execution_count": null,
   "metadata": {
    "collapsed": true
   },
   "outputs": [
    {
     "data": {
      "text/plain": [
       "{'mean_fit_time': array([514.41487279, 414.07483211]),\n",
       " 'std_fit_time': array([  1.22824183, 202.95871421]),\n",
       " 'mean_score_time': array([36.44589915, 27.05701218]),\n",
       " 'std_score_time': array([ 0.24104818, 13.63592581]),\n",
       " 'param_bootstrap': masked_array(data=[True, False],\n",
       "              mask=[False, False],\n",
       "        fill_value='?',\n",
       "             dtype=object),\n",
       " 'params': [{'bootstrap': True}, {'bootstrap': False}],\n",
       " 'split0_test_score': array([-2.52679075, -2.5273457 ]),\n",
       " 'split1_test_score': array([-2.52156219, -2.52226348]),\n",
       " 'split2_test_score': array([-2.52140237, -2.52196708]),\n",
       " 'split3_test_score': array([-2.52458029, -2.52528339]),\n",
       " 'split4_test_score': array([-2.52425029, -2.52514066]),\n",
       " 'mean_test_score': array([-2.5237172 , -2.52440007]),\n",
       " 'std_test_score': array([0.00202387, 0.00202444]),\n",
       " 'rank_test_score': array([1, 2]),\n",
       " 'split0_train_score': array([-2.5195774 , -2.52015829]),\n",
       " 'split1_train_score': array([-2.52060323, -2.52144707]),\n",
       " 'split2_train_score': array([-2.52075189, -2.52139804]),\n",
       " 'split3_train_score': array([-2.52014935, -2.5208036 ]),\n",
       " 'split4_train_score': array([-2.51963692, -2.52052988]),\n",
       " 'mean_train_score': array([-2.52014376, -2.52086738]),\n",
       " 'std_train_score': array([0.00048138, 0.00049768])}"
      ]
     },
     "execution_count": 21,
     "metadata": {},
     "output_type": "execute_result"
    }
   ],
   "source": [
    "cv_clf_bootstrap.cv_results_"
   ]
  },
  {
   "cell_type": "code",
   "execution_count": 10,
   "metadata": {},
   "outputs": [
    {
     "name": "stdout",
     "output_type": "stream",
     "text": [
      "{'n_estimators': 300, 'max_depth': 5, 'min_samples_split': 60, 'max_features': 0.6, 'n_jobs': -1, 'random_state': 42, 'criterion': 'entropy', 'bootstrap': True}\n"
     ]
    }
   ],
   "source": [
    "base_params[\"criterion\"] = \"entropy\"\n",
    "base_params[\"min_samples_split\"] = 60\n",
    "base_params[\"max_features\"] = 0.6\n",
    "base_params[\"bootstrap\"] = True\n",
    "print(base_params)"
   ]
  },
  {
   "cell_type": "code",
   "execution_count": 11,
   "metadata": {},
   "outputs": [
    {
     "name": "stdout",
     "output_type": "stream",
     "text": [
      "Fitting 5 folds for each of 3 candidates, totalling 15 fits\n"
     ]
    },
    {
     "name": "stderr",
     "output_type": "stream",
     "text": [
      "[Parallel(n_jobs=-1)]: Using backend LokyBackend with 8 concurrent workers.\n",
      "[Parallel(n_jobs=-1)]: Done   4 out of  15 | elapsed: 23.1min remaining: 63.6min\n",
      "[Parallel(n_jobs=-1)]: Done   8 out of  15 | elapsed: 33.0min remaining: 28.8min\n",
      "[Parallel(n_jobs=-1)]: Done  12 out of  15 | elapsed: 56.7min remaining: 14.2min\n"
     ]
    },
    {
     "name": "stdout",
     "output_type": "stream",
     "text": [
      "Training needs 3547 seconds.\n"
     ]
    },
    {
     "name": "stderr",
     "output_type": "stream",
     "text": [
      "[Parallel(n_jobs=-1)]: Done  15 out of  15 | elapsed: 59.1min finished\n"
     ]
    }
   ],
   "source": [
    "param_grid = {\"max_depth\": [5, 8, 10]}\n",
    "\n",
    "# base_params[\"bootstrap\"] = cv_clf_bootstrap.best_params_[\"bootstrap\"]\n",
    "base_params[\"n_estimators\"] = 1000\n",
    "rfclf = RandomForestClassifier(**base_params)\n",
    "cv_clf_max_depth = GridSearchCV(estimator=rfclf, param_grid=param_grid, \n",
    "                                scoring=call_neg_log_loss, \n",
    "                                n_jobs=-1, cv=5, verbose=4, return_train_score=True, refit=False)\n",
    "\n",
    "start = time.time()\n",
    "cv_clf_max_depth.fit(X, y_true)\n",
    "print(\"Training needs %d seconds.\" % (time.time()-start))"
   ]
  },
  {
   "cell_type": "code",
   "execution_count": 12,
   "metadata": {},
   "outputs": [
    {
     "data": {
      "text/plain": [
       "{'max_depth': 10}"
      ]
     },
     "execution_count": 12,
     "metadata": {},
     "output_type": "execute_result"
    }
   ],
   "source": [
    "cv_clf_max_depth.best_params_"
   ]
  },
  {
   "cell_type": "code",
   "execution_count": 13,
   "metadata": {},
   "outputs": [
    {
     "data": {
      "text/plain": [
       "{'mean_fit_time': array([1003.51930728, 1513.28980088, 1645.8866456 ]),\n",
       " 'std_fit_time': array([  2.51895593,  67.7506661 , 141.67328709]),\n",
       " 'mean_score_time': array([75.08413138, 74.60860305, 38.3990098 ]),\n",
       " 'std_score_time': array([ 0.7727872 ,  5.7839875 , 14.37314495]),\n",
       " 'param_max_depth': masked_array(data=[5, 8, 10],\n",
       "              mask=[False, False, False],\n",
       "        fill_value='?',\n",
       "             dtype=object),\n",
       " 'params': [{'max_depth': 5}, {'max_depth': 8}, {'max_depth': 10}],\n",
       " 'split0_test_score': array([-2.52350063, -2.44961679, -2.40709855]),\n",
       " 'split1_test_score': array([-2.52462105, -2.45054982, -2.4078899 ]),\n",
       " 'split2_test_score': array([-2.52384361, -2.45078024, -2.40855196]),\n",
       " 'split3_test_score': array([-2.52215904, -2.44769313, -2.40368641]),\n",
       " 'split4_test_score': array([-2.52478213, -2.44908327, -2.40410059]),\n",
       " 'mean_test_score': array([-2.52378129, -2.44954473, -2.40626568]),\n",
       " 'std_test_score': array([0.00094031, 0.00111203, 0.00199489]),\n",
       " 'rank_test_score': array([3, 2, 1]),\n",
       " 'split0_train_score': array([-2.52062698, -2.4270912 , -2.34251477]),\n",
       " 'split1_train_score': array([-2.52002492, -2.42720656, -2.34269563]),\n",
       " 'split2_train_score': array([-2.51985977, -2.42672535, -2.34170417]),\n",
       " 'split3_train_score': array([-2.52051616, -2.42758091, -2.34287485]),\n",
       " 'split4_train_score': array([-2.5203832 , -2.42768866, -2.34326292]),\n",
       " 'mean_train_score': array([-2.52028221, -2.42725854, -2.34261047]),\n",
       " 'std_train_score': array([0.00029273, 0.00034754, 0.00051641])}"
      ]
     },
     "execution_count": 13,
     "metadata": {},
     "output_type": "execute_result"
    }
   ],
   "source": [
    "cv_clf_max_depth.cv_results_"
   ]
  },
  {
   "cell_type": "code",
   "execution_count": 14,
   "metadata": {},
   "outputs": [
    {
     "name": "stdout",
     "output_type": "stream",
     "text": [
      "Fitting 5 folds for each of 3 candidates, totalling 15 fits\n"
     ]
    },
    {
     "name": "stderr",
     "output_type": "stream",
     "text": [
      "[Parallel(n_jobs=-1)]: Using backend LokyBackend with 8 concurrent workers.\n",
      "[Parallel(n_jobs=-1)]: Done   4 out of  15 | elapsed: 45.6min remaining: 125.4min\n",
      "[Parallel(n_jobs=-1)]: Done   8 out of  15 | elapsed: 65.6min remaining: 57.4min\n",
      "[Parallel(n_jobs=-1)]: Done  12 out of  15 | elapsed: 112.7min remaining: 28.2min\n"
     ]
    },
    {
     "name": "stdout",
     "output_type": "stream",
     "text": [
      "Training needs 7066 seconds.\n"
     ]
    },
    {
     "name": "stderr",
     "output_type": "stream",
     "text": [
      "[Parallel(n_jobs=-1)]: Done  15 out of  15 | elapsed: 117.8min finished\n"
     ]
    }
   ],
   "source": [
    "param_grid = {\"max_depth\": [5, 8, 10]}\n",
    "\n",
    "# base_params[\"bootstrap\"] = cv_clf_bootstrap.best_params_[\"bootstrap\"]\n",
    "base_params[\"n_estimators\"] = 2000\n",
    "rfclf = RandomForestClassifier(**base_params)\n",
    "cv_clf_max_depth1 = GridSearchCV(estimator=rfclf, param_grid=param_grid, \n",
    "                                scoring=call_neg_log_loss, \n",
    "                                n_jobs=-1, cv=5, verbose=4, return_train_score=True, refit=False)\n",
    "\n",
    "start = time.time()\n",
    "cv_clf_max_depth1.fit(X, y_true)\n",
    "print(\"Training needs %d seconds.\" % (time.time()-start))"
   ]
  },
  {
   "cell_type": "code",
   "execution_count": 15,
   "metadata": {},
   "outputs": [
    {
     "data": {
      "text/plain": [
       "{'max_depth': 10}"
      ]
     },
     "execution_count": 15,
     "metadata": {},
     "output_type": "execute_result"
    }
   ],
   "source": [
    "cv_clf_max_depth1.best_params_"
   ]
  },
  {
   "cell_type": "code",
   "execution_count": 16,
   "metadata": {},
   "outputs": [
    {
     "data": {
      "text/plain": [
       "{'mean_fit_time': array([1986.80162911, 3020.59122295, 3289.66810756]),\n",
       " 'std_fit_time': array([  4.90335491, 134.86174621, 290.88060144]),\n",
       " 'mean_score_time': array([146.23303008, 149.15595608,  76.25234532]),\n",
       " 'std_score_time': array([ 1.66534833, 10.3555175 , 27.7178049 ]),\n",
       " 'param_max_depth': masked_array(data=[5, 8, 10],\n",
       "              mask=[False, False, False],\n",
       "        fill_value='?',\n",
       "             dtype=object),\n",
       " 'params': [{'max_depth': 5}, {'max_depth': 8}, {'max_depth': 10}],\n",
       " 'split0_test_score': array([-2.52351883, -2.44938286, -2.40693083]),\n",
       " 'split1_test_score': array([-2.52460509, -2.45029807, -2.4072422 ]),\n",
       " 'split2_test_score': array([-2.52385268, -2.45051053, -2.4081915 ]),\n",
       " 'split3_test_score': array([-2.52205703, -2.44732185, -2.40306253]),\n",
       " 'split4_test_score': array([-2.52480403, -2.44885817, -2.40398719]),\n",
       " 'mean_test_score': array([-2.52376753, -2.44927437, -2.40588304]),\n",
       " 'std_test_score': array([0.00097677, 0.00114657, 0.00199111]),\n",
       " 'rank_test_score': array([3, 2, 1]),\n",
       " 'split0_train_score': array([-2.52064162, -2.42684095, -2.3423016 ]),\n",
       " 'split1_train_score': array([-2.52001197, -2.42697294, -2.34239698]),\n",
       " 'split2_train_score': array([-2.51986501, -2.42644224, -2.34148099]),\n",
       " 'split3_train_score': array([-2.52041514, -2.42717548, -2.34231224]),\n",
       " 'split4_train_score': array([-2.5204134 , -2.42747207, -2.3430799 ]),\n",
       " 'mean_train_score': array([-2.52026943, -2.42698074, -2.34231434]),\n",
       " 'std_train_score': array([0.00028647, 0.00034319, 0.00050746])}"
      ]
     },
     "execution_count": 16,
     "metadata": {},
     "output_type": "execute_result"
    }
   ],
   "source": [
    "cv_clf_max_depth1.cv_results_"
   ]
  },
  {
   "cell_type": "markdown",
   "metadata": {},
   "source": [
    "#### 结合已经找到的最优参数，使用整个训练集进行网格搜索交叉验证找到n_estimators和max_depth的最优值，并得到最优模型。"
   ]
  },
  {
   "cell_type": "code",
   "execution_count": 12,
   "metadata": {},
   "outputs": [],
   "source": [
    "total_X = origin_data[feature_names]\n",
    "total_y_true = origin_data[\"Category\"]"
   ]
  },
  {
   "cell_type": "code",
   "execution_count": 13,
   "metadata": {},
   "outputs": [],
   "source": [
    "totalTargetEnc = LabelEncoder()\n",
    "total_y_true = totalTargetEnc.fit_transform(total_y_true)"
   ]
  },
  {
   "cell_type": "code",
   "execution_count": null,
   "metadata": {},
   "outputs": [],
   "source": [
    "param_grid = {\"n_estimators\": list(range(1000, 2001, 500))}\n",
    "\n",
    "base_params[\"max_depth\"] = cv_clf_max_depth.best_params_[\"max_depth\"]\n",
    "rfclf = RandomForestClassifier(**base_params)\n",
    "cv_clf_final = GridSearchCV(estimator=rfclf, param_grid=param_grid, \n",
    "                                scoring=call_neg_log_loss, \n",
    "                                n_jobs=-1, cv=5, verbose=4, return_train_score=True, refit=True)\n",
    "\n",
    "start = time.time()\n",
    "cv_clf_final.fit(total_X, total_y_true)\n",
    "print(\"Training needs %d seconds.\" % (time.time()-start))"
   ]
  },
  {
   "cell_type": "code",
   "execution_count": null,
   "metadata": {},
   "outputs": [],
   "source": [
    "cv_clf_final.best_params_"
   ]
  },
  {
   "cell_type": "code",
   "execution_count": null,
   "metadata": {},
   "outputs": [],
   "source": [
    "cv_clf_final.cv_results_"
   ]
  },
  {
   "cell_type": "code",
   "execution_count": null,
   "metadata": {},
   "outputs": [],
   "source": [
    "base_params[\"n_estimators\"]=cv_clf_final.best_params_[\"n_estimators\"]\n",
    "base_params[\"max_depth\"] = cv_clf_final.best_params_[\"max_depth\"]\n",
    "print(base_params)"
   ]
  },
  {
   "cell_type": "code",
   "execution_count": null,
   "metadata": {},
   "outputs": [],
   "source": [
    "best_rf_clf = cv_clf_final.best_estimator_"
   ]
  },
  {
   "cell_type": "code",
   "execution_count": null,
   "metadata": {},
   "outputs": [],
   "source": [
    "valid_data = pd.read_csv(\"../datasets/test_preprocess.csv\")\n",
    "valid_X = valid_data[feature_names]"
   ]
  },
  {
   "cell_type": "code",
   "execution_count": null,
   "metadata": {},
   "outputs": [],
   "source": [
    "y_pred_prob = np.round(best_rf_clf.predict_proba(valid_X), 4)"
   ]
  },
  {
   "cell_type": "code",
   "execution_count": null,
   "metadata": {},
   "outputs": [],
   "source": [
    "csv_output = pd.DataFrame(columns=totalTargetEnc.classes_, data=y_pred_prob)\n",
    "csv_output.insert(0, 'Id', valid_data['Id'])\n",
    "csv_output.to_csv('../results/RandomForestClf_best.csv', index=False)"
   ]
  },
  {
   "cell_type": "markdown",
   "metadata": {},
   "source": [
    "---"
   ]
  },
  {
   "cell_type": "markdown",
   "metadata": {},
   "source": [
    "训练缺省模型"
   ]
  },
  {
   "cell_type": "code",
   "execution_count": null,
   "metadata": {},
   "outputs": [],
   "source": [
    "base_rf_clf = RandomForestClassifier(\n",
    "    n_estimators=500,\n",
    "    max_depth=8,\n",
    "    min_samples_split=20,\n",
    "    max_features=0.8, \n",
    "    n_jobs=-1, random_state=42)\n",
    "base_rf_clf.fit(total_X, total_y_true)\n",
    "y_pred_prob_base = np.round(base_rf_clf.predict_proba(valid_X), 4)\n",
    "csv_output = pd.DataFrame(columns=TargetEnc.classes_, data=y_pred_prob)\n",
    "csv_output.insert(0, 'Id', valid_data['Id'])\n",
    "csv_output.to_csv('../results/RandomForestClf_base.csv', index=False)"
   ]
  }
 ],
 "metadata": {
  "kernelspec": {
   "display_name": "Python 3",
   "language": "python",
   "name": "python3"
  },
  "language_info": {
   "codemirror_mode": {
    "name": "ipython",
    "version": 3
   },
   "file_extension": ".py",
   "mimetype": "text/x-python",
   "name": "python",
   "nbconvert_exporter": "python",
   "pygments_lexer": "ipython3",
   "version": "3.6.7"
  }
 },
 "nbformat": 4,
 "nbformat_minor": 2
}
