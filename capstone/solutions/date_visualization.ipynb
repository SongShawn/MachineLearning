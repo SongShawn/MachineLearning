{
 "cells": [
  {
   "cell_type": "code",
   "execution_count": null,
   "metadata": {},
   "outputs": [],
   "source": [
    "categories = train_data['Category'].unique()\n",
    "categories.sort()"
   ]
  },
  {
   "cell_type": "markdown",
   "metadata": {},
   "source": [
    "### 按周末显示案件类型数量"
   ]
  },
  {
   "cell_type": "code",
   "execution_count": null,
   "metadata": {
    "scrolled": true
   },
   "outputs": [],
   "source": [
    "train_data_weekday = pd.DataFrame(index=['Monday', 'Tuesday', 'Thursday', 'Wednesday', 'Friday', 'Saturday', 'Sunday'])\n",
    "DayOfWeek_Category_Data = train_data[['DayOfWeek', 'Category']]\n",
    "for cate in categories:\n",
    "    cnts= DayOfWeek_Category_Data[DayOfWeek_Category_Data['Category']==cate]['DayOfWeek'].value_counts()\n",
    "    for week in train_data_weekday.index:\n",
    "        train_data_weekday.loc[week, cate] = cnts[week] if week in cnts else 0"
   ]
  },
  {
   "cell_type": "code",
   "execution_count": null,
   "metadata": {
    "scrolled": true
   },
   "outputs": [],
   "source": [
    "xlables = ['Mon', 'Tue', 'Thu', 'Wen', 'Fri', 'Sat', 'Sun']\n",
    "cols = 5\n",
    "nums = len(train_data_weekday.columns)\n",
    "rows = nums//cols+1\n",
    "\n",
    "plt.figure(num='weekday_and_category', figsize=(20,30))\n",
    "for i, cate in enumerate(train_data_weekday.columns):\n",
    "    plt.subplot(rows,cols, i+1)\n",
    "    plt.bar(xlables, height=train_data_weekday[cate])\n",
    "    plt.title(cate)\n",
    "\n",
    "plt.show()"
   ]
  },
  {
   "cell_type": "code",
   "execution_count": null,
   "metadata": {},
   "outputs": [],
   "source": [
    "train_data_weekday.to_csv('../datasets/weekday.csv')"
   ]
  },
  {
   "cell_type": "markdown",
   "metadata": {},
   "source": [
    "从图表中可以看出，对于一种罪案类型，每天发生的次数基本持平，对于预测犯罪类型，星期几这个特征可以意义不大。"
   ]
  },
  {
   "cell_type": "markdown",
   "metadata": {},
   "source": [
    "### 按小时显示案件类型数"
   ]
  },
  {
   "cell_type": "code",
   "execution_count": null,
   "metadata": {},
   "outputs": [],
   "source": [
    "train_data_hours = pd.DataFrame(index=range(24))\n",
    "# index为时间序列的DataFrame\n",
    "Dates_Category_data = train_data[['Dates', 'Category']]\n",
    "New_Dates_Category_data = Dates_Category_data.set_index( \n",
    "    pd.DatetimeIndex(Dates_Category_data['Dates'].tolist()))\n",
    "for cate in categories:\n",
    "    cnts = []\n",
    "    for t in range(24):\n",
    "        begin = '{}:00'.format(t)\n",
    "        end = '{}:00'.format((t+1)%24)\n",
    "        cnts.append(New_Dates_Category_data[New_Dates_Category_data['Category']==cate].between_time(begin,end,include_end=False).shape[0])\n",
    "    train_data_hours[cate] = cnts"
   ]
  },
  {
   "cell_type": "code",
   "execution_count": null,
   "metadata": {
    "scrolled": true
   },
   "outputs": [],
   "source": [
    "xlables = train_data_hours.index\n",
    "cols = 2\n",
    "nums = len(train_data_hours.columns)\n",
    "rows = nums//cols+1\n",
    "\n",
    "plt.figure(num='hours_and_category', figsize=(20,70))\n",
    "for i, cate in enumerate(train_data_hours.columns):\n",
    "    plt.subplot(rows,cols, i+1)\n",
    "    plt.bar(xlables, height=train_data_hours[cate])\n",
    "    plt.title(cate)\n",
    "\n",
    "plt.show()"
   ]
  },
  {
   "cell_type": "code",
   "execution_count": null,
   "metadata": {},
   "outputs": [],
   "source": [
    "train_data_hours.to_csv('../datasets/hours.csv')"
   ]
  },
  {
   "cell_type": "markdown",
   "metadata": {},
   "source": [
    "### 按PdDistrict显示案件类型数"
   ]
  },
  {
   "cell_type": "code",
   "execution_count": null,
   "metadata": {},
   "outputs": [],
   "source": [
    "train_data_PdDistrict = pd.DataFrame(index=train_data['PdDistrict'].unique())\n",
    "PdDistrict_Category_Data = train_data[['PdDistrict', 'Category']]\n",
    "for cate in categories:\n",
    "    cnts= PdDistrict_Category_Data[PdDistrict_Category_Data['Category']==cate]['PdDistrict'].value_counts()\n",
    "    for pdDistrict in train_data_PdDistrict.index:\n",
    "        train_data_PdDistrict.loc[pdDistrict, cate] = cnts[pdDistrict] if pdDistrict in cnts else 0"
   ]
  },
  {
   "cell_type": "code",
   "execution_count": null,
   "metadata": {},
   "outputs": [],
   "source": [
    "xlables = train_data_PdDistrict.index\n",
    "cols = 2\n",
    "nums = len(train_data_PdDistrict.columns)\n",
    "rows = nums//cols+1\n",
    "\n",
    "plt.figure(num='PdDistrict_and_category', figsize=(20,70))\n",
    "for i, cate in enumerate(train_data_PdDistrict.columns):\n",
    "    plt.subplot(rows,cols, i+1)\n",
    "    plt.barh(xlables, width=train_data_PdDistrict[cate])\n",
    "    plt.title(cate)\n",
    "\n",
    "plt.show()"
   ]
  },
  {
   "cell_type": "code",
   "execution_count": null,
   "metadata": {},
   "outputs": [],
   "source": [
    "train_data_PdDistrict.to_csv('../datasets/pddistrict.csv')"
   ]
  }
 ],
 "metadata": {
  "kernelspec": {
   "display_name": "Python 3",
   "language": "python",
   "name": "python3"
  },
  "language_info": {
   "codemirror_mode": {
    "name": "ipython",
    "version": 3
   },
   "file_extension": ".py",
   "mimetype": "text/x-python",
   "name": "python",
   "nbconvert_exporter": "python",
   "pygments_lexer": "ipython3",
   "version": "3.6.7"
  }
 },
 "nbformat": 4,
 "nbformat_minor": 2
}
