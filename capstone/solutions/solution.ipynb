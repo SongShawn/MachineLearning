{
 "cells": [
  {
   "cell_type": "code",
   "execution_count": 1,
   "metadata": {},
   "outputs": [
    {
     "data": {
      "text/plain": [
       "<module 'preprocess' from 'D:\\\\GitHub\\\\MachineLearning\\\\capstone\\\\solutions\\\\preprocess.py'>"
      ]
     },
     "execution_count": 1,
     "metadata": {},
     "output_type": "execute_result"
    }
   ],
   "source": [
    "import pandas as pd\n",
    "import visual as vs\n",
    "import numpy as np\n",
    "import importlib\n",
    "import matplotlib.pyplot as plt\n",
    "import preprocess as datapre\n",
    "\n",
    "import xgboost as xgb\n",
    "from sklearn.model_selection import train_test_split\n",
    "from sklearn.preprocessing import LabelEncoder\n",
    "\n",
    "importlib.reload(vs)\n",
    "importlib.reload(datapre)"
   ]
  },
  {
   "cell_type": "markdown",
   "metadata": {},
   "source": [
    "## 数据探索\n",
    "来自于Kaggle名为旧金山罪案类型分类的数据集，该数据集分为训练集和测试集，训练集包含878049个带标签样本，测试集包含884262个未带标签样本。  \n",
    "运行下边代码加载训练集和测试集。"
   ]
  },
  {
   "cell_type": "code",
   "execution_count": 30,
   "metadata": {},
   "outputs": [],
   "source": [
    "train_data = pd.read_csv('../datasets/train.csv', parse_dates=['Dates'])\n",
    "test_data = pd.read_csv('../datasets/test.csv', parse_dates=['Dates'])"
   ]
  },
  {
   "cell_type": "markdown",
   "metadata": {},
   "source": [
    "### 显示训练集部分样本"
   ]
  },
  {
   "cell_type": "code",
   "execution_count": 3,
   "metadata": {},
   "outputs": [
    {
     "data": {
      "text/html": [
       "<div>\n",
       "<style scoped>\n",
       "    .dataframe tbody tr th:only-of-type {\n",
       "        vertical-align: middle;\n",
       "    }\n",
       "\n",
       "    .dataframe tbody tr th {\n",
       "        vertical-align: top;\n",
       "    }\n",
       "\n",
       "    .dataframe thead th {\n",
       "        text-align: right;\n",
       "    }\n",
       "</style>\n",
       "<table border=\"1\" class=\"dataframe\">\n",
       "  <thead>\n",
       "    <tr style=\"text-align: right;\">\n",
       "      <th></th>\n",
       "      <th>Dates</th>\n",
       "      <th>Category</th>\n",
       "      <th>Descript</th>\n",
       "      <th>DayOfWeek</th>\n",
       "      <th>PdDistrict</th>\n",
       "      <th>Resolution</th>\n",
       "      <th>Address</th>\n",
       "      <th>X</th>\n",
       "      <th>Y</th>\n",
       "    </tr>\n",
       "  </thead>\n",
       "  <tbody>\n",
       "    <tr>\n",
       "      <th>0</th>\n",
       "      <td>2015-05-13 23:53:00</td>\n",
       "      <td>WARRANTS</td>\n",
       "      <td>WARRANT ARREST</td>\n",
       "      <td>Wednesday</td>\n",
       "      <td>NORTHERN</td>\n",
       "      <td>ARREST, BOOKED</td>\n",
       "      <td>OAK ST / LAGUNA ST</td>\n",
       "      <td>-122.425892</td>\n",
       "      <td>37.774599</td>\n",
       "    </tr>\n",
       "  </tbody>\n",
       "</table>\n",
       "</div>"
      ],
      "text/plain": [
       "                Dates  Category        Descript  DayOfWeek PdDistrict  \\\n",
       "0 2015-05-13 23:53:00  WARRANTS  WARRANT ARREST  Wednesday   NORTHERN   \n",
       "\n",
       "       Resolution             Address           X          Y  \n",
       "0  ARREST, BOOKED  OAK ST / LAGUNA ST -122.425892  37.774599  "
      ]
     },
     "execution_count": 3,
     "metadata": {},
     "output_type": "execute_result"
    }
   ],
   "source": [
    "train_data.head(1)"
   ]
  },
  {
   "cell_type": "markdown",
   "metadata": {},
   "source": [
    "### 显示测试集部分样本"
   ]
  },
  {
   "cell_type": "code",
   "execution_count": 4,
   "metadata": {
    "scrolled": true
   },
   "outputs": [
    {
     "data": {
      "text/html": [
       "<div>\n",
       "<style scoped>\n",
       "    .dataframe tbody tr th:only-of-type {\n",
       "        vertical-align: middle;\n",
       "    }\n",
       "\n",
       "    .dataframe tbody tr th {\n",
       "        vertical-align: top;\n",
       "    }\n",
       "\n",
       "    .dataframe thead th {\n",
       "        text-align: right;\n",
       "    }\n",
       "</style>\n",
       "<table border=\"1\" class=\"dataframe\">\n",
       "  <thead>\n",
       "    <tr style=\"text-align: right;\">\n",
       "      <th></th>\n",
       "      <th>Id</th>\n",
       "      <th>Dates</th>\n",
       "      <th>DayOfWeek</th>\n",
       "      <th>PdDistrict</th>\n",
       "      <th>Address</th>\n",
       "      <th>X</th>\n",
       "      <th>Y</th>\n",
       "    </tr>\n",
       "  </thead>\n",
       "  <tbody>\n",
       "    <tr>\n",
       "      <th>0</th>\n",
       "      <td>0</td>\n",
       "      <td>2015-05-10 23:59:00</td>\n",
       "      <td>Sunday</td>\n",
       "      <td>BAYVIEW</td>\n",
       "      <td>2000 Block of THOMAS AV</td>\n",
       "      <td>-122.399588</td>\n",
       "      <td>37.735051</td>\n",
       "    </tr>\n",
       "  </tbody>\n",
       "</table>\n",
       "</div>"
      ],
      "text/plain": [
       "   Id               Dates DayOfWeek PdDistrict                  Address  \\\n",
       "0   0 2015-05-10 23:59:00    Sunday    BAYVIEW  2000 Block of THOMAS AV   \n",
       "\n",
       "            X          Y  \n",
       "0 -122.399588  37.735051  "
      ]
     },
     "execution_count": 4,
     "metadata": {},
     "output_type": "execute_result"
    }
   ],
   "source": [
    "test_data.head(1)"
   ]
  },
  {
   "cell_type": "markdown",
   "metadata": {},
   "source": [
    "### 删除训练集中无用字段\n",
    "训练集中的'Descript'，'Resolution'两个属性无意义，直接删除"
   ]
  },
  {
   "cell_type": "code",
   "execution_count": 5,
   "metadata": {},
   "outputs": [],
   "source": [
    "# 删除无用字段 'Descript' 'Resolution'\n",
    "train_data = train_data.drop(columns=['Descript', 'Resolution'])"
   ]
  },
  {
   "cell_type": "markdown",
   "metadata": {},
   "source": [
    "### 处理数据集中的缺失值"
   ]
  },
  {
   "cell_type": "code",
   "execution_count": 6,
   "metadata": {
    "scrolled": true
   },
   "outputs": [
    {
     "data": {
      "text/plain": [
       "True"
      ]
     },
     "execution_count": 6,
     "metadata": {},
     "output_type": "execute_result"
    }
   ],
   "source": [
    "(train_data.isnull().any(axis=0) == False).all()"
   ]
  },
  {
   "cell_type": "code",
   "execution_count": 7,
   "metadata": {
    "scrolled": true
   },
   "outputs": [
    {
     "data": {
      "text/plain": [
       "True"
      ]
     },
     "execution_count": 7,
     "metadata": {},
     "output_type": "execute_result"
    }
   ],
   "source": [
    "(train_data.isna().any(axis=0) == False).all()"
   ]
  },
  {
   "cell_type": "markdown",
   "metadata": {},
   "source": [
    "**确定训练集中没有缺失数据。**"
   ]
  },
  {
   "cell_type": "markdown",
   "metadata": {},
   "source": [
    "### 特征提取"
   ]
  },
  {
   "cell_type": "markdown",
   "metadata": {},
   "source": [
    "#### Dates解析为年月日时"
   ]
  },
  {
   "cell_type": "code",
   "execution_count": 8,
   "metadata": {},
   "outputs": [],
   "source": [
    "train_data = datapre.extra_dates(train_data)"
   ]
  },
  {
   "cell_type": "markdown",
   "metadata": {},
   "source": [
    "#### DayOfWeek转化为数字"
   ]
  },
  {
   "cell_type": "code",
   "execution_count": 9,
   "metadata": {},
   "outputs": [],
   "source": [
    "DayOfWeekEnc = LabelEncoder()\n",
    "train_data['DayOfWeekID'] = DayOfWeekEnc.fit_transform(train_data['DayOfWeek'])"
   ]
  },
  {
   "cell_type": "markdown",
   "metadata": {},
   "source": [
    "#### PdDistrict转化为数字"
   ]
  },
  {
   "cell_type": "code",
   "execution_count": 10,
   "metadata": {},
   "outputs": [],
   "source": [
    "PdDistrictEnc = LabelEncoder()\n",
    "train_data['PdDistrictID'] = PdDistrictEnc.fit_transform(train_data['PdDistrict'])"
   ]
  },
  {
   "cell_type": "markdown",
   "metadata": {},
   "source": [
    "#### 从Address中提取是否含有Block字段作为特征"
   ]
  },
  {
   "cell_type": "code",
   "execution_count": 11,
   "metadata": {},
   "outputs": [],
   "source": [
    "train_data = datapre.extra_address_for_block(train_data)"
   ]
  },
  {
   "cell_type": "markdown",
   "metadata": {},
   "source": [
    "#### 从Address中提取地址后缀作为特征\n",
    "- 标准的地址都会含有一个简写后缀表示道路的类型，直接解析后缀，如：\"200 Block of INTERSTATE80 HY\"解析为\"HY\"。\n",
    "- 对于路口则会表示成'XX ST / YY ST'，直接解析为\"CrossRoad\"，如：\"STCHARLES AV / 19TH AV\"解析为\"CrossRoad\"。\n",
    "- 对于直接含有道路类型全名的地址也要进行解析。如：\"0 Block of AVENUE OF THE PALMS\"中的\"AVENUE\"就是道路类型。\n",
    "- 对于上述三种方式都无法解析，则直接设置为\"Unkown\"。  \n",
    "\n",
    "根据直觉判断，不同类型的道路发生各种类型犯罪的分布是不一样的。如：铁路附近发生自杀案件的概率普遍高于其他案件。"
   ]
  },
  {
   "cell_type": "code",
   "execution_count": 12,
   "metadata": {},
   "outputs": [],
   "source": [
    "train_data = datapre.extra_address_for_suffix(train_data)"
   ]
  },
  {
   "cell_type": "markdown",
   "metadata": {},
   "source": [
    "#### RoadType转化为数字"
   ]
  },
  {
   "cell_type": "code",
   "execution_count": 13,
   "metadata": {},
   "outputs": [],
   "source": [
    "RoadTypeEnc = LabelEncoder()\n",
    "train_data['RoadTypeID'] = RoadTypeEnc.fit_transform(train_data['RoadType'])"
   ]
  },
  {
   "cell_type": "markdown",
   "metadata": {},
   "source": [
    "#### 从Address中提取道路名称作为特征"
   ]
  },
  {
   "cell_type": "code",
   "execution_count": 14,
   "metadata": {
    "scrolled": false
   },
   "outputs": [
    {
     "name": "stdout",
     "output_type": "stream",
     "text": [
      "There is only one road name in CrossRoad. index:  [173430, 217606, 285516, 350752, 410727, 460380, 526746, 528049, 535469, 673078, 677260, 677268, 683862, 741420, 755445, 756059, 763376, 769674, 769675, 772415, 780968, 787517, 787770, 804816, 804817, 811431, 828322, 828766, 830042, 834617, 834621, 843892, 843893, 870171, 870173, 875737, 877289, 877361]\n"
     ]
    }
   ],
   "source": [
    "train_data = datapre.extra_address_for_infos(train_data)"
   ]
  },
  {
   "cell_type": "markdown",
   "metadata": {},
   "source": [
    "#### 将RoadBlock、RoadName1、RoadName2转化为ID"
   ]
  },
  {
   "cell_type": "code",
   "execution_count": 15,
   "metadata": {},
   "outputs": [],
   "source": [
    "RoadBlockEnc, RoadName1Enc, RoadName2Enc = LabelEncoder(), LabelEncoder(), LabelEncoder()\n",
    "train_data[\"RoadBlockID\"] = RoadBlockEnc.fit_transform(train_data[\"RoadBlock\"])\n",
    "train_data[\"RoadName1ID\"] = RoadName1Enc.fit_transform(train_data[\"RoadName1\"])\n",
    "train_data[\"RoadName2ID\"] = RoadName2Enc.fit_transform(train_data[\"RoadName2\"])"
   ]
  },
  {
   "cell_type": "code",
   "execution_count": 16,
   "metadata": {},
   "outputs": [
    {
     "data": {
      "text/html": [
       "<div>\n",
       "<style scoped>\n",
       "    .dataframe tbody tr th:only-of-type {\n",
       "        vertical-align: middle;\n",
       "    }\n",
       "\n",
       "    .dataframe tbody tr th {\n",
       "        vertical-align: top;\n",
       "    }\n",
       "\n",
       "    .dataframe thead th {\n",
       "        text-align: right;\n",
       "    }\n",
       "</style>\n",
       "<table border=\"1\" class=\"dataframe\">\n",
       "  <thead>\n",
       "    <tr style=\"text-align: right;\">\n",
       "      <th></th>\n",
       "      <th>Dates</th>\n",
       "      <th>Category</th>\n",
       "      <th>DayOfWeek</th>\n",
       "      <th>PdDistrict</th>\n",
       "      <th>Address</th>\n",
       "      <th>X</th>\n",
       "      <th>Y</th>\n",
       "      <th>Year</th>\n",
       "      <th>Month</th>\n",
       "      <th>Day</th>\n",
       "      <th>...</th>\n",
       "      <th>PdDistrictID</th>\n",
       "      <th>HasBlock</th>\n",
       "      <th>RoadType</th>\n",
       "      <th>RoadTypeID</th>\n",
       "      <th>RoadName1</th>\n",
       "      <th>RoadName2</th>\n",
       "      <th>RoadBlock</th>\n",
       "      <th>RoadBlockID</th>\n",
       "      <th>RoadName1ID</th>\n",
       "      <th>RoadName2ID</th>\n",
       "    </tr>\n",
       "  </thead>\n",
       "  <tbody>\n",
       "    <tr>\n",
       "      <th>0</th>\n",
       "      <td>2015-05-13 23:53:00</td>\n",
       "      <td>WARRANTS</td>\n",
       "      <td>Wednesday</td>\n",
       "      <td>NORTHERN</td>\n",
       "      <td>OAK ST / LAGUNA ST</td>\n",
       "      <td>-122.425892</td>\n",
       "      <td>37.774599</td>\n",
       "      <td>2015</td>\n",
       "      <td>5</td>\n",
       "      <td>13</td>\n",
       "      <td>...</td>\n",
       "      <td>4</td>\n",
       "      <td>0</td>\n",
       "      <td>CrossRoad</td>\n",
       "      <td>5</td>\n",
       "      <td>OAK</td>\n",
       "      <td>LAGUNA</td>\n",
       "      <td>Unkown</td>\n",
       "      <td>84</td>\n",
       "      <td>1296</td>\n",
       "      <td>842</td>\n",
       "    </tr>\n",
       "  </tbody>\n",
       "</table>\n",
       "<p>1 rows × 22 columns</p>\n",
       "</div>"
      ],
      "text/plain": [
       "                Dates  Category  DayOfWeek PdDistrict             Address  \\\n",
       "0 2015-05-13 23:53:00  WARRANTS  Wednesday   NORTHERN  OAK ST / LAGUNA ST   \n",
       "\n",
       "            X          Y  Year  Month  Day     ...       PdDistrictID  \\\n",
       "0 -122.425892  37.774599  2015      5   13     ...                  4   \n",
       "\n",
       "   HasBlock   RoadType  RoadTypeID RoadName1  RoadName2 RoadBlock RoadBlockID  \\\n",
       "0         0  CrossRoad           5       OAK     LAGUNA    Unkown          84   \n",
       "\n",
       "  RoadName1ID  RoadName2ID  \n",
       "0        1296          842  \n",
       "\n",
       "[1 rows x 22 columns]"
      ]
     },
     "execution_count": 16,
     "metadata": {},
     "output_type": "execute_result"
    }
   ],
   "source": [
    "train_data.head(1)"
   ]
  },
  {
   "cell_type": "markdown",
   "metadata": {},
   "source": [
    "#### 保存预处理后的训练集"
   ]
  },
  {
   "cell_type": "code",
   "execution_count": 17,
   "metadata": {},
   "outputs": [],
   "source": [
    "train_data.to_csv(\"../datasets/train_preprocess.csv\", index=False)"
   ]
  },
  {
   "cell_type": "markdown",
   "metadata": {},
   "source": [
    "#### 删除含有异常值的样本\n",
    "属性'Category'、'PdDistrict'为类别，存在既有意义。属性'Address'为自由字符串，存在既有意义。\n",
    "- Dates，需要在特定区间内\n",
    "- DayOfWeek，只能有七种类型\n",
    "- X，Y，"
   ]
  },
  {
   "cell_type": "code",
   "execution_count": 18,
   "metadata": {},
   "outputs": [],
   "source": [
    "X_bound = [-122.52, -122.35]\n",
    "Y_bound = [37.70, 37.85]"
   ]
  },
  {
   "cell_type": "code",
   "execution_count": 19,
   "metadata": {},
   "outputs": [
    {
     "data": {
      "text/plain": [
       "(878049, 22)"
      ]
     },
     "execution_count": 19,
     "metadata": {},
     "output_type": "execute_result"
    }
   ],
   "source": [
    "train_data.shape"
   ]
  },
  {
   "cell_type": "code",
   "execution_count": 20,
   "metadata": {},
   "outputs": [
    {
     "data": {
      "text/plain": [
       "(877982, 22)"
      ]
     },
     "execution_count": 20,
     "metadata": {},
     "output_type": "execute_result"
    }
   ],
   "source": [
    "train_data.loc[(train_data['X'] > X_bound[0]) & (train_data['X'] < X_bound[1]) \n",
    "               & (train_data['Y'] > Y_bound[0]) & (train_data['Y'] < Y_bound[1])].shape"
   ]
  },
  {
   "cell_type": "markdown",
   "metadata": {},
   "source": [
    "#### 设置训练模型特征名字"
   ]
  },
  {
   "cell_type": "code",
   "execution_count": 21,
   "metadata": {},
   "outputs": [],
   "source": [
    "feature_names = ['Year', 'Month', 'Hour', 'DayOfWeekID', 'PdDistrictID', \\\n",
    "                 'HasBlock', 'RoadTypeID', 'RoadBlockID', 'RoadName1ID', 'RoadName2ID', 'X', 'Y']"
   ]
  },
  {
   "cell_type": "markdown",
   "metadata": {},
   "source": [
    "### 使用KNN算法进行分类\n",
    "使用KNN算法以X、Y经纬度作为特征对训练集进行分类，将分类结果作为新的特征并入到训练集中。"
   ]
  },
  {
   "cell_type": "markdown",
   "metadata": {},
   "source": [
    "### 使用XGBoost作为预测算法"
   ]
  },
  {
   "cell_type": "code",
   "execution_count": 22,
   "metadata": {},
   "outputs": [],
   "source": [
    "# 取出训练集中的预测目标字段\n",
    "# sample_data = train_data.sample(frac = 0.3, random_state=10)\n",
    "sample_data = train_data\n",
    "target = sample_data['Category']\n",
    "features = sample_data[feature_names]"
   ]
  },
  {
   "cell_type": "markdown",
   "metadata": {},
   "source": [
    "#### 开始训练模型"
   ]
  },
  {
   "cell_type": "code",
   "execution_count": 23,
   "metadata": {},
   "outputs": [],
   "source": [
    "TargetEnc = LabelEncoder()\n",
    "target = TargetEnc.fit_transform(target)"
   ]
  },
  {
   "cell_type": "code",
   "execution_count": 24,
   "metadata": {},
   "outputs": [
    {
     "data": {
      "text/plain": [
       "39"
      ]
     },
     "execution_count": 24,
     "metadata": {},
     "output_type": "execute_result"
    }
   ],
   "source": [
    "len(TargetEnc.classes_)"
   ]
  },
  {
   "cell_type": "code",
   "execution_count": 25,
   "metadata": {},
   "outputs": [],
   "source": [
    "# X_train, X_test, y_train, y_test = train_test_split(features, target, test_size=0.2, random_state=42)\n",
    "# print('X_train has {} samples.'.format(X_train.shape[0]))\n",
    "# print('X_test has {} samples.'.format(X_test.shape[0]))\n",
    "\n",
    "# DTrain_X = xgb.DMatrix(data=X_train, label=y_train)\n",
    "# DTest_X = xgb.DMatrix(data=X_test, label=y_test)"
   ]
  },
  {
   "cell_type": "code",
   "execution_count": 26,
   "metadata": {},
   "outputs": [],
   "source": [
    "# from itertools import product\n",
    "\n",
    "# def products(data):\n",
    "#     results = [[]]\n",
    "#     for a in data:\n",
    "#         results = [x+[y] for x in results for y in a]\n",
    "#     for a in results:\n",
    "#         yield tuple(a)\n",
    "        \n",
    "# def extra_params(param, param_grid):\n",
    "#     param_names = list(param_grid)\n",
    "#     params = []\n",
    "#     filenames = []\n",
    "#     param_sets = products(param_grid.values())\n",
    "#     for a in param_sets:\n",
    "#         b = param.copy()\n",
    "#         for key,value in zip(param_names, a):\n",
    "#             b[key] = value\n",
    "#         params.append(b)\n",
    "#         filenames.append('_'.join([str(i) for i in a]))\n",
    "#     return params,filenames\n"
   ]
  },
  {
   "cell_type": "code",
   "execution_count": 27,
   "metadata": {
    "scrolled": true
   },
   "outputs": [],
   "source": [
    "# import time\n",
    "# import datetime\n",
    "# from os import makedirs, system\n",
    "\n",
    "# param = {}\n",
    "# param['objective'] = 'multi:softprob'\n",
    "# # scale weight of positive examples\n",
    "# # param['eta'] = 0.01\n",
    "# # param['max_depth'] = 6\n",
    "# # param['silent'] = 1\n",
    "# # param['nthread'] = 8\n",
    "# param['num_class'] = len(LabelEncTarget.classes_)\n",
    "\n",
    "# param['eval_metric'] = 'mlogloss'\n",
    "# param['tree_method'] = 'gpu_hist'\n",
    "\n",
    "# evallist = [(DTrain_X, 'train'), (DTest_X, 'Test')]\n",
    "\n",
    "# param_grid = {\n",
    "# #     'eta' : [0.01],\n",
    "#     'max_depth': [9],\n",
    "#     'subsample' : [0.7],\n",
    "# #     'grow_policy' : [\"depthwise\", \"lossguide\"],\n",
    "# }\n",
    "\n",
    "# num_round = 1000\n",
    "\n",
    "# # 参数和模型保存文件名\n",
    "# params,files = extra_params(param, param_grid)\n",
    "\n",
    "# # 模型保存文件路径\n",
    "# model_path = \"../models/\"+str(datetime.datetime.utcnow()).replace(':','_').replace(' ', '_').replace('.', '_') + \"_\" + str(num_round)\n",
    "# makedirs(model_path)\n",
    "\n",
    "# # 模型文件名的含义\n",
    "# modelfileformat = \"-\".join(list(param_grid))\n",
    "# system(\"echo 123 > \" + model_path + \"/\" + modelfileformat)\n",
    " \n",
    "# start = time.time()\n",
    "# result_data = {'best_iteration' : [],\n",
    "#                'best_score' : []}\n",
    "\n",
    "# def eta_calc(round_index, round_count):\n",
    "#     print(\"eta calc: \", round_index, round_count)\n",
    "#     etas = [0.1, 0.07, 0.05, 0.01]\n",
    "#     for i in range(1,1+len(etas)):\n",
    "#         if round_index < round_count/len(etas)*i:\n",
    "#             return etas[i-1]\n",
    "#     return etas[-1]\n",
    "\n",
    "# for i,a in enumerate(params):\n",
    "#     bst =xgb.train(a, DTrain_X, num_round, evallist, early_stopping_rounds=None, learning_rates=eta_calc)\n",
    "#     bst.save_model(model_path + \"/\" + files[i] + \".model\")\n",
    "#     result_data['best_iteration'].append(bst.best_iteration)\n",
    "#     result_data['best_score'].append(bst.best_score)\n",
    "\n",
    "# results = pd.DataFrame(index=files, data=result_data)\n",
    "# results.to_csv(model_path + \"/\" + \"result.csv\")\n",
    "\n",
    "# print('GPU Training Time: %s seconds.' % (str(time.time() - start)))"
   ]
  },
  {
   "cell_type": "code",
   "execution_count": 28,
   "metadata": {},
   "outputs": [],
   "source": [
    "# print(bst.attributes())"
   ]
  },
  {
   "cell_type": "markdown",
   "metadata": {},
   "source": [
    "#### 预测验证集"
   ]
  },
  {
   "cell_type": "code",
   "execution_count": 31,
   "metadata": {},
   "outputs": [],
   "source": [
    "test_data = datapre.extra_dates(test_data)\n",
    "test_data['DayOfWeekID'] = DayOfWeekEnc.transform(test_data['DayOfWeek'])\n",
    "test_data['PdDistrictID'] = PdDistrictEnc.transform(test_data['PdDistrict'])\n",
    "test_data = datapre.extra_address_for_block(test_data)\n",
    "test_data = datapre.extra_address_for_suffix(test_data)\n",
    "test_data['RoadTypeID'] = RoadTypeEnc.fit_transform(test_data['RoadType'])"
   ]
  },
  {
   "cell_type": "code",
   "execution_count": 32,
   "metadata": {
    "scrolled": true
   },
   "outputs": [
    {
     "name": "stdout",
     "output_type": "stream",
     "text": [
      "There is only one road name in CrossRoad. index:  [61142, 81880, 110373, 110374, 111915, 111916, 310541, 318229, 352785, 356388, 376672, 471894, 493647, 530783, 535977, 540605, 540639, 664826, 667226, 750255, 770149, 770150, 773771, 773778, 778414, 784851, 796864, 800668, 800670, 823027, 848799, 848892, 858836, 858837, 859378, 859379, 859380, 865755, 873429]\n"
     ]
    }
   ],
   "source": [
    "test_data = datapre.extra_address_for_infos(test_data)"
   ]
  },
  {
   "cell_type": "code",
   "execution_count": 33,
   "metadata": {},
   "outputs": [],
   "source": [
    "test_data.loc[test_data[\"RoadBlock\"].isin(RoadBlockEnc.classes_) == False, \"RoadBlock\"] = \"Unkown\",\n",
    "test_data.loc[test_data[\"RoadName1\"].isin(RoadName1Enc.classes_) == False, \"RoadName1\"] = \"Unkown\",\n",
    "test_data.loc[test_data[\"RoadName2\"].isin(RoadName2Enc.classes_) == False, \"RoadName2\"] = \"Unkown\",\n",
    "\n",
    "test_data[\"RoadBlockID\"] = RoadBlockEnc.transform(test_data[\"RoadBlock\"])\n",
    "test_data[\"RoadName1ID\"] = RoadName1Enc.transform(test_data[\"RoadName1\"])\n",
    "test_data[\"RoadName2ID\"] = RoadName2Enc.transform(test_data[\"RoadName2\"])"
   ]
  },
  {
   "cell_type": "code",
   "execution_count": 34,
   "metadata": {},
   "outputs": [],
   "source": [
    "test_data.to_csv(\"../datasets/test_preprocess.csv\", index=False)"
   ]
  },
  {
   "cell_type": "code",
   "execution_count": null,
   "metadata": {},
   "outputs": [],
   "source": [
    "X_valid = test_data[feature_names]\n",
    "DX_valid = xgb.DMatrix(data=X_valid)"
   ]
  },
  {
   "cell_type": "code",
   "execution_count": null,
   "metadata": {},
   "outputs": [],
   "source": [
    "bst_read = xgb.Booster()\n",
    "bst_read.load_model(\"../models/model_eta_0.01_0.01.model\")"
   ]
  },
  {
   "cell_type": "code",
   "execution_count": null,
   "metadata": {},
   "outputs": [],
   "source": [
    "y_pred_prob = np.round(bst_read.predict(DX_valid), 4)"
   ]
  },
  {
   "cell_type": "code",
   "execution_count": null,
   "metadata": {},
   "outputs": [],
   "source": [
    "y_pred_prob.shape"
   ]
  },
  {
   "cell_type": "code",
   "execution_count": null,
   "metadata": {},
   "outputs": [],
   "source": [
    "test_data.columns"
   ]
  },
  {
   "cell_type": "code",
   "execution_count": null,
   "metadata": {},
   "outputs": [],
   "source": [
    "csv_output = pd.DataFrame(columns=LabelEncTarget.classes_, data=y_pred_prob)\n",
    "csv_output.insert(0, 'Id', test_data['Id'])\n",
    "csv_output.to_csv('./model_eta_0.01_0.01_result.csv', index=False)"
   ]
  },
  {
   "cell_type": "code",
   "execution_count": null,
   "metadata": {},
   "outputs": [],
   "source": [
    "test_data[:10]"
   ]
  },
  {
   "cell_type": "code",
   "execution_count": null,
   "metadata": {},
   "outputs": [],
   "source": []
  }
 ],
 "metadata": {
  "kernelspec": {
   "display_name": "Python 3",
   "language": "python",
   "name": "python3"
  },
  "language_info": {
   "codemirror_mode": {
    "name": "ipython",
    "version": 3
   },
   "file_extension": ".py",
   "mimetype": "text/x-python",
   "name": "python",
   "nbconvert_exporter": "python",
   "pygments_lexer": "ipython3",
   "version": "3.6.7"
  }
 },
 "nbformat": 4,
 "nbformat_minor": 2
}
