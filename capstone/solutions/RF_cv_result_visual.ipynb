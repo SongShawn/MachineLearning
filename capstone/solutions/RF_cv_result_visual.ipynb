{
 "cells": [
  {
   "cell_type": "code",
   "execution_count": 2,
   "metadata": {},
   "outputs": [],
   "source": [
    "from numpy import array\n",
    "from numpy.ma import masked_array\n",
    "\n",
    "cv_result_min_sample_split = {'mean_fit_time': array([68.14419951, 67.56459689, 68.68700128, 67.9132    , 63.88400178]),\n",
    " 'std_fit_time': array([ 1.16645819,  0.99905091,  1.234406  ,  0.94243593, 10.47608878]),\n",
    " 'mean_score_time': array([2.83819904, 2.28400211, 2.67139912, 2.26959844, 2.77899876]),\n",
    " 'std_score_time': array([0.46051421, 0.57398919, 0.52638038, 0.62955865, 0.88756768]),\n",
    " 'param_min_samples_split': masked_array(data=[20, 40, 60, 80, 100],\n",
    "              mask=[False, False, False, False, False],\n",
    "        fill_value='?',\n",
    "             dtype=object),\n",
    " 'params': [{'min_samples_split': 20},\n",
    "  {'min_samples_split': 40},\n",
    "  {'min_samples_split': 60},\n",
    "  {'min_samples_split': 80},\n",
    "  {'min_samples_split': 100}],\n",
    " 'split0_test_score': array([-2.50775761, -2.50677638, -2.50836831, -2.50660572, -2.50900031]),\n",
    " 'split1_test_score': array([-2.51174334, -2.51103459, -2.51110268, -2.51113005, -2.51043393]),\n",
    " 'split2_test_score': array([-2.5041221 , -2.50427744, -2.50455218, -2.50526669, -2.50329724]),\n",
    " 'split3_test_score': array([-2.50160995, -2.50188272, -2.50109528, -2.50052328, -2.50105069]),\n",
    " 'split4_test_score': array([-2.50365033, -2.50468034, -2.50283257, -2.50365481, -2.50356638]),\n",
    " 'mean_test_score': array([-2.50577827, -2.50573145, -2.50559206, -2.50543754, -2.50547151]),\n",
    " 'std_test_score': array([0.00358193, 0.00307411, 0.00366046, 0.00349647, 0.00360521]),\n",
    " 'rank_test_score': array([5, 4, 3, 1, 2]),\n",
    " 'split0_train_score': array([-2.47598819, -2.47483958, -2.47513826, -2.47506173, -2.47636459]),\n",
    " 'split1_train_score': array([-2.47567093, -2.47499365, -2.47534905, -2.47567231, -2.4753774 ]),\n",
    " 'split2_train_score': array([-2.47407082, -2.47467922, -2.47536734, -2.47609642, -2.47421015]),\n",
    " 'split3_train_score': array([-2.47734785, -2.47742325, -2.47736525, -2.47635189, -2.47787261]),\n",
    " 'split4_train_score': array([-2.47604656, -2.47556853, -2.47523158, -2.47683514, -2.47673104]),\n",
    " 'mean_train_score': array([-2.47582487, -2.47550084, -2.47569029, -2.4760035 , -2.47611116]),\n",
    " 'std_train_score': array([0.0010484 , 0.00100696, 0.00084159, 0.00060303, 0.00124124])}"
   ]
  },
  {
   "cell_type": "code",
   "execution_count": 1,
   "metadata": {},
   "outputs": [],
   "source": [
    "import matplotlib.pyplot as plt"
   ]
  },
  {
   "cell_type": "code",
   "execution_count": null,
   "metadata": {},
   "outputs": [],
   "source": [
    "x_value = [a[\"min_samples_split\"] for a in cv_result_min_sample_split[\"params\"]]\n",
    "x_lable = \"min_samples_split\"\n",
    "\n",
    "y_value = cv_result_min_sample_split[\"param\"]"
   ]
  }
 ],
 "metadata": {
  "kernelspec": {
   "display_name": "Python 3",
   "language": "python",
   "name": "python3"
  },
  "language_info": {
   "codemirror_mode": {
    "name": "ipython",
    "version": 3
   },
   "file_extension": ".py",
   "mimetype": "text/x-python",
   "name": "python",
   "nbconvert_exporter": "python",
   "pygments_lexer": "ipython3",
   "version": "3.6.7"
  }
 },
 "nbformat": 4,
 "nbformat_minor": 2
}
