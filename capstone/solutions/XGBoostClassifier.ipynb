{
 "cells": [
  {
   "cell_type": "code",
   "execution_count": 1,
   "metadata": {},
   "outputs": [],
   "source": [
    "import xgboost as xgb\n",
    "import pandas as pd\n",
    "import numpy as np\n",
    "import preprocess as datapre\n",
    "\n",
    "from sklearn.model_selection import GridSearchCV, StratifiedKFold\n",
    "from sklearn.metrics import log_loss, make_scorer\n",
    "from sklearn.preprocessing import LabelEncoder"
   ]
  },
  {
   "cell_type": "code",
   "execution_count": 2,
   "metadata": {},
   "outputs": [],
   "source": [
    "train_data = pd.read_csv(\"../datasets/train_preprocess.csv\")"
   ]
  },
  {
   "cell_type": "code",
   "execution_count": 3,
   "metadata": {},
   "outputs": [],
   "source": [
    "train_data = datapre.dataset_sample(train_data)"
   ]
  },
  {
   "cell_type": "code",
   "execution_count": 4,
   "metadata": {},
   "outputs": [
    {
     "data": {
      "text/plain": [
       "dtype('int64')"
      ]
     },
     "execution_count": 4,
     "metadata": {},
     "output_type": "execute_result"
    }
   ],
   "source": [
    "train_data[\"DayOfWeekID\"].dtype"
   ]
  },
  {
   "cell_type": "code",
   "execution_count": 5,
   "metadata": {},
   "outputs": [],
   "source": [
    "feature_names = ['Year', 'Month', 'Hour', 'DayOfWeekID', 'PdDistrictID', \\\n",
    "                 'HasBlock', 'RoadTypeID', 'RoadBlockID', 'RoadName1ID', 'RoadName2ID', 'X', 'Y']"
   ]
  },
  {
   "cell_type": "code",
   "execution_count": 6,
   "metadata": {},
   "outputs": [],
   "source": [
    "X = train_data[feature_names]"
   ]
  },
  {
   "cell_type": "code",
   "execution_count": 7,
   "metadata": {},
   "outputs": [],
   "source": [
    "TargetEnc = LabelEncoder()\n",
    "y_true = TargetEnc.fit_transform(train_data[\"Category\"])"
   ]
  },
  {
   "cell_type": "code",
   "execution_count": 8,
   "metadata": {},
   "outputs": [],
   "source": [
    "xgbclf = xgb.XGBClassifier(max_depth=6,\n",
    "                       learning_rate=0.1, \n",
    "                       n_estimators=100, \n",
    "                       objective=\"multi:softprob\",\n",
    "                       n_job=-1,\n",
    "                       gamma=2,\n",
    "                       min_child_weight=10,\n",
    "                       max_delta_step=2,\n",
    "                       subsample=0.8,\n",
    "                       colsample_bytree=0.8,\n",
    "                       random_state=10\n",
    "                    )"
   ]
  },
  {
   "cell_type": "code",
   "execution_count": null,
   "metadata": {},
   "outputs": [
    {
     "name": "stdout",
     "output_type": "stream",
     "text": [
      "Fitting 5 folds for each of 5 candidates, totalling 25 fits\n",
      "[CV] n_estimators=400 ................................................\n",
      "[CV] n_estimators=400 ................................................\n",
      "[CV] n_estimators=400 ................................................\n",
      "[CV] n_estimators=400 ................................................\n"
     ]
    }
   ],
   "source": [
    "param_grid = {\"n_estimators\": list(range(400, 2001, 400))}\n",
    "\n",
    "cv_clf_n_estimators = GridSearchCV(estimator=xgbclf, \n",
    "                                  param_grid = param_grid,\n",
    "                                  scoring = make_scorer(log_loss, needs_proba=True), n_jobs=-1,\n",
    "                                  cv=5, verbose=4, return_train_score=True, refit=False)\n",
    "\n",
    "from time import time\n",
    "start = time()\n",
    "cv_clf_n_estimators.fit(X, y_true)\n",
    "print(\"Training with total data elapse %d sencond.\" % (time()-start))"
   ]
  },
  {
   "cell_type": "code",
   "execution_count": null,
   "metadata": {},
   "outputs": [],
   "source": []
  }
 ],
 "metadata": {
  "kernelspec": {
   "display_name": "Python 3",
   "language": "python",
   "name": "python3"
  },
  "language_info": {
   "codemirror_mode": {
    "name": "ipython",
    "version": 3
   },
   "file_extension": ".py",
   "mimetype": "text/x-python",
   "name": "python",
   "nbconvert_exporter": "python",
   "pygments_lexer": "ipython3",
   "version": "3.6.7"
  }
 },
 "nbformat": 4,
 "nbformat_minor": 2
}
