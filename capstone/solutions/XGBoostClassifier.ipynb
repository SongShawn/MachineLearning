{
 "cells": [
  {
   "cell_type": "code",
   "execution_count": 11,
   "metadata": {},
   "outputs": [],
   "source": [
    "import xgboost as xgb\n",
    "import pandas as pd\n",
    "import numpy as np\n",
    "import preprocess as datapre\n",
    "\n",
    "from sklearn.model_selection import GridSearchCV, StratifiedKFold\n",
    "from sklearn.metrics import log_loss, make_scorer\n",
    "from sklearn.preprocessing import LabelEncoder, LabelBinarizer"
   ]
  },
  {
   "cell_type": "code",
   "execution_count": 2,
   "metadata": {},
   "outputs": [],
   "source": [
    "origin_train_data = pd.read_csv(\"../datasets/train_preprocess.csv\")"
   ]
  },
  {
   "cell_type": "code",
   "execution_count": 3,
   "metadata": {},
   "outputs": [],
   "source": [
    "feature_names = ['Year', 'Month', 'Hour', 'DayOfWeekID', 'PdDistrictID', \\\n",
    "                 'HasBlock', 'RoadTypeID', 'RoadBlockID', 'RoadName1ID', 'RoadName2ID', 'X', 'Y']"
   ]
  },
  {
   "cell_type": "code",
   "execution_count": 4,
   "metadata": {},
   "outputs": [],
   "source": [
    "valid_data = pd.read_csv(\"../datasets/test_preprocess.csv\")\n",
    "valid_X = valid_data[feature_names]"
   ]
  },
  {
   "cell_type": "markdown",
   "metadata": {},
   "source": [
    "----"
   ]
  },
  {
   "cell_type": "code",
   "execution_count": 3,
   "metadata": {},
   "outputs": [],
   "source": [
    "train_data = datapre.dataset_sample(origin_train_data)"
   ]
  },
  {
   "cell_type": "code",
   "execution_count": 6,
   "metadata": {},
   "outputs": [],
   "source": [
    "X = train_data[feature_names]"
   ]
  },
  {
   "cell_type": "code",
   "execution_count": 7,
   "metadata": {},
   "outputs": [],
   "source": [
    "TargetEnc = LabelEncoder()\n",
    "y_true = TargetEnc.fit_transform(train_data[\"Category\"])"
   ]
  },
  {
   "cell_type": "code",
   "execution_count": 8,
   "metadata": {},
   "outputs": [],
   "source": [
    "xgbclf = xgb.XGBClassifier(max_depth=6,\n",
    "                       learning_rate=0.1, \n",
    "                       n_estimators=100, \n",
    "                       objective=\"multi:softprob\",\n",
    "                       n_job=-1,\n",
    "                       gamma=2,\n",
    "                       min_child_weight=10,\n",
    "                       max_delta_step=2,\n",
    "                       subsample=0.8,\n",
    "                       colsample_bytree=0.8,\n",
    "                       random_state=10\n",
    "                    )"
   ]
  },
  {
   "cell_type": "code",
   "execution_count": null,
   "metadata": {},
   "outputs": [
    {
     "name": "stdout",
     "output_type": "stream",
     "text": [
      "Fitting 5 folds for each of 5 candidates, totalling 25 fits\n",
      "[CV] n_estimators=400 ................................................\n",
      "[CV] n_estimators=400 ................................................\n",
      "[CV] n_estimators=400 ................................................\n",
      "[CV] n_estimators=400 ................................................\n"
     ]
    }
   ],
   "source": [
    "param_grid = {\"n_estimators\": list(range(400, 2001, 400))}\n",
    "\n",
    "cv_clf_n_estimators = GridSearchCV(estimator=xgbclf, \n",
    "                                  param_grid = param_grid,\n",
    "                                  scoring = make_scorer(log_loss, needs_proba=True), n_jobs=-1,\n",
    "                                  cv=5, verbose=4, return_train_score=True, refit=False)\n",
    "\n",
    "from time import time\n",
    "start = time()\n",
    "cv_clf_n_estimators.fit(X, y_true)\n",
    "print(\"Training with total data elapse %d sencond.\" % (time()-start))"
   ]
  },
  {
   "cell_type": "markdown",
   "metadata": {},
   "source": [
    "#### XGBoost基础模型"
   ]
  },
  {
   "cell_type": "code",
   "execution_count": 15,
   "metadata": {},
   "outputs": [],
   "source": [
    "base_X = origin_train_data[feature_names]"
   ]
  },
  {
   "cell_type": "code",
   "execution_count": 16,
   "metadata": {},
   "outputs": [],
   "source": [
    "base_y_true =origin_train_data[\"Category\"]"
   ]
  },
  {
   "cell_type": "code",
   "execution_count": 17,
   "metadata": {},
   "outputs": [
    {
     "data": {
      "text/plain": [
       "(878049,)"
      ]
     },
     "execution_count": 17,
     "metadata": {},
     "output_type": "execute_result"
    }
   ],
   "source": [
    "base_y_true.shape"
   ]
  },
  {
   "cell_type": "code",
   "execution_count": 23,
   "metadata": {},
   "outputs": [
    {
     "name": "stdout",
     "output_type": "stream",
     "text": [
      "[0]\tvalidation_0-mlogloss:3.4734\n",
      "[1]\tvalidation_0-mlogloss:3.34404\n",
      "[2]\tvalidation_0-mlogloss:3.24319\n",
      "[3]\tvalidation_0-mlogloss:3.16024\n",
      "[4]\tvalidation_0-mlogloss:3.09035\n",
      "[5]\tvalidation_0-mlogloss:3.03031\n",
      "[6]\tvalidation_0-mlogloss:2.97736\n",
      "[7]\tvalidation_0-mlogloss:2.92991\n",
      "[8]\tvalidation_0-mlogloss:2.88951\n",
      "[9]\tvalidation_0-mlogloss:2.85297\n",
      "[10]\tvalidation_0-mlogloss:2.81952\n",
      "[11]\tvalidation_0-mlogloss:2.78938\n",
      "[12]\tvalidation_0-mlogloss:2.7613\n",
      "[13]\tvalidation_0-mlogloss:2.73599\n",
      "[14]\tvalidation_0-mlogloss:2.71362\n",
      "[15]\tvalidation_0-mlogloss:2.69247\n",
      "[16]\tvalidation_0-mlogloss:2.67257\n",
      "[17]\tvalidation_0-mlogloss:2.65476\n",
      "[18]\tvalidation_0-mlogloss:2.63826\n",
      "[19]\tvalidation_0-mlogloss:2.62341\n",
      "[20]\tvalidation_0-mlogloss:2.60929\n",
      "[21]\tvalidation_0-mlogloss:2.596\n",
      "[22]\tvalidation_0-mlogloss:2.58357\n",
      "[23]\tvalidation_0-mlogloss:2.57197\n",
      "[24]\tvalidation_0-mlogloss:2.56103\n",
      "[25]\tvalidation_0-mlogloss:2.55101\n",
      "[26]\tvalidation_0-mlogloss:2.54132\n",
      "[27]\tvalidation_0-mlogloss:2.53243\n",
      "[28]\tvalidation_0-mlogloss:2.52452\n",
      "[29]\tvalidation_0-mlogloss:2.51671\n",
      "[30]\tvalidation_0-mlogloss:2.50962\n",
      "[31]\tvalidation_0-mlogloss:2.50276\n",
      "[32]\tvalidation_0-mlogloss:2.49632\n",
      "[33]\tvalidation_0-mlogloss:2.49019\n",
      "[34]\tvalidation_0-mlogloss:2.48426\n",
      "[35]\tvalidation_0-mlogloss:2.47896\n",
      "[36]\tvalidation_0-mlogloss:2.47383\n",
      "[37]\tvalidation_0-mlogloss:2.46903\n",
      "[38]\tvalidation_0-mlogloss:2.46437\n",
      "[39]\tvalidation_0-mlogloss:2.46014\n",
      "[40]\tvalidation_0-mlogloss:2.45611\n",
      "[41]\tvalidation_0-mlogloss:2.45216\n",
      "[42]\tvalidation_0-mlogloss:2.44827\n",
      "[43]\tvalidation_0-mlogloss:2.44461\n",
      "[44]\tvalidation_0-mlogloss:2.44117\n",
      "[45]\tvalidation_0-mlogloss:2.43789\n",
      "[46]\tvalidation_0-mlogloss:2.43462\n",
      "[47]\tvalidation_0-mlogloss:2.43165\n",
      "[48]\tvalidation_0-mlogloss:2.42897\n",
      "[49]\tvalidation_0-mlogloss:2.42637\n",
      "[50]\tvalidation_0-mlogloss:2.42393\n",
      "[51]\tvalidation_0-mlogloss:2.42165\n",
      "[52]\tvalidation_0-mlogloss:2.41945\n",
      "[53]\tvalidation_0-mlogloss:2.41712\n",
      "[54]\tvalidation_0-mlogloss:2.41514\n",
      "[55]\tvalidation_0-mlogloss:2.4132\n",
      "[56]\tvalidation_0-mlogloss:2.41132\n",
      "[57]\tvalidation_0-mlogloss:2.40946\n",
      "[58]\tvalidation_0-mlogloss:2.40754\n",
      "[59]\tvalidation_0-mlogloss:2.40582\n",
      "[60]\tvalidation_0-mlogloss:2.4041\n",
      "[61]\tvalidation_0-mlogloss:2.40255\n",
      "[62]\tvalidation_0-mlogloss:2.40102\n",
      "[63]\tvalidation_0-mlogloss:2.39955\n",
      "[64]\tvalidation_0-mlogloss:2.39805\n",
      "[65]\tvalidation_0-mlogloss:2.39672\n",
      "[66]\tvalidation_0-mlogloss:2.39529\n",
      "[67]\tvalidation_0-mlogloss:2.39399\n",
      "[68]\tvalidation_0-mlogloss:2.39269\n",
      "[69]\tvalidation_0-mlogloss:2.39145\n",
      "[70]\tvalidation_0-mlogloss:2.39023\n",
      "[71]\tvalidation_0-mlogloss:2.38912\n",
      "[72]\tvalidation_0-mlogloss:2.38805\n",
      "[73]\tvalidation_0-mlogloss:2.387\n",
      "[74]\tvalidation_0-mlogloss:2.38593\n",
      "[75]\tvalidation_0-mlogloss:2.38489\n",
      "[76]\tvalidation_0-mlogloss:2.38389\n",
      "[77]\tvalidation_0-mlogloss:2.38282\n",
      "[78]\tvalidation_0-mlogloss:2.38178\n",
      "[79]\tvalidation_0-mlogloss:2.38091\n",
      "[80]\tvalidation_0-mlogloss:2.38008\n",
      "[81]\tvalidation_0-mlogloss:2.37919\n",
      "[82]\tvalidation_0-mlogloss:2.37821\n",
      "[83]\tvalidation_0-mlogloss:2.37736\n",
      "[84]\tvalidation_0-mlogloss:2.37655\n",
      "[85]\tvalidation_0-mlogloss:2.37564\n",
      "[86]\tvalidation_0-mlogloss:2.37478\n",
      "[87]\tvalidation_0-mlogloss:2.37398\n",
      "[88]\tvalidation_0-mlogloss:2.37314\n",
      "[89]\tvalidation_0-mlogloss:2.37214\n",
      "[90]\tvalidation_0-mlogloss:2.37131\n",
      "[91]\tvalidation_0-mlogloss:2.37055\n",
      "[92]\tvalidation_0-mlogloss:2.36974\n",
      "[93]\tvalidation_0-mlogloss:2.36896\n",
      "[94]\tvalidation_0-mlogloss:2.36824\n",
      "[95]\tvalidation_0-mlogloss:2.36754\n",
      "[96]\tvalidation_0-mlogloss:2.36682\n",
      "[97]\tvalidation_0-mlogloss:2.36614\n",
      "[98]\tvalidation_0-mlogloss:2.36551\n",
      "[99]\tvalidation_0-mlogloss:2.36486\n",
      "[100]\tvalidation_0-mlogloss:2.36422\n",
      "[101]\tvalidation_0-mlogloss:2.36352\n",
      "[102]\tvalidation_0-mlogloss:2.36283\n",
      "[103]\tvalidation_0-mlogloss:2.36207\n",
      "[104]\tvalidation_0-mlogloss:2.36146\n",
      "[105]\tvalidation_0-mlogloss:2.36092\n",
      "[106]\tvalidation_0-mlogloss:2.3603\n",
      "[107]\tvalidation_0-mlogloss:2.35973\n",
      "[108]\tvalidation_0-mlogloss:2.35912\n",
      "[109]\tvalidation_0-mlogloss:2.35854\n",
      "[110]\tvalidation_0-mlogloss:2.35797\n",
      "[111]\tvalidation_0-mlogloss:2.35742\n",
      "[112]\tvalidation_0-mlogloss:2.35686\n",
      "[113]\tvalidation_0-mlogloss:2.35633\n",
      "[114]\tvalidation_0-mlogloss:2.35579\n",
      "[115]\tvalidation_0-mlogloss:2.35517\n",
      "[116]\tvalidation_0-mlogloss:2.35459\n",
      "[117]\tvalidation_0-mlogloss:2.35403\n",
      "[118]\tvalidation_0-mlogloss:2.3534\n",
      "[119]\tvalidation_0-mlogloss:2.35293\n",
      "[120]\tvalidation_0-mlogloss:2.35245\n",
      "[121]\tvalidation_0-mlogloss:2.35197\n",
      "[122]\tvalidation_0-mlogloss:2.35142\n",
      "[123]\tvalidation_0-mlogloss:2.35084\n",
      "[124]\tvalidation_0-mlogloss:2.35032\n",
      "[125]\tvalidation_0-mlogloss:2.34981\n",
      "[126]\tvalidation_0-mlogloss:2.34923\n",
      "[127]\tvalidation_0-mlogloss:2.34871\n",
      "[128]\tvalidation_0-mlogloss:2.34822\n",
      "[129]\tvalidation_0-mlogloss:2.34765\n",
      "[130]\tvalidation_0-mlogloss:2.34715\n",
      "[131]\tvalidation_0-mlogloss:2.34661\n",
      "[132]\tvalidation_0-mlogloss:2.3461\n",
      "[133]\tvalidation_0-mlogloss:2.34558\n",
      "[134]\tvalidation_0-mlogloss:2.34505\n",
      "[135]\tvalidation_0-mlogloss:2.34462\n",
      "[136]\tvalidation_0-mlogloss:2.3442\n",
      "[137]\tvalidation_0-mlogloss:2.34378\n",
      "[138]\tvalidation_0-mlogloss:2.34336\n",
      "[139]\tvalidation_0-mlogloss:2.34286\n",
      "[140]\tvalidation_0-mlogloss:2.34241\n",
      "[141]\tvalidation_0-mlogloss:2.34194\n",
      "[142]\tvalidation_0-mlogloss:2.34139\n",
      "[143]\tvalidation_0-mlogloss:2.34099\n",
      "[144]\tvalidation_0-mlogloss:2.34049\n",
      "[145]\tvalidation_0-mlogloss:2.34009\n",
      "[146]\tvalidation_0-mlogloss:2.33966\n",
      "[147]\tvalidation_0-mlogloss:2.33926\n",
      "[148]\tvalidation_0-mlogloss:2.33875\n",
      "[149]\tvalidation_0-mlogloss:2.33834\n",
      "[150]\tvalidation_0-mlogloss:2.33789\n",
      "[151]\tvalidation_0-mlogloss:2.33736\n",
      "[152]\tvalidation_0-mlogloss:2.33692\n",
      "[153]\tvalidation_0-mlogloss:2.33653\n",
      "[154]\tvalidation_0-mlogloss:2.33614\n",
      "[155]\tvalidation_0-mlogloss:2.33567\n",
      "[156]\tvalidation_0-mlogloss:2.33525\n",
      "[157]\tvalidation_0-mlogloss:2.3348\n",
      "[158]\tvalidation_0-mlogloss:2.33435\n",
      "[159]\tvalidation_0-mlogloss:2.33398\n",
      "[160]\tvalidation_0-mlogloss:2.33357\n",
      "[161]\tvalidation_0-mlogloss:2.33313\n",
      "[162]\tvalidation_0-mlogloss:2.3327\n",
      "[163]\tvalidation_0-mlogloss:2.33232\n",
      "[164]\tvalidation_0-mlogloss:2.33193\n",
      "[165]\tvalidation_0-mlogloss:2.33152\n",
      "[166]\tvalidation_0-mlogloss:2.33113\n",
      "[167]\tvalidation_0-mlogloss:2.33063\n",
      "[168]\tvalidation_0-mlogloss:2.33025\n",
      "[169]\tvalidation_0-mlogloss:2.32987\n",
      "[170]\tvalidation_0-mlogloss:2.32943\n",
      "[171]\tvalidation_0-mlogloss:2.329\n",
      "[172]\tvalidation_0-mlogloss:2.32856\n",
      "[173]\tvalidation_0-mlogloss:2.3281\n",
      "[174]\tvalidation_0-mlogloss:2.32772\n",
      "[175]\tvalidation_0-mlogloss:2.32734\n",
      "[176]\tvalidation_0-mlogloss:2.32695\n",
      "[177]\tvalidation_0-mlogloss:2.32655\n",
      "[178]\tvalidation_0-mlogloss:2.32617\n",
      "[179]\tvalidation_0-mlogloss:2.32583\n",
      "[180]\tvalidation_0-mlogloss:2.32546\n",
      "[181]\tvalidation_0-mlogloss:2.32509\n",
      "[182]\tvalidation_0-mlogloss:2.32464\n",
      "[183]\tvalidation_0-mlogloss:2.32424\n",
      "[184]\tvalidation_0-mlogloss:2.32389\n",
      "[185]\tvalidation_0-mlogloss:2.32348\n",
      "[186]\tvalidation_0-mlogloss:2.32309\n",
      "[187]\tvalidation_0-mlogloss:2.32271\n",
      "[188]\tvalidation_0-mlogloss:2.32241\n",
      "[189]\tvalidation_0-mlogloss:2.32214\n",
      "[190]\tvalidation_0-mlogloss:2.32185\n",
      "[191]\tvalidation_0-mlogloss:2.32149\n",
      "[192]\tvalidation_0-mlogloss:2.32116\n",
      "[193]\tvalidation_0-mlogloss:2.32082\n",
      "[194]\tvalidation_0-mlogloss:2.32048\n",
      "[195]\tvalidation_0-mlogloss:2.32005\n",
      "[196]\tvalidation_0-mlogloss:2.31971\n",
      "[197]\tvalidation_0-mlogloss:2.31937\n",
      "[198]\tvalidation_0-mlogloss:2.31895\n",
      "[199]\tvalidation_0-mlogloss:2.31863\n"
     ]
    },
    {
     "data": {
      "text/plain": [
       "XGBClassifier(base_score=0.5, booster='gbtree', colsample_bylevel=1,\n",
       "       colsample_bytree=0.5, gamma=0.2, learning_rate=0.1,\n",
       "       max_delta_step=0, max_depth=5, min_child_weight=1, missing=None,\n",
       "       n_estimators=200, n_jobs=-1, nthread=None,\n",
       "       objective='multi:softprob', random_state=42, reg_alpha=0,\n",
       "       reg_lambda=1, scale_pos_weight=1, seed=None, silent=True,\n",
       "       subsample=0.5)"
      ]
     },
     "execution_count": 23,
     "metadata": {},
     "output_type": "execute_result"
    }
   ],
   "source": [
    "base_xgbclf = xgb.XGBClassifier(\n",
    "    max_depth=5,\n",
    "    learning_rate=0.1,\n",
    "    n_estimators=200,\n",
    "    subsample=0.5,\n",
    "    colsample_bytree=0.5,\n",
    "    gamma=0.2,\n",
    "    n_jobs=-1,\n",
    "    random_state=42\n",
    "    )\n",
    "\n",
    "base_xgbclf.fit(base_X, base_y_true,\n",
    "                eval_set=[(base_X, base_y_true)],\n",
    "                eval_metric=\"mlogloss\",\n",
    "                verbose=True)"
   ]
  },
  {
   "cell_type": "code",
   "execution_count": 24,
   "metadata": {},
   "outputs": [],
   "source": [
    "base_y_pred_prob = np.round(base_xgbclf.predict_proba(valid_X), 4)\n",
    "csv_output = pd.DataFrame(columns=base_xgbclf.classes_, data=base_y_pred_prob)\n",
    "csv_output.insert(0, 'Id', valid_data['Id'])\n",
    "csv_output.to_csv('../results/XGBClassifier_base.csv', index=False)"
   ]
  },
  {
   "cell_type": "code",
   "execution_count": null,
   "metadata": {},
   "outputs": [],
   "source": []
  }
 ],
 "metadata": {
  "kernelspec": {
   "display_name": "Python 3",
   "language": "python",
   "name": "python3"
  },
  "language_info": {
   "codemirror_mode": {
    "name": "ipython",
    "version": 3
   },
   "file_extension": ".py",
   "mimetype": "text/x-python",
   "name": "python",
   "nbconvert_exporter": "python",
   "pygments_lexer": "ipython3",
   "version": "3.6.7"
  }
 },
 "nbformat": 4,
 "nbformat_minor": 2
}
